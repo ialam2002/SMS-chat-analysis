{
 "cells": [
  {
   "cell_type": "markdown",
   "id": "22610039-dac9-43c7-91a2-ec54cf868b33",
   "metadata": {},
   "source": [
    "# 1. SMS Chat Analysis\n",
    "***"
   ]
  },
  {
   "cell_type": "markdown",
   "id": "d380de47-c92c-4d76-8080-19c5010fd1af",
   "metadata": {},
   "source": [
    "## 1.1 Import Data"
   ]
  },
  {
   "cell_type": "markdown",
   "id": "8e075c98-c181-4388-ba43-b0fe3373fd23",
   "metadata": {},
   "source": [
    "We will import the SMS chat data into a `Pandas` dataframe"
   ]
  },
  {
   "cell_type": "code",
   "execution_count": 11,
   "id": "946b97ce-b32f-4de6-b648-4a66970ecdf9",
   "metadata": {},
   "outputs": [
    {
     "data": {
      "text/html": [
       "<div>\n",
       "<style scoped>\n",
       "    .dataframe tbody tr th:only-of-type {\n",
       "        vertical-align: middle;\n",
       "    }\n",
       "\n",
       "    .dataframe tbody tr th {\n",
       "        vertical-align: top;\n",
       "    }\n",
       "\n",
       "    .dataframe thead th {\n",
       "        text-align: right;\n",
       "    }\n",
       "</style>\n",
       "<table border=\"1\" class=\"dataframe\">\n",
       "  <thead>\n",
       "    <tr style=\"text-align: right;\">\n",
       "      <th></th>\n",
       "      <th>Unnamed: 0</th>\n",
       "      <th>id</th>\n",
       "      <th>Message</th>\n",
       "      <th>length</th>\n",
       "      <th>country</th>\n",
       "      <th>Date</th>\n",
       "    </tr>\n",
       "  </thead>\n",
       "  <tbody>\n",
       "    <tr>\n",
       "      <th>0</th>\n",
       "      <td>0</td>\n",
       "      <td>10120</td>\n",
       "      <td>Bugis oso near wat...</td>\n",
       "      <td>21</td>\n",
       "      <td>SG</td>\n",
       "      <td>2003/4</td>\n",
       "    </tr>\n",
       "    <tr>\n",
       "      <th>1</th>\n",
       "      <td>1</td>\n",
       "      <td>10121</td>\n",
       "      <td>Go until jurong point, crazy.. Available only ...</td>\n",
       "      <td>111</td>\n",
       "      <td>SG</td>\n",
       "      <td>2003/4</td>\n",
       "    </tr>\n",
       "    <tr>\n",
       "      <th>2</th>\n",
       "      <td>2</td>\n",
       "      <td>10122</td>\n",
       "      <td>I dunno until when... Lets go learn pilates...</td>\n",
       "      <td>46</td>\n",
       "      <td>SG</td>\n",
       "      <td>2003/4</td>\n",
       "    </tr>\n",
       "    <tr>\n",
       "      <th>3</th>\n",
       "      <td>3</td>\n",
       "      <td>10123</td>\n",
       "      <td>Den only weekdays got special price... Haiz......</td>\n",
       "      <td>140</td>\n",
       "      <td>SG</td>\n",
       "      <td>2003/4</td>\n",
       "    </tr>\n",
       "    <tr>\n",
       "      <th>4</th>\n",
       "      <td>4</td>\n",
       "      <td>10124</td>\n",
       "      <td>Meet after lunch la...</td>\n",
       "      <td>22</td>\n",
       "      <td>SG</td>\n",
       "      <td>2003/4</td>\n",
       "    </tr>\n",
       "  </tbody>\n",
       "</table>\n",
       "</div>"
      ],
      "text/plain": [
       "   Unnamed: 0     id                                            Message  \\\n",
       "0           0  10120                              Bugis oso near wat...   \n",
       "1           1  10121  Go until jurong point, crazy.. Available only ...   \n",
       "2           2  10122     I dunno until when... Lets go learn pilates...   \n",
       "3           3  10123  Den only weekdays got special price... Haiz......   \n",
       "4           4  10124                             Meet after lunch la...   \n",
       "\n",
       "  length country    Date  \n",
       "0     21      SG  2003/4  \n",
       "1    111      SG  2003/4  \n",
       "2     46      SG  2003/4  \n",
       "3    140      SG  2003/4  \n",
       "4     22      SG  2003/4  "
      ]
     },
     "execution_count": 11,
     "metadata": {},
     "output_type": "execute_result"
    }
   ],
   "source": [
    "import pandas as pd\n",
    "\n",
    "# read data from csv file\n",
    "sms_df = pd.read_csv('clean_nus_sms.csv')\n",
    "\n",
    "# print first 5 rows from dataset \n",
    "sms_df.head()\n"
   ]
  },
  {
   "cell_type": "code",
   "execution_count": 12,
   "id": "1a8f9089-9adb-4994-a05b-1d81c5453a2b",
   "metadata": {},
   "outputs": [
    {
     "name": "stdout",
     "output_type": "stream",
     "text": [
      "<class 'pandas.core.frame.DataFrame'>\n",
      "RangeIndex: 48598 entries, 0 to 48597\n",
      "Data columns (total 6 columns):\n",
      " #   Column      Non-Null Count  Dtype \n",
      "---  ------      --------------  ----- \n",
      " 0   Unnamed: 0  48598 non-null  int64 \n",
      " 1   id          48598 non-null  int64 \n",
      " 2   Message     48595 non-null  object\n",
      " 3   length      48598 non-null  object\n",
      " 4   country     48598 non-null  object\n",
      " 5   Date        48598 non-null  object\n",
      "dtypes: int64(2), object(4)\n",
      "memory usage: 2.2+ MB\n"
     ]
    }
   ],
   "source": [
    "# take a quick look at dataframe using dt.info\n",
    "\n",
    "sms_df.info()"
   ]
  },
  {
   "cell_type": "markdown",
   "id": "8dd91940-0a8e-472a-8a06-2b49ad22c51c",
   "metadata": {},
   "source": [
    "Some notes\n",
    "* The `Message` variable has 3 fewer values than the other variables, which will need to be addressed.\n",
    "* All of the values in the DataFrame are strings, except for the `id` variable.\n",
    "* There are 48,598 messages present in the DataFrame.\n",
    "* There are 5 columns in the dataset"
   ]
  },
  {
   "cell_type": "markdown",
   "id": "6f7556bd-02ec-452e-9b17-2eba3f794602",
   "metadata": {},
   "source": [
    "## 1.2 Analysis planning\n",
    "\n",
    "Now that we have a good idea of what the data looks like we can begin planning our analysis.\n",
    "\n",
    "One of the fundamental values in text messages is what it can tell me about how people communicate. Based on the data, I'm interested in performing sentiment analysis on the `Message` variable, and statistical analysis on how sentiment varies between countries.\n",
    "\n",
    "With this in mind, this solution pathway will focus on conducting sentiment analysis on messages within the NUS SMS Corpus. Here the goal is to create a model that can classify text to explore the sentiment present and compare the general sentiment of messages between countries in the NUS SMS Corpus."
   ]
  },
  {
   "cell_type": "markdown",
   "id": "fde7b65c-7654-42a6-b76d-bba6cb3886cf",
   "metadata": {},
   "source": [
    "## 1.3 Choose an NLP model or technique"
   ]
  },
  {
   "cell_type": "markdown",
   "id": "0ddba88e-8eda-4754-9e08-ca95c9219226",
   "metadata": {},
   "source": [
    "To accomplish this, I plan to include the following NLP tasks:\n",
    "\n",
    "* Text preprocessing using regex and NLTK.\n",
    "* Exploratory data analysis with pandas and seaborn.\n",
    "* Sentiment analysis using bag-of-words and a Naive Bayes classifier."
   ]
  },
  {
   "cell_type": "markdown",
   "id": "b0cee810-ec0e-48aa-a2d7-48c70972025d",
   "metadata": {},
   "source": [
    "## 1.4 Conduct text preprocessing"
   ]
  },
  {
   "cell_type": "markdown",
   "id": "b64ec6f9-b5a5-4db3-9466-b08ae2914ba3",
   "metadata": {},
   "source": [
    "I want to remove unnecessary characters and words and standardize the casing, so the following text preprocessing tasks are helpful: \n",
    "\n",
    "* Noise Removal\n",
    "    * Empty messages\n",
    "    * Punctuation\n",
    "    * Stopwords\n",
    "    * URLs\n",
    "    * HTML Tags\n",
    "\n",
    "* Text Normalization \n",
    "    * Lower Casing"
   ]
  },
  {
   "cell_type": "markdown",
   "id": "6942953d-4c48-4674-9ba0-3f2a7d3cda08",
   "metadata": {},
   "source": [
    "### 1.4.1 Remove empty messages"
   ]
  },
  {
   "cell_type": "code",
   "execution_count": 20,
   "id": "a468bd1d-4672-48e9-8d58-855d555c686c",
   "metadata": {},
   "outputs": [
    {
     "data": {
      "text/plain": [
       "48595"
      ]
     },
     "execution_count": 20,
     "metadata": {},
     "output_type": "execute_result"
    }
   ],
   "source": [
    "# use .dropna to remove empty rows\n",
    "sms_df = sms_df.dropna()\n",
    "len(sms_df)"
   ]
  },
  {
   "cell_type": "markdown",
   "id": "d3c863ea-62ea-4c91-b6ca-eff1d6451445",
   "metadata": {},
   "source": [
    "Three rows were removed where there were no messages"
   ]
  },
  {
   "cell_type": "markdown",
   "id": "58003876-13f5-4a45-a551-a27d835dd2af",
   "metadata": {},
   "source": [
    "### 1.4.2 Lowercase messages"
   ]
  },
  {
   "cell_type": "markdown",
   "id": "5462d889-113a-4f47-96b1-829a330410ff",
   "metadata": {},
   "source": [
    "Now all the messages will be converted to lowercase format using `.str()` method to then use the `.lower()` method"
   ]
  },
  {
   "cell_type": "code",
   "execution_count": 24,
   "id": "af6a6b5b-8f20-46ea-b8fa-5e06c81d0f79",
   "metadata": {},
   "outputs": [
    {
     "data": {
      "text/html": [
       "<div>\n",
       "<style scoped>\n",
       "    .dataframe tbody tr th:only-of-type {\n",
       "        vertical-align: middle;\n",
       "    }\n",
       "\n",
       "    .dataframe tbody tr th {\n",
       "        vertical-align: top;\n",
       "    }\n",
       "\n",
       "    .dataframe thead th {\n",
       "        text-align: right;\n",
       "    }\n",
       "</style>\n",
       "<table border=\"1\" class=\"dataframe\">\n",
       "  <thead>\n",
       "    <tr style=\"text-align: right;\">\n",
       "      <th></th>\n",
       "      <th>Unnamed: 0</th>\n",
       "      <th>id</th>\n",
       "      <th>Message</th>\n",
       "      <th>length</th>\n",
       "      <th>country</th>\n",
       "      <th>Date</th>\n",
       "      <th>Message_cleaned</th>\n",
       "    </tr>\n",
       "  </thead>\n",
       "  <tbody>\n",
       "    <tr>\n",
       "      <th>0</th>\n",
       "      <td>0</td>\n",
       "      <td>10120</td>\n",
       "      <td>Bugis oso near wat...</td>\n",
       "      <td>21</td>\n",
       "      <td>SG</td>\n",
       "      <td>2003/4</td>\n",
       "      <td>bugis oso near wat...</td>\n",
       "    </tr>\n",
       "    <tr>\n",
       "      <th>1</th>\n",
       "      <td>1</td>\n",
       "      <td>10121</td>\n",
       "      <td>Go until jurong point, crazy.. Available only ...</td>\n",
       "      <td>111</td>\n",
       "      <td>SG</td>\n",
       "      <td>2003/4</td>\n",
       "      <td>go until jurong point, crazy.. available only ...</td>\n",
       "    </tr>\n",
       "    <tr>\n",
       "      <th>2</th>\n",
       "      <td>2</td>\n",
       "      <td>10122</td>\n",
       "      <td>I dunno until when... Lets go learn pilates...</td>\n",
       "      <td>46</td>\n",
       "      <td>SG</td>\n",
       "      <td>2003/4</td>\n",
       "      <td>i dunno until when... lets go learn pilates...</td>\n",
       "    </tr>\n",
       "    <tr>\n",
       "      <th>3</th>\n",
       "      <td>3</td>\n",
       "      <td>10123</td>\n",
       "      <td>Den only weekdays got special price... Haiz......</td>\n",
       "      <td>140</td>\n",
       "      <td>SG</td>\n",
       "      <td>2003/4</td>\n",
       "      <td>den only weekdays got special price... haiz......</td>\n",
       "    </tr>\n",
       "    <tr>\n",
       "      <th>4</th>\n",
       "      <td>4</td>\n",
       "      <td>10124</td>\n",
       "      <td>Meet after lunch la...</td>\n",
       "      <td>22</td>\n",
       "      <td>SG</td>\n",
       "      <td>2003/4</td>\n",
       "      <td>meet after lunch la...</td>\n",
       "    </tr>\n",
       "  </tbody>\n",
       "</table>\n",
       "</div>"
      ],
      "text/plain": [
       "   Unnamed: 0     id                                            Message  \\\n",
       "0           0  10120                              Bugis oso near wat...   \n",
       "1           1  10121  Go until jurong point, crazy.. Available only ...   \n",
       "2           2  10122     I dunno until when... Lets go learn pilates...   \n",
       "3           3  10123  Den only weekdays got special price... Haiz......   \n",
       "4           4  10124                             Meet after lunch la...   \n",
       "\n",
       "  length country    Date                                    Message_cleaned  \n",
       "0     21      SG  2003/4                              bugis oso near wat...  \n",
       "1    111      SG  2003/4  go until jurong point, crazy.. available only ...  \n",
       "2     46      SG  2003/4     i dunno until when... lets go learn pilates...  \n",
       "3    140      SG  2003/4  den only weekdays got special price... haiz......  \n",
       "4     22      SG  2003/4                             meet after lunch la...  "
      ]
     },
     "execution_count": 24,
     "metadata": {},
     "output_type": "execute_result"
    }
   ],
   "source": [
    "# convert all characters in messges to lowercase \n",
    "sms_df['Message_cleaned'] = sms_df['Message'].str.lower()\n",
    "\n",
    "#view new column \n",
    "sms_df.head()"
   ]
  },
  {
   "cell_type": "markdown",
   "id": "96386de9-887b-49a4-a6eb-eae64acbd2c2",
   "metadata": {},
   "source": [
    "### 1.4.3 Remove punctuation"
   ]
  },
  {
   "cell_type": "markdown",
   "id": "db30db20-b619-4345-97ea-946d88ae26b1",
   "metadata": {},
   "source": [
    "Using a similar method we will remove the punctuation using the `.replace()` method"
   ]
  },
  {
   "cell_type": "code",
   "execution_count": 27,
   "id": "4c739815-8543-424d-85a7-783c563a90e7",
   "metadata": {},
   "outputs": [
    {
     "data": {
      "text/html": [
       "<div>\n",
       "<style scoped>\n",
       "    .dataframe tbody tr th:only-of-type {\n",
       "        vertical-align: middle;\n",
       "    }\n",
       "\n",
       "    .dataframe tbody tr th {\n",
       "        vertical-align: top;\n",
       "    }\n",
       "\n",
       "    .dataframe thead th {\n",
       "        text-align: right;\n",
       "    }\n",
       "</style>\n",
       "<table border=\"1\" class=\"dataframe\">\n",
       "  <thead>\n",
       "    <tr style=\"text-align: right;\">\n",
       "      <th></th>\n",
       "      <th>Unnamed: 0</th>\n",
       "      <th>id</th>\n",
       "      <th>Message</th>\n",
       "      <th>length</th>\n",
       "      <th>country</th>\n",
       "      <th>Date</th>\n",
       "      <th>Message_cleaned</th>\n",
       "    </tr>\n",
       "  </thead>\n",
       "  <tbody>\n",
       "    <tr>\n",
       "      <th>0</th>\n",
       "      <td>0</td>\n",
       "      <td>10120</td>\n",
       "      <td>Bugis oso near wat...</td>\n",
       "      <td>21</td>\n",
       "      <td>SG</td>\n",
       "      <td>2003/4</td>\n",
       "      <td>bugis oso near wat...</td>\n",
       "    </tr>\n",
       "    <tr>\n",
       "      <th>1</th>\n",
       "      <td>1</td>\n",
       "      <td>10121</td>\n",
       "      <td>Go until jurong point, crazy.. Available only ...</td>\n",
       "      <td>111</td>\n",
       "      <td>SG</td>\n",
       "      <td>2003/4</td>\n",
       "      <td>go until jurong point, crazy.. available only ...</td>\n",
       "    </tr>\n",
       "    <tr>\n",
       "      <th>2</th>\n",
       "      <td>2</td>\n",
       "      <td>10122</td>\n",
       "      <td>I dunno until when... Lets go learn pilates...</td>\n",
       "      <td>46</td>\n",
       "      <td>SG</td>\n",
       "      <td>2003/4</td>\n",
       "      <td>i dunno until when... lets go learn pilates...</td>\n",
       "    </tr>\n",
       "    <tr>\n",
       "      <th>3</th>\n",
       "      <td>3</td>\n",
       "      <td>10123</td>\n",
       "      <td>Den only weekdays got special price... Haiz......</td>\n",
       "      <td>140</td>\n",
       "      <td>SG</td>\n",
       "      <td>2003/4</td>\n",
       "      <td>den only weekdays got special price... haiz......</td>\n",
       "    </tr>\n",
       "    <tr>\n",
       "      <th>4</th>\n",
       "      <td>4</td>\n",
       "      <td>10124</td>\n",
       "      <td>Meet after lunch la...</td>\n",
       "      <td>22</td>\n",
       "      <td>SG</td>\n",
       "      <td>2003/4</td>\n",
       "      <td>meet after lunch la...</td>\n",
       "    </tr>\n",
       "  </tbody>\n",
       "</table>\n",
       "</div>"
      ],
      "text/plain": [
       "   Unnamed: 0     id                                            Message  \\\n",
       "0           0  10120                              Bugis oso near wat...   \n",
       "1           1  10121  Go until jurong point, crazy.. Available only ...   \n",
       "2           2  10122     I dunno until when... Lets go learn pilates...   \n",
       "3           3  10123  Den only weekdays got special price... Haiz......   \n",
       "4           4  10124                             Meet after lunch la...   \n",
       "\n",
       "  length country    Date                                    Message_cleaned  \n",
       "0     21      SG  2003/4                              bugis oso near wat...  \n",
       "1    111      SG  2003/4  go until jurong point, crazy.. available only ...  \n",
       "2     46      SG  2003/4     i dunno until when... lets go learn pilates...  \n",
       "3    140      SG  2003/4  den only weekdays got special price... haiz......  \n",
       "4     22      SG  2003/4                             meet after lunch la...  "
      ]
     },
     "execution_count": 27,
     "metadata": {},
     "output_type": "execute_result"
    }
   ],
   "source": [
    "# remove punctuation from message and put back in \n",
    "sms_df['Message_cleaned'] = sms_df['Message_cleaned'].str.replace('[^\\w\\s]','')\n",
    "\n",
    "# view changes\n",
    "sms_df.head()"
   ]
  },
  {
   "cell_type": "markdown",
   "id": "7acb0fd8-336b-44a7-be20-dbe906c19207",
   "metadata": {},
   "source": [
    "### 1.4.4 Remove stopwords"
   ]
  },
  {
   "cell_type": "markdown",
   "id": "962e9064-9caa-4d65-b9cb-f07c6a11c6c5",
   "metadata": {},
   "source": [
    "In some NLP techniques removing stopwords is an effective approach, but for sentiment analysis removing stopwords can lead to the loss of valuable information. Lets determine if stopwords can be removed in this case or not using `NLTK`"
   ]
  },
  {
   "cell_type": "code",
   "execution_count": 30,
   "id": "5fcee4d4-09e2-423a-a3b7-86844b2230de",
   "metadata": {},
   "outputs": [
    {
     "name": "stderr",
     "output_type": "stream",
     "text": [
      "[nltk_data] Downloading package stopwords to C:\\Users\\Iftekhar\n",
      "[nltk_data]     Alam\\AppData\\Roaming\\nltk_data...\n",
      "[nltk_data]   Package stopwords is already up-to-date!\n"
     ]
    },
    {
     "data": {
      "text/plain": [
       "True"
      ]
     },
     "execution_count": 30,
     "metadata": {},
     "output_type": "execute_result"
    }
   ],
   "source": [
    "# import nltk library\n",
    "import nltk\n",
    "# download stopwords from nltk\n",
    "nltk.download('stopwords')"
   ]
  },
  {
   "cell_type": "code",
   "execution_count": 31,
   "id": "5b1fc83c-63bd-4205-8af7-96c31a1ba379",
   "metadata": {
    "scrolled": true
   },
   "outputs": [
    {
     "data": {
      "text/plain": [
       "\"i, me, my, myself, we, our, ours, ourselves, you, you're, you've, you'll, you'd, your, yours, yourself, yourselves, he, him, his, himself, she, she's, her, hers, herself, it, it's, its, itself, they, them, their, theirs, themselves, what, which, who, whom, this, that, that'll, these, those, am, is, are, was, were, be, been, being, have, has, had, having, do, does, did, doing, a, an, the, and, but, if, or, because, as, until, while, of, at, by, for, with, about, against, between, into, through, during, before, after, above, below, to, from, up, down, in, out, on, off, over, under, again, further, then, once, here, there, when, where, why, how, all, any, both, each, few, more, most, other, some, such, no, nor, not, only, own, same, so, than, too, very, s, t, can, will, just, don, don't, should, should've, now, d, ll, m, o, re, ve, y, ain, aren, aren't, couldn, couldn't, didn, didn't, doesn, doesn't, hadn, hadn't, hasn, hasn't, haven, haven't, isn, isn't, ma, mightn, mightn't, mustn, mustn't, needn, needn't, shan, shan't, shouldn, shouldn't, wasn, wasn't, weren, weren't, won, won't, wouldn, wouldn't\""
      ]
     },
     "execution_count": 31,
     "metadata": {},
     "output_type": "execute_result"
    }
   ],
   "source": [
    "# import stopwords\n",
    "from nltk.corpus import stopwords\n",
    "\n",
    "# View stopwords in english\n",
    "\", \".join(stopwords.words('english'))"
   ]
  },
  {
   "cell_type": "markdown",
   "id": "0a7d4874-3753-4a48-a383-d75f4dd1c4bb",
   "metadata": {},
   "source": [
    "These stopwords are necessary to understand the sentiment of the message and removing them can alter the meaning of many of the messages. So the stopwords will not be removed."
   ]
  },
  {
   "cell_type": "markdown",
   "id": "34263524-1e14-47d5-be07-27bb1b9e56ae",
   "metadata": {},
   "source": [
    "### 1.4.5 Remove URLs"
   ]
  },
  {
   "cell_type": "markdown",
   "id": "931c33df-b200-45f6-8088-657b09ac1bbb",
   "metadata": {},
   "source": [
    "Some of these messages have URLs which should be removed. Regular expressions will be used to perform the removal."
   ]
  },
  {
   "cell_type": "code",
   "execution_count": 35,
   "id": "aa209bac-fa0d-4bcc-ba1e-970683f4fd8d",
   "metadata": {},
   "outputs": [],
   "source": [
    "# import regular expressions library\n",
    "import re"
   ]
  },
  {
   "cell_type": "code",
   "execution_count": 36,
   "id": "44798184-5474-481a-be1f-fce850808ca3",
   "metadata": {},
   "outputs": [],
   "source": [
    "# define function to remove URLs from messages\n",
    "def remove_urls(text):\n",
    "    url_pattern = re.compile(r'https?://\\S+|www\\.\\S+')\n",
    "    return url_pattern.sub(r'', text) "
   ]
  },
  {
   "cell_type": "code",
   "execution_count": 37,
   "id": "454d235a-3869-4eed-83cd-7b0124d23e0a",
   "metadata": {},
   "outputs": [
    {
     "data": {
      "text/html": [
       "<div>\n",
       "<style scoped>\n",
       "    .dataframe tbody tr th:only-of-type {\n",
       "        vertical-align: middle;\n",
       "    }\n",
       "\n",
       "    .dataframe tbody tr th {\n",
       "        vertical-align: top;\n",
       "    }\n",
       "\n",
       "    .dataframe thead th {\n",
       "        text-align: right;\n",
       "    }\n",
       "</style>\n",
       "<table border=\"1\" class=\"dataframe\">\n",
       "  <thead>\n",
       "    <tr style=\"text-align: right;\">\n",
       "      <th></th>\n",
       "      <th>Unnamed: 0</th>\n",
       "      <th>id</th>\n",
       "      <th>Message</th>\n",
       "      <th>length</th>\n",
       "      <th>country</th>\n",
       "      <th>Date</th>\n",
       "      <th>Message_cleaned</th>\n",
       "    </tr>\n",
       "  </thead>\n",
       "  <tbody>\n",
       "    <tr>\n",
       "      <th>0</th>\n",
       "      <td>0</td>\n",
       "      <td>10120</td>\n",
       "      <td>Bugis oso near wat...</td>\n",
       "      <td>21</td>\n",
       "      <td>SG</td>\n",
       "      <td>2003/4</td>\n",
       "      <td>bugis oso near wat...</td>\n",
       "    </tr>\n",
       "    <tr>\n",
       "      <th>1</th>\n",
       "      <td>1</td>\n",
       "      <td>10121</td>\n",
       "      <td>Go until jurong point, crazy.. Available only ...</td>\n",
       "      <td>111</td>\n",
       "      <td>SG</td>\n",
       "      <td>2003/4</td>\n",
       "      <td>go until jurong point, crazy.. available only ...</td>\n",
       "    </tr>\n",
       "    <tr>\n",
       "      <th>2</th>\n",
       "      <td>2</td>\n",
       "      <td>10122</td>\n",
       "      <td>I dunno until when... Lets go learn pilates...</td>\n",
       "      <td>46</td>\n",
       "      <td>SG</td>\n",
       "      <td>2003/4</td>\n",
       "      <td>i dunno until when... lets go learn pilates...</td>\n",
       "    </tr>\n",
       "    <tr>\n",
       "      <th>3</th>\n",
       "      <td>3</td>\n",
       "      <td>10123</td>\n",
       "      <td>Den only weekdays got special price... Haiz......</td>\n",
       "      <td>140</td>\n",
       "      <td>SG</td>\n",
       "      <td>2003/4</td>\n",
       "      <td>den only weekdays got special price... haiz......</td>\n",
       "    </tr>\n",
       "    <tr>\n",
       "      <th>4</th>\n",
       "      <td>4</td>\n",
       "      <td>10124</td>\n",
       "      <td>Meet after lunch la...</td>\n",
       "      <td>22</td>\n",
       "      <td>SG</td>\n",
       "      <td>2003/4</td>\n",
       "      <td>meet after lunch la...</td>\n",
       "    </tr>\n",
       "  </tbody>\n",
       "</table>\n",
       "</div>"
      ],
      "text/plain": [
       "   Unnamed: 0     id                                            Message  \\\n",
       "0           0  10120                              Bugis oso near wat...   \n",
       "1           1  10121  Go until jurong point, crazy.. Available only ...   \n",
       "2           2  10122     I dunno until when... Lets go learn pilates...   \n",
       "3           3  10123  Den only weekdays got special price... Haiz......   \n",
       "4           4  10124                             Meet after lunch la...   \n",
       "\n",
       "  length country    Date                                    Message_cleaned  \n",
       "0     21      SG  2003/4                              bugis oso near wat...  \n",
       "1    111      SG  2003/4  go until jurong point, crazy.. available only ...  \n",
       "2     46      SG  2003/4     i dunno until when... lets go learn pilates...  \n",
       "3    140      SG  2003/4  den only weekdays got special price... haiz......  \n",
       "4     22      SG  2003/4                             meet after lunch la...  "
      ]
     },
     "execution_count": 37,
     "metadata": {},
     "output_type": "execute_result"
    }
   ],
   "source": [
    "# remove urls from messages\n",
    "\n",
    "sms_df['Message_cleaned'] = sms_df['Message_cleaned'].apply(lambda text: remove_urls(text))\n",
    "#view changes\n",
    "sms_df.head()"
   ]
  },
  {
   "cell_type": "markdown",
   "id": "ed6d51c7-79bd-4909-81fd-110b5545fd24",
   "metadata": {},
   "source": [
    "### 1.4.6 Remove HTML"
   ]
  },
  {
   "cell_type": "markdown",
   "id": "a9427f53-6d61-4472-b798-b5e3b0426a34",
   "metadata": {},
   "source": [
    "As before we will remove the HTML from the messages"
   ]
  },
  {
   "cell_type": "code",
   "execution_count": 40,
   "id": "9211c5cd-d3fc-46bb-899e-3b055bc79264",
   "metadata": {},
   "outputs": [],
   "source": [
    "# define function to remove HTML Tags\n",
    "def remove_html(text):\n",
    "    html_pattern = re.compile('<.*?>')\n",
    "    return html_pattern.sub(r'', text)"
   ]
  },
  {
   "cell_type": "code",
   "execution_count": 41,
   "id": "5385ac5e-4a5a-4cf2-abe1-f9fce4d45105",
   "metadata": {},
   "outputs": [
    {
     "data": {
      "text/html": [
       "<div>\n",
       "<style scoped>\n",
       "    .dataframe tbody tr th:only-of-type {\n",
       "        vertical-align: middle;\n",
       "    }\n",
       "\n",
       "    .dataframe tbody tr th {\n",
       "        vertical-align: top;\n",
       "    }\n",
       "\n",
       "    .dataframe thead th {\n",
       "        text-align: right;\n",
       "    }\n",
       "</style>\n",
       "<table border=\"1\" class=\"dataframe\">\n",
       "  <thead>\n",
       "    <tr style=\"text-align: right;\">\n",
       "      <th></th>\n",
       "      <th>Unnamed: 0</th>\n",
       "      <th>id</th>\n",
       "      <th>Message</th>\n",
       "      <th>length</th>\n",
       "      <th>country</th>\n",
       "      <th>Date</th>\n",
       "      <th>Message_cleaned</th>\n",
       "    </tr>\n",
       "  </thead>\n",
       "  <tbody>\n",
       "    <tr>\n",
       "      <th>0</th>\n",
       "      <td>0</td>\n",
       "      <td>10120</td>\n",
       "      <td>Bugis oso near wat...</td>\n",
       "      <td>21</td>\n",
       "      <td>SG</td>\n",
       "      <td>2003/4</td>\n",
       "      <td>bugis oso near wat...</td>\n",
       "    </tr>\n",
       "    <tr>\n",
       "      <th>1</th>\n",
       "      <td>1</td>\n",
       "      <td>10121</td>\n",
       "      <td>Go until jurong point, crazy.. Available only ...</td>\n",
       "      <td>111</td>\n",
       "      <td>SG</td>\n",
       "      <td>2003/4</td>\n",
       "      <td>go until jurong point, crazy.. available only ...</td>\n",
       "    </tr>\n",
       "    <tr>\n",
       "      <th>2</th>\n",
       "      <td>2</td>\n",
       "      <td>10122</td>\n",
       "      <td>I dunno until when... Lets go learn pilates...</td>\n",
       "      <td>46</td>\n",
       "      <td>SG</td>\n",
       "      <td>2003/4</td>\n",
       "      <td>i dunno until when... lets go learn pilates...</td>\n",
       "    </tr>\n",
       "    <tr>\n",
       "      <th>3</th>\n",
       "      <td>3</td>\n",
       "      <td>10123</td>\n",
       "      <td>Den only weekdays got special price... Haiz......</td>\n",
       "      <td>140</td>\n",
       "      <td>SG</td>\n",
       "      <td>2003/4</td>\n",
       "      <td>den only weekdays got special price... haiz......</td>\n",
       "    </tr>\n",
       "    <tr>\n",
       "      <th>4</th>\n",
       "      <td>4</td>\n",
       "      <td>10124</td>\n",
       "      <td>Meet after lunch la...</td>\n",
       "      <td>22</td>\n",
       "      <td>SG</td>\n",
       "      <td>2003/4</td>\n",
       "      <td>meet after lunch la...</td>\n",
       "    </tr>\n",
       "  </tbody>\n",
       "</table>\n",
       "</div>"
      ],
      "text/plain": [
       "   Unnamed: 0     id                                            Message  \\\n",
       "0           0  10120                              Bugis oso near wat...   \n",
       "1           1  10121  Go until jurong point, crazy.. Available only ...   \n",
       "2           2  10122     I dunno until when... Lets go learn pilates...   \n",
       "3           3  10123  Den only weekdays got special price... Haiz......   \n",
       "4           4  10124                             Meet after lunch la...   \n",
       "\n",
       "  length country    Date                                    Message_cleaned  \n",
       "0     21      SG  2003/4                              bugis oso near wat...  \n",
       "1    111      SG  2003/4  go until jurong point, crazy.. available only ...  \n",
       "2     46      SG  2003/4     i dunno until when... lets go learn pilates...  \n",
       "3    140      SG  2003/4  den only weekdays got special price... haiz......  \n",
       "4     22      SG  2003/4                             meet after lunch la...  "
      ]
     },
     "execution_count": 41,
     "metadata": {},
     "output_type": "execute_result"
    }
   ],
   "source": [
    "# remove HTML tags from messages\n",
    "sms_df['Message_cleaned'] = sms_df['Message_cleaned'].apply(lambda text: remove_html(text))\n",
    "\n",
    "#view changes\n",
    "sms_df.head()"
   ]
  },
  {
   "cell_type": "markdown",
   "id": "29ad1769-37ab-4be1-9e3c-8a34ce578f93",
   "metadata": {},
   "source": [
    "### 1.4.7 Tokenize messages"
   ]
  },
  {
   "cell_type": "markdown",
   "id": "7eeb2818-2315-4faa-806d-6dc4be4d8c5b",
   "metadata": {},
   "source": [
    "To do sentiment analysis we will have to tokenize the messages so that they can be processed. The `word_tokenize` module from `nltk` will be used to perform tokenization."
   ]
  },
  {
   "cell_type": "code",
   "execution_count": 44,
   "id": "d7000fb5-8007-4cfb-bc7c-6aaf10866fc3",
   "metadata": {},
   "outputs": [
    {
     "name": "stderr",
     "output_type": "stream",
     "text": [
      "[nltk_data] Downloading package punkt to C:\\Users\\Iftekhar\n",
      "[nltk_data]     Alam\\AppData\\Roaming\\nltk_data...\n",
      "[nltk_data]   Package punkt is already up-to-date!\n"
     ]
    },
    {
     "data": {
      "text/html": [
       "<div>\n",
       "<style scoped>\n",
       "    .dataframe tbody tr th:only-of-type {\n",
       "        vertical-align: middle;\n",
       "    }\n",
       "\n",
       "    .dataframe tbody tr th {\n",
       "        vertical-align: top;\n",
       "    }\n",
       "\n",
       "    .dataframe thead th {\n",
       "        text-align: right;\n",
       "    }\n",
       "</style>\n",
       "<table border=\"1\" class=\"dataframe\">\n",
       "  <thead>\n",
       "    <tr style=\"text-align: right;\">\n",
       "      <th></th>\n",
       "      <th>Unnamed: 0</th>\n",
       "      <th>id</th>\n",
       "      <th>Message</th>\n",
       "      <th>length</th>\n",
       "      <th>country</th>\n",
       "      <th>Date</th>\n",
       "      <th>Message_cleaned</th>\n",
       "      <th>Message_tokenized</th>\n",
       "    </tr>\n",
       "  </thead>\n",
       "  <tbody>\n",
       "    <tr>\n",
       "      <th>0</th>\n",
       "      <td>0</td>\n",
       "      <td>10120</td>\n",
       "      <td>Bugis oso near wat...</td>\n",
       "      <td>21</td>\n",
       "      <td>SG</td>\n",
       "      <td>2003/4</td>\n",
       "      <td>bugis oso near wat...</td>\n",
       "      <td>[bugis, oso, near, wat, ...]</td>\n",
       "    </tr>\n",
       "    <tr>\n",
       "      <th>1</th>\n",
       "      <td>1</td>\n",
       "      <td>10121</td>\n",
       "      <td>Go until jurong point, crazy.. Available only ...</td>\n",
       "      <td>111</td>\n",
       "      <td>SG</td>\n",
       "      <td>2003/4</td>\n",
       "      <td>go until jurong point, crazy.. available only ...</td>\n",
       "      <td>[go, until, jurong, point, ,, crazy, .., avail...</td>\n",
       "    </tr>\n",
       "    <tr>\n",
       "      <th>2</th>\n",
       "      <td>2</td>\n",
       "      <td>10122</td>\n",
       "      <td>I dunno until when... Lets go learn pilates...</td>\n",
       "      <td>46</td>\n",
       "      <td>SG</td>\n",
       "      <td>2003/4</td>\n",
       "      <td>i dunno until when... lets go learn pilates...</td>\n",
       "      <td>[i, dunno, until, when, ..., lets, go, learn, ...</td>\n",
       "    </tr>\n",
       "    <tr>\n",
       "      <th>3</th>\n",
       "      <td>3</td>\n",
       "      <td>10123</td>\n",
       "      <td>Den only weekdays got special price... Haiz......</td>\n",
       "      <td>140</td>\n",
       "      <td>SG</td>\n",
       "      <td>2003/4</td>\n",
       "      <td>den only weekdays got special price... haiz......</td>\n",
       "      <td>[den, only, weekdays, got, special, price, ......</td>\n",
       "    </tr>\n",
       "    <tr>\n",
       "      <th>4</th>\n",
       "      <td>4</td>\n",
       "      <td>10124</td>\n",
       "      <td>Meet after lunch la...</td>\n",
       "      <td>22</td>\n",
       "      <td>SG</td>\n",
       "      <td>2003/4</td>\n",
       "      <td>meet after lunch la...</td>\n",
       "      <td>[meet, after, lunch, la, ...]</td>\n",
       "    </tr>\n",
       "  </tbody>\n",
       "</table>\n",
       "</div>"
      ],
      "text/plain": [
       "   Unnamed: 0     id                                            Message  \\\n",
       "0           0  10120                              Bugis oso near wat...   \n",
       "1           1  10121  Go until jurong point, crazy.. Available only ...   \n",
       "2           2  10122     I dunno until when... Lets go learn pilates...   \n",
       "3           3  10123  Den only weekdays got special price... Haiz......   \n",
       "4           4  10124                             Meet after lunch la...   \n",
       "\n",
       "  length country    Date                                    Message_cleaned  \\\n",
       "0     21      SG  2003/4                              bugis oso near wat...   \n",
       "1    111      SG  2003/4  go until jurong point, crazy.. available only ...   \n",
       "2     46      SG  2003/4     i dunno until when... lets go learn pilates...   \n",
       "3    140      SG  2003/4  den only weekdays got special price... haiz......   \n",
       "4     22      SG  2003/4                             meet after lunch la...   \n",
       "\n",
       "                                   Message_tokenized  \n",
       "0                       [bugis, oso, near, wat, ...]  \n",
       "1  [go, until, jurong, point, ,, crazy, .., avail...  \n",
       "2  [i, dunno, until, when, ..., lets, go, learn, ...  \n",
       "3  [den, only, weekdays, got, special, price, ......  \n",
       "4                      [meet, after, lunch, la, ...]  "
      ]
     },
     "execution_count": 44,
     "metadata": {},
     "output_type": "execute_result"
    }
   ],
   "source": [
    "# import tokenizer\n",
    "from nltk.tokenize import word_tokenize\n",
    "\n",
    "nltk.download('punkt')\n",
    "# tokenize messages\n",
    "# Tokenize cleaned messages\n",
    "sms_df['Message_tokenized'] = sms_df.apply(lambda x: nltk.word_tokenize(x['Message_cleaned']), axis=1)\n",
    "sms_df.head()"
   ]
  },
  {
   "cell_type": "code",
   "execution_count": 45,
   "id": "edc4fced-9698-4706-a66b-0e91c9076d72",
   "metadata": {},
   "outputs": [],
   "source": [
    "# Save the preprocessed DataFrame\n",
    "sms_df.to_csv('processed_clean_nus_sms.csv', header = True)"
   ]
  },
  {
   "cell_type": "markdown",
   "id": "02792b96-b76e-49b6-8989-40e052811660",
   "metadata": {},
   "source": [
    "## 1.5 Conduct Analysis"
   ]
  },
  {
   "cell_type": "markdown",
   "id": "7ffabaa8-8289-4780-9089-21bb3467c0cb",
   "metadata": {},
   "source": [
    "### 1.5.1 Exploratory Data Analysis"
   ]
  },
  {
   "cell_type": "markdown",
   "id": "df74de5f-f3d2-4cdf-bdf5-46c317cc858e",
   "metadata": {},
   "source": [
    "It is time to conduct exploratory data analysis. I will create visualizations of the data to get a better understanding of the data or any patterns"
   ]
  },
  {
   "cell_type": "code",
   "execution_count": 49,
   "id": "ed6b7cdc-3026-468d-bbb6-c7f07719a289",
   "metadata": {},
   "outputs": [],
   "source": [
    "# Import libraries for plotting\n",
    "import matplotlib.pyplot as plt\n",
    "import seaborn as sns\n",
    "# Magic function for plotting in notebook\n",
    "%matplotlib inline"
   ]
  },
  {
   "cell_type": "markdown",
   "id": "691fa86a-06b6-4c10-ae6f-6080ceb11048",
   "metadata": {},
   "source": [
    "Lets take a look at the `country` column to see how many countries there are in the data. `.nunique()` method will be used to count the number of unique countries "
   ]
  },
  {
   "cell_type": "code",
   "execution_count": 51,
   "id": "23221bf9-24fe-4b6c-994c-aecce44b3924",
   "metadata": {},
   "outputs": [
    {
     "data": {
      "text/plain": [
       "40"
      ]
     },
     "execution_count": 51,
     "metadata": {},
     "output_type": "execute_result"
    }
   ],
   "source": [
    "# count number of unique countries\n",
    "sms_df['country'].nunique()"
   ]
  },
  {
   "cell_type": "markdown",
   "id": "afb2d5cd-a9e5-4b47-a5ce-a4834fe5ef2e",
   "metadata": {},
   "source": [
    "There are 40 countries represented in this dataset. We can also view the number of messages per country."
   ]
  },
  {
   "cell_type": "code",
   "execution_count": 53,
   "id": "4824c6f9-d969-4e4d-ad5c-0355d55cb1c0",
   "metadata": {},
   "outputs": [
    {
     "data": {
      "text/plain": [
       "country\n",
       "Singapore              22013\n",
       "SG                      9804\n",
       "India                   6901\n",
       "United States           3749\n",
       "USA                     1931\n",
       "Sri Lanka               1017\n",
       "Malaysia                 766\n",
       "Pakistan                 751\n",
       "unknown                  602\n",
       "Canada                   198\n",
       "Bangladesh               126\n",
       "China                    107\n",
       "india                    105\n",
       "INDIA                     79\n",
       "Philippines               67\n",
       "Indonesia                 48\n",
       "Nepal                     39\n",
       "srilanka                  30\n",
       "United Kingdom            30\n",
       "Hungary                   28\n",
       "Serbia                    22\n",
       "Kenya                     20\n",
       "Ghana                     18\n",
       "Italia                    10\n",
       "Turkey                    10\n",
       "Trinidad and Tobago       10\n",
       "Lebanon                   10\n",
       "Slovenia                  10\n",
       "Nigeria                   10\n",
       "New Zealand               10\n",
       "Macedonia                 10\n",
       "UK                        10\n",
       "Morocco                    9\n",
       "Romania                    9\n",
       "Australia                  9\n",
       "jamaica                    8\n",
       "BARBADOS                   8\n",
       "Spain                      5\n",
       "France                     5\n",
       "MY                         1\n",
       "Name: count, dtype: int64"
      ]
     },
     "execution_count": 53,
     "metadata": {},
     "output_type": "execute_result"
    }
   ],
   "source": [
    "# view number of messages per country\n",
    "sms_df['country'].value_counts()"
   ]
  },
  {
   "cell_type": "markdown",
   "id": "4f05479d-d87f-46f8-90b6-26a2bcfd210c",
   "metadata": {},
   "source": [
    "Looking at this there are some duplicates, `SG` represents Singapore while `USA` is for the United States. So the values need to be cleaned so that the data is not so split up. `.replace()` method will be used to fix this."
   ]
  },
  {
   "cell_type": "code",
   "execution_count": 55,
   "id": "09f19b53-8fba-4336-9065-b69c3b58d480",
   "metadata": {},
   "outputs": [
    {
     "data": {
      "text/plain": [
       "33"
      ]
     },
     "execution_count": 55,
     "metadata": {},
     "output_type": "execute_result"
    }
   ],
   "source": [
    "# Correct values\n",
    "sms_df = sms_df.replace({'country':{'SG':'Singapore', \n",
    "                            'USA':'United States',\n",
    "                            'india':'India',\n",
    "                            'INDIA':'India',\n",
    "                            'srilanka':'Sri Lanka',\n",
    "                            'UK':'United Kingdom',\n",
    "                            'BARBADOS':'Barbados',\n",
    "                            'jamaica':'Jamaica',\n",
    "                            'MY':'Malaysia',\n",
    "                            'unknown':'Unknown'}})\n",
    "#count the real number of unique countries\n",
    "sms_df['country'].nunique()"
   ]
  },
  {
   "cell_type": "code",
   "execution_count": 56,
   "id": "4fb3cf0b-ae02-466e-a5eb-751baec632bf",
   "metadata": {
    "scrolled": true
   },
   "outputs": [
    {
     "data": {
      "text/plain": [
       "country\n",
       "Singapore              31817\n",
       "India                   7085\n",
       "United States           5680\n",
       "Sri Lanka               1047\n",
       "Malaysia                 767\n",
       "Pakistan                 751\n",
       "Unknown                  602\n",
       "Canada                   198\n",
       "Bangladesh               126\n",
       "China                    107\n",
       "Philippines               67\n",
       "Indonesia                 48\n",
       "United Kingdom            40\n",
       "Nepal                     39\n",
       "Hungary                   28\n",
       "Serbia                    22\n",
       "Kenya                     20\n",
       "Ghana                     18\n",
       "Italia                    10\n",
       "Trinidad and Tobago       10\n",
       "Lebanon                   10\n",
       "Turkey                    10\n",
       "Nigeria                   10\n",
       "New Zealand               10\n",
       "Slovenia                  10\n",
       "Macedonia                 10\n",
       "Morocco                    9\n",
       "Australia                  9\n",
       "Romania                    9\n",
       "Jamaica                    8\n",
       "Barbados                   8\n",
       "Spain                      5\n",
       "France                     5\n",
       "Name: count, dtype: int64"
      ]
     },
     "execution_count": 56,
     "metadata": {},
     "output_type": "execute_result"
    }
   ],
   "source": [
    "# view number of messages per country\n",
    "sms_df['country'].value_counts()"
   ]
  },
  {
   "cell_type": "markdown",
   "id": "b1a11389-4bad-4f71-9efe-50cbefca3859",
   "metadata": {},
   "source": [
    "A bar plot will be used to represent the top 10 countries in the data."
   ]
  },
  {
   "cell_type": "code",
   "execution_count": 58,
   "id": "ad1b0aa0-783e-4209-88f7-5c89735384da",
   "metadata": {},
   "outputs": [
    {
     "data": {
      "text/plain": [
       "<bound method PlotAccessor.barh of <pandas.plotting._core.PlotAccessor object at 0x000002AC8F1682D0>>"
      ]
     },
     "execution_count": 58,
     "metadata": {},
     "output_type": "execute_result"
    }
   ],
   "source": [
    "# assign number of messages per country to variable\n",
    "country_value_counts = sms_df['country'].value_counts()\n",
    "\n",
    "# Number of messages per country for the top 10 most active countries\n",
    "top_10_country_value_counts = country_value_counts.head(10) \n",
    "\n",
    "# make barplot\n",
    "top_10_country_value_counts.plot.barh"
   ]
  },
  {
   "cell_type": "markdown",
   "id": "5705bd36-63ea-4a05-b5ee-63ad1d53d972",
   "metadata": {},
   "source": [
    "Here we see that the United States, India, and Singapore make then majority of the messages in the dataset."
   ]
  },
  {
   "cell_type": "markdown",
   "id": "2c5a5dbb-42ac-453b-bac1-ada52440f94c",
   "metadata": {},
   "source": [
    "### 1.5.2 Sentiment Analysis"
   ]
  },
  {
   "cell_type": "markdown",
   "id": "d70de266-4f27-438f-a3d7-340ba1220591",
   "metadata": {},
   "source": [
    "Now that we are done with EDA, we can move on to sentiment analysis. There are several approaches one can take to analyzing sentiment of text data, and I will primarily use models from the NLTK library. Here a message will be categorized into one of two categories:\n",
    "\n",
    "* Positve\n",
    "* Negative\n",
    "\n",
    "I will use Naive Bayes classification to determining the sentiment of the messages in the `Message` variable. This will involve using Twitter data with known sentiments to create a classifier. \n"
   ]
  },
  {
   "cell_type": "code",
   "execution_count": 62,
   "id": "189a3c2c-eccd-4f8c-9907-84a0538bd553",
   "metadata": {},
   "outputs": [
    {
     "name": "stderr",
     "output_type": "stream",
     "text": [
      "[nltk_data] Downloading package twitter_samples to C:\\Users\\Iftekhar\n",
      "[nltk_data]     Alam\\AppData\\Roaming\\nltk_data...\n",
      "[nltk_data]   Package twitter_samples is already up-to-date!\n",
      "[nltk_data] Downloading package averaged_perceptron_tagger to\n",
      "[nltk_data]     C:\\Users\\Iftekhar Alam\\AppData\\Roaming\\nltk_data...\n",
      "[nltk_data]   Package averaged_perceptron_tagger is already up-to-\n",
      "[nltk_data]       date!\n",
      "[nltk_data] Downloading package wordnet to C:\\Users\\Iftekhar\n",
      "[nltk_data]     Alam\\AppData\\Roaming\\nltk_data...\n",
      "[nltk_data]   Package wordnet is already up-to-date!\n"
     ]
    },
    {
     "data": {
      "text/plain": [
       "True"
      ]
     },
     "execution_count": 62,
     "metadata": {},
     "output_type": "execute_result"
    }
   ],
   "source": [
    "# Download twitter data and sentiment analysis model\n",
    "nltk.download('twitter_samples')\n",
    "nltk.download('averaged_perceptron_tagger')\n",
    "nltk.download('wordnet')"
   ]
  },
  {
   "cell_type": "code",
   "execution_count": 63,
   "id": "d0d524b7-c9a2-41c1-b8f9-c3123e0fdf07",
   "metadata": {},
   "outputs": [],
   "source": [
    "# import the twitter data\n",
    "from nltk.corpus import twitter_samples"
   ]
  },
  {
   "cell_type": "markdown",
   "id": "e08940a4-9553-4bf5-90f4-7d114db35950",
   "metadata": {},
   "source": [
    "The first step is to instantiate tweets that are labelled as positive and negative to create a training set to feed into a classifier."
   ]
  },
  {
   "cell_type": "code",
   "execution_count": 65,
   "id": "52e1bf0d-6630-4e2f-b62a-af3b20a3740a",
   "metadata": {},
   "outputs": [],
   "source": [
    "# Instantiate positive tweets\n",
    "positive_tweets = twitter_samples.strings('positive_tweets.json')\n",
    "# Instantiate negative tweets\n",
    "negative_tweets = twitter_samples.strings('negative_tweets.json')"
   ]
  },
  {
   "cell_type": "code",
   "execution_count": 66,
   "id": "bfeb6672-d7ff-4f78-875e-346af609765d",
   "metadata": {},
   "outputs": [
    {
     "name": "stdout",
     "output_type": "stream",
     "text": [
      "#FollowFriday @France_Inte @PKuchly57 @Milipol_Paris for being top engaged members in my community this week :)\n",
      "There are 5000 positive tweets.\n"
     ]
    }
   ],
   "source": [
    "# View first positive tweet\n",
    "print(positive_tweets[0])\n",
    "# View number of positive tweets\n",
    "print('There are {} positive tweets.'.format(len(positive_tweets)))"
   ]
  },
  {
   "cell_type": "code",
   "execution_count": 67,
   "id": "d2b36306-8d61-4fdd-8dd2-540dc671255c",
   "metadata": {},
   "outputs": [
    {
     "name": "stdout",
     "output_type": "stream",
     "text": [
      "hopeless for tmr :(\n",
      "There are 5000 negative tweets.\n"
     ]
    }
   ],
   "source": [
    "# View first negative tweet\n",
    "print(negative_tweets[0])\n",
    "# View number of negative tweets\n",
    "print('There are {} negative tweets.'.format(len(negative_tweets)))"
   ]
  },
  {
   "cell_type": "markdown",
   "id": "85ff88f6-ce0a-4307-9784-794646adde8a",
   "metadata": {},
   "source": [
    "The number of positive and negative tweets are evenly distributed, which is good for training. THe words will need to be tokenized."
   ]
  },
  {
   "cell_type": "code",
   "execution_count": 69,
   "id": "30a4e742-8c05-4a84-9039-94c6fa30e1d4",
   "metadata": {},
   "outputs": [
    {
     "name": "stdout",
     "output_type": "stream",
     "text": [
      "['#FollowFriday', '@France_Inte', '@PKuchly57', '@Milipol_Paris', 'for', 'being', 'top', 'engaged', 'members', 'in', 'my', 'community', 'this', 'week', ':)']\n",
      "['hopeless', 'for', 'tmr', ':(']\n"
     ]
    }
   ],
   "source": [
    "# Create tokens from the positive tweets\n",
    "pos_tweet_tokens = twitter_samples.tokenized('positive_tweets.json')\n",
    "# Show the first tokenized tweet\n",
    "print(pos_tweet_tokens[0])\n",
    "\n",
    "# Create tokens from the positive tweets\n",
    "neg_tweet_tokens = twitter_samples.tokenized('negative_tweets.json')\n",
    "# Show the first tokenized tweet\n",
    "print(neg_tweet_tokens[0])"
   ]
  },
  {
   "cell_type": "markdown",
   "id": "1a42924c-e5fe-4af7-9e2b-e8459aceb4af",
   "metadata": {},
   "source": [
    "As with the messages the HTML tages and URLs will need to be removed in the tweets."
   ]
  },
  {
   "cell_type": "code",
   "execution_count": 71,
   "id": "e7cf9c87-1fc8-4406-9032-4939db8ec424",
   "metadata": {},
   "outputs": [
    {
     "name": "stdout",
     "output_type": "stream",
     "text": [
      "[['#FollowFriday', '@France_Inte', '@PKuchly57', '@Milipol_Paris', 'for', 'being', 'top', 'engaged', 'members', 'in', 'my', 'community', 'this', 'week', ':)'], ['@Lamb2ja', 'Hey', 'James', '!', 'How', 'odd', ':/', 'Please', 'call', 'our', 'Contact', 'Centre', 'on', '02392441234', 'and', 'we', 'will', 'be', 'able', 'to', 'assist', 'you', ':)', 'Many', 'thanks', '!'], ['@DespiteOfficial', 'we', 'had', 'a', 'listen', 'last', 'night', ':)', 'As', 'You', 'Bleed', 'is', 'an', 'amazing', 'track', '.', 'When', 'are', 'you', 'in', 'Scotland', '?', '!'], ['@97sides', 'CONGRATS', ':)'], ['yeaaaah', 'yippppy', '!', '!', '!', 'my', 'accnt', 'verified', 'rqst', 'has', 'succeed', 'got', 'a', 'blue', 'tick', 'mark', 'on', 'my', 'fb', 'profile', ':)', 'in', '15', 'days']]\n",
      "[['hopeless', 'for', 'tmr', ':('], ['Everything', 'in', 'the', 'kids', 'section', 'of', 'IKEA', 'is', 'so', 'cute', '.', 'Shame', \"I'm\", 'nearly', '19', 'in', '2', 'months', ':('], ['@Hegelbon', 'That', 'heart', 'sliding', 'into', 'the', 'waste', 'basket', '.', ':('], ['“', '@ketchBurning', ':', 'I', 'hate', 'Japanese', 'call', 'him', '\"', 'bani', '\"', ':(', ':(', '”', 'Me', 'too'], ['Dang', 'starting', 'next', 'week', 'I', 'have', '\"', 'work', '\"', ':(']]\n"
     ]
    }
   ],
   "source": [
    "# Define lists for preprocessed tokens\n",
    "positive_cleaned_tweets_list = []\n",
    "negative_cleaned_tweets_list = []\n",
    "\n",
    "# Positive tokens\n",
    "for tweet in pos_tweet_tokens:\n",
    "    cleaned_tweet = []\n",
    "    for token in tweet:\n",
    "        # Remove URLs\n",
    "        url_cleaned = remove_urls(token)\n",
    "        # Remove HTML \n",
    "        html_cleaned = remove_html(url_cleaned)\n",
    "        cleaned_tweet.append(html_cleaned)\n",
    "    # Add to list\n",
    "    positive_cleaned_tweets_list.append(cleaned_tweet)\n",
    "\n",
    "# Negative tokens\n",
    "for tweet in neg_tweet_tokens:\n",
    "    cleaned_tweet = []\n",
    "    for token in tweet:\n",
    "        # Remove URLs\n",
    "        url_cleaned = remove_urls(token)\n",
    "        # Remove HTML \n",
    "        html_cleaned = remove_html(url_cleaned)\n",
    "        cleaned_tweet.append(html_cleaned)\n",
    "    # Add to list\n",
    "    negative_cleaned_tweets_list.append(cleaned_tweet)\n",
    "\n",
    "# Print preprocessed token lists\n",
    "print(positive_cleaned_tweets_list[:5])\n",
    "print(negative_cleaned_tweets_list[:5])"
   ]
  },
  {
   "cell_type": "markdown",
   "id": "2879fc5f-944f-44a3-898d-eeb0138aa3d2",
   "metadata": {},
   "source": [
    "Now the features need to chosen for the classifier. The most common words in the corpus will be used as they can be the best indicators of whether something is positive or negative. "
   ]
  },
  {
   "cell_type": "code",
   "execution_count": 73,
   "id": "d0152f37-d69b-4938-a9b0-749c236903d1",
   "metadata": {},
   "outputs": [
    {
     "data": {
      "text/plain": [
       "130052"
      ]
     },
     "execution_count": 73,
     "metadata": {},
     "output_type": "execute_result"
    }
   ],
   "source": [
    "#create a list of all the tweets\n",
    "list_of_all_tweets = positive_cleaned_tweets_list + negative_cleaned_tweets_list\n",
    "\n",
    "#turn my list of lists into a flat list of tokens\n",
    "all_tweet_tokens = [token for sublist in list_of_all_tweets for token in sublist]\n",
    "\n",
    "#check how many words that is\n",
    "len(all_tweet_tokens)"
   ]
  },
  {
   "cell_type": "code",
   "execution_count": 74,
   "id": "af759019-e259-4451-8ca4-a45c92213e81",
   "metadata": {},
   "outputs": [
    {
     "name": "stdout",
     "output_type": "stream",
     "text": [
      "22690\n",
      "[(':(', 4586), (':)', 3693), ('!', 2675), ('I', 2477), ('.', 2433), ('to', 2133), ('you', 2001), ('the', 1845), ('', 1753), (',', 1698)]\n"
     ]
    },
    {
     "data": {
      "text/plain": [
       "[':(', ':)', '!', 'I', '.']"
      ]
     },
     "execution_count": 74,
     "metadata": {},
     "output_type": "execute_result"
    }
   ],
   "source": [
    "#create a frequency distribution of all the words.\n",
    "all_tokens = nltk.FreqDist(token for token in all_tweet_tokens)\n",
    "\n",
    "#inspect the result\n",
    "print(len(all_tokens))\n",
    "print(all_tokens.most_common(10))\n",
    "\n",
    "#select the top 10,000 words to be our features\n",
    "sentiment_features = [word for (word, freq) in all_tokens.most_common(10000)]\n",
    "\n",
    "#check what this list looks like\n",
    "sentiment_features[:5]"
   ]
  },
  {
   "cell_type": "markdown",
   "id": "724271e0-c06d-4acd-9a6c-c345a10a4d8b",
   "metadata": {},
   "source": [
    "Now to create a feature extractor to detect whether a feature is present in a message."
   ]
  },
  {
   "cell_type": "code",
   "execution_count": 76,
   "id": "e86eec6d-5392-4086-8559-e87da7c0bfdc",
   "metadata": {
    "scrolled": true
   },
   "outputs": [
    {
     "name": "stdout",
     "output_type": "stream",
     "text": [
      "{':(': False, ':)': True, '!': False, 'I': False, '.': False, 'to': False, 'you': False, 'the': False, '': False, ',': False, 'a': False, 'and': False, '(': False, '?': False, 'for': False, 'my': False, 'it': False, 'in': False, 'is': True, 'me': False, 'i': False, 'of': False, ':-)': False, 'so': False, ':D': False, 'have': False, '...': False, 'on': False, ')': False, 'this': False, 'but': False, 'that': False, ':-(': False, 'be': False, '\"': False, ':': False, \"I'm\": False, 'your': False, 'like': False, 'with': True, 'u': False, 'not': False, 'all': False, 'was': False, 'just': False, 'at': False, 'follow': False, 'are': False, '-': False, 'get': False, 'no': False, 'up': False, 'day': False, 'too': False, 'do': False, '&': False, 'want': False, 'back': False, 'know': False, 'love': False, 'now': False, 'we': False, 'will': False, 'can': False, 'one': False, \"it's\": False, 'good': False, 'time': False, '..': False, 'out': False, 'miss': False, 'Thanks': False, \"don't\": False, 'if': False, 'about': False, '♛': False, '》': False, 'see': False, 'today': False, 'go': False, \"can't\": False, 'thanks': False, 'from': False, 'really': False, 'when': False, 'please': False, 'what': False, 'more': False, 'much': False, 'ME': False, 'our': False, 'new': False, 'Hi': False, '<3': False, 'here': False, 'there': False, 'as': False, 'they': False, 'am': False, \"'\": False, 'got': False, 'work': False, 'been': False, 'an': False, 'great': False, 'still': False, 'My': False, 'us': False, 'going': False, 'some': False, 'why': False, 'again': False, 'PLEASE': False, '*': False, ':p': False, 'Thank': False, 'hope': False, 'how': False, 'thank': False, 'them': False, 'need': False, 'The': False, 'im': False, 'he': False, 'would': False, 'sorry': False, 'You': False, 'We': False, 'sleep': False, 'feel': False, 'think': False, 'only': False, 'its': False, 'people': False, '/': False, 'sad': False, \"I'll\": False, 'wanna': False, 'very': False, 'make': False, 'had': False, 'week': False, 'or': False, 'always': False, 'being': False, 'Happy': False, 'happy': False, \"you're\": False, '@justinbieber': False, 'FOLLOWED': False, 'night': False, 'Friday': False, 'has': False, 'Have': False, 'x': False, 'nice': False, 'well': False, 'her': False, 'him': False, '1': False, '2': False, 'lot': False, 'then': False, 'wish': False, \"I've\": False, 'could': False, 'did': False, 'So': False, 'come': False, 'last': False, 'via': False, 'even': False, 'morning': False, \"that's\": False, 'by': False, 'weekend': False, 'guys': False, \"It's\": False, 'fun': True, 'because': False, 'right': False, 'soon': False, 'way': False, 'Love': False, 'better': False, 'Good': False, '>': False, 'next': False, 'YOU': False, \"didn't\": False, 'days': False, 'This': False, 'never': False, 'home': False, 'But': False, 'sure': False, 'Can': False, 'oh': False, 'someone': False, 'any': False, 'It': False, 'No': False, 'FOLLOW': False, 'already': False, 'SO': False, 'And': False, 'same': False, 'she': False, 'A': False, 'look': False, 'though': False, 'AND': False, 'help': False, 'off': False, 'yes': False, 'bad': False, 'say': False, 'over': False, 'everyone': False, 'NO': False, 'made': False, 'watch': False, 'tomorrow': False, '^': False, 'gonna': False, 'getting': False, 'lol': False, 'okay': False, 'arrived': False, 'Hey': False, 'done': False, 'long': False, 'Just': False, 'life': False, 'his': False, 'best': False, 'let': False, '3': False, 'find': False, 'than': False, 'thing': False, 'haha': False, 'birthday': False, \"i'm\": False, 'were': False, 'take': False, 'start': False, 'where': False, '@jnlazts': False, 'wait': False, 'before': False, 'hear': False, 'who': False, 'lovely': False, 'yeah': False, 'What': False, 'first': False, 'Oh': False, 'See': False, 'Stats': False, 'unfollowers': False, 'give': False, 'amazing': False, 'working': False, 'looking': False, 'welcome': False, 'xx': False, 'year': False, '…': False, 'If': False, 'Hope': False, \"won't\": False, 'hate': False, 'ur': False, 'dont': False, 'TOO': False, 'She': False, 'down': False, '#snapchat': False, 'LOVE': False, 'cute': False, 'tweet': False, 'keep': False, 'bestfriend': False, 'things': False, '—': False, 'loves': False, 'after': False, 'should': False, 'Why': False, 'baby': False, 'THANKS': False, 'thought': False, 'friends': False, 'doing': False, 'those': False, 'something': False, 'ever': False, '❤': False, '’': False, 'having': False, 'such': False, 'pls': False, 'phone': False, 'said': False, '#kik': False, 'friend': False, \"doesn't\": False, 'little': False, 'looks': False, 'cant': False, 'many': False, 'ok': False, 'bc': False, '>:(': False, 'How': False, 'beautiful': False, 'follower': False, 'U': False, 'omg': False, 'also': False, 'since': False, 'meet': False, 'their': False, 'following': False, 'tired': False, 's': False, 'Hello': False, 'yet': False, 'MUCH': False, 'Please': False, 'BAM': False, '@BarsAndMelody': False, '@969Horan696': False, 'Warsaw': False, 'makes': False, 'talk': False, 'live': False, 'these': False, 'hard': False, 'other': False, 'check': False, 'another': False, 'THAT': False, 'try': False, 'hi': False, 'shit': False, 'That': False, 'man': False, 'sick': False, 'mean': False, 'girl': False, 'tonight': False, 'smile': False, 'went': False, 'play': False, '♥': False, 'few': False, 'anything': False, '😂': False, 'stop': False, 'Sorry': False, 'enough': False, 'video': False, 'most': False, ';': False, 'team': False, 'hours': False, 'feeling': False, 'end': False, 'call': False, 'When': False, 'Yes': False, 'coming': False, 'n': False, '️': False, 'HE': False, '4': False, 'into': False, 'wrong': False, 'show': False, 'while': False, 'away': False, 'Well': False, 'Great': False, 'world': False, 'ice': False, '~': False, 'does': False, 'Not': False, 'which': False, 'every': False, '6': False, 'until': False, 'tell': False, 'busy': False, 'left': False, 'Im': False, 'around': False, 'read': False, 'Let': False, 'hey': False, 'game': False, 'big': False, 'true': False, 'na': False, 'school': False, 'ask': False, 'weather': False, 'myself': False, 'x15': False, 'enjoy': False, \"haven't\": False, 'MY': False, 'cool': False, '@': False, 'without': False, 'rain': False, 'Morning': False, \"Don't\": False, 'use': False, 'tho': False, 'news': False, \"isn't\": False, 'BELİEVE': False, 'WİLL': False, 'JUSTİN': False, 'ＳＥＥ': False, 'ＭＥ': False, 'top': False, 'forward': False, 'asleep': False, 'maybe': False, 'cream': False, 'stay': False, 'actually': False, 'twitter': False, 'nothing': False, 'KIK': False, 'Get': False, 'followers': False, 'pretty': False, \"That's\": False, 'watching': False, 'real': False, 'leave': False, 'song': False, 'ya': False, 'happened': False, 'awesome': False, 'ready': False, 'might': False, 'full': False, 'far': False, 'movie': False, 'bit': False, '5': False, 'seeing': False, \"we're\": False, 'account': False, 'playing': False, 'win': False, 'place': False, 'All': False, '_': False, '😭': False, 'waiting': False, 'seen': False, 'luck': False, 'concert': False, 'w': False, 'missed': False, '♡': False, 'idea': False, 'used': False, '#FF': False, 'Looking': False, 'saw': False, \"You're\": False, 'two': False, 'add': False, 'free': False, 'late': False, 'community': False, 'able': False, 'email': False, 'least': False, 'Its': False, 'hair': False, 'hot': False, 'kind': False, 'support': False, 'heart': False, 'once': False, 'both': False, 'fan': False, 'notice': False, 'money': False, 'must': False, 'years': False, 'finally': False, 'DM': False, 'later': False, 'may': False, 'times': False, 'TO': False, 'job': False, 'rest': False, 'They': False, 'To': False, '+': False, 'glad': False, 'Enjoy': False, \"We're\": False, 'wanted': False, 'poor': False, 'face': False, ';)': False, 'change': False, 'care': False, \"he's\": False, 'cause': False, 'fuck': False, 'fback': False, 'old': False, 'r': False, 'tweets': False, 'making': False, 'ago': False, 'trying': False, 'bed': False, 'dream': False, 'Would': False, \"she's\": False, \"Can't\": False, 'fucking': False, 'city': False, 'blog': False, \"I'd\": False, 'Now': False, 'Do': False, 'New': False, 'head': False, 'THE': False, 'damn': False, '#FollowFriday': False, 'app': False, 'name': False, 'Yeah': False, 'link': False, 'till': False, 'wow': False, 'country': False, 'pic': False, 'everything': False, 'stream': False, 'gone': False, 'Birthday': False, 'weeks': False, 'means': False, 'remember': False, 'lost': False, 'dm': False, 'Job': False, 'stuff': False, 'Follow': False, 'share': False, 'anyway': False, 'course': False, 'person': False, 'talking': False, 'Keep': False, 'hello': False, 'body': False, 'order': False, 'In': False, 'IT': False, 'SNAPCHAT': False, \"wasn't\": False, 'hurts': False, 'dear': False, 'buy': False, 'guess': False, 'wonderful': False, 'believe': False, '$': False, 'put': False, 'bro': False, 'book': False, '10': False, 'close': False, 'whole': False, 'anymore': False, '�': False, 'didnt': False, 'missing': False, 'idk': False, '#ZaynIsComingBackOnJuly26': False, \"what's\": False, 'Twitter': False, 'visit': False, 'sounds': False, 'Lol': False, 'online': False, 'mind': False, 'came': False, 'cry': False, 'summer': False, 'forget': False, '😘': False, '#': False, 'sharing': False, '“': False, '”': False, 'favourite': False, 'part': False, 'OMG': False, 'Miss': False, 'anyone': False, 'hour': False, 'funny': False, 'either': False, 't': False, 'moment': False, \"there's\": False, 'found': False, 'through': False, '7': False, 'says': False, 'post': False, 'Me': False, 'super': False, 'saying': False, 'crying': False, 'eat': False, 'lucky': False, 'aw': False, 'listen': False, \"we'll\": False, 'house': False, 'sweet': False, 'side': False, 'thats': False, 'kinda': False, 'perfect': False, 'yesterday': False, 'own': False, 'trip': False, 'info': False, 'm': False, 'hai': False, 'hurt': False, 'mine': False, \"they're\": False, '8': False, 'rn': False, 'babe': False, 'excited': False, 'Is': False, '😊': False, 'Last': False, 'pass': False, 'light': False, 'early': False, '✧': False, 'Youth': False, 'Opportunities': False, '@tolajobjobs': False, 'music': False, 'Best': False, 'thinking': False, 'chance': False, '20': False, '#WSaleLove': False, 'family': False, 'mention': False, 'touch': False, 'awake': False, 'ha': False, 'words': False, 'set': False, 'needs': False, 'album': False, 'available': False, \"i'll\": False, 'FOR': False, 'send': False, 'food': False, 'wants': False, 'Really': False, 'open': False, 'retweet': False, '<': False, 'pain': False, '2015': False, 'ill': False, 'month': False, 'sucks': False, \"couldn't\": False, '💕': False, '#hornykik': False, '@YouTube': False, 'text': False, 'point': False, 'God': False, 'picture': False, 'hug': False, 'boy': False, 'Snapchat': False, 'literally': False, 'bring': False, 'others': False, 'design': False, 'story': False, 'followed': False, 'holiday': False, 'problem': False, 'AM': False, 'snapchat': False, 'started': False, 'sa': False, 'tried': False, 'happen': False, '#kikgirl': False, 'hopefully': False, 'hungry': False, \"you've\": False, 'July': False, '@BhaktisBanter': False, '#FlipkartFashionFriday': False, 'reason': False, 'proud': False, 'Glad': False, 'definitely': False, '@imPastel': False, '%': False, 'number': False, \"Let's\": False, 'goodnight': False, 'tbh': False, 'probably': False, 'eyes': False, 'Will': False, 'understand': False, 'works': False, 'party': False, 'London': False, 'fall': False, 'girls': False, 'told': False, 'hugs': False, 'He': False, '@JayMcGuiness': False, 'unfortunately': False, 'members': False, ':/': False, 'Who': False, 'Big': False, '[': False, ']': False, 'Check': False, 'half': False, 'totally': False, 'mom': False, 'wake': False, 'Nice': False, 'Like': False, '|': False, 'Cheers': False, 'Aww': False, 'T': False, 'room': False, 'For': False, 'Only': False, 'word': False, 'd': False, 'IM': False, 'pics': False, 'store': False, 'hahaha': False, 'Add': False, '#kikmeboys': False, 'xxx': False, 'sent': False, 'final': False, 'HAVE': False, 'Need': False, 'Still': False, 'asked': False, 'b': False, 'af': False, \"i've\": False, 'scared': False, 'alone': False, 'join': False, '100': False, '@WforWoman': False, 'Ah': False, 'different': False, 'yours': False, 'LOL': False, 'gets': False, 'Haha': False, '24': False, 'fair': False, 'FREE': False, '=': False, '#TeenChoice': False, 'list': False, 'Are': False, 'due': False, 'months': False, 'feedback': False, 'god': False, '#ff': False, 'issue': False, 'cake': False, 'near': False, '–': False, 'tickets': False, 'favorite': False, 'worry': False, 'catch': False, 'kids': False, 'dog': False, 'Your': False, \"you'll\": False, '19': False, 'guy': False, 'leaving': False, 'answer': False, 'cold': False, '#indiemusic': False, '#UberIceCream': False, 'ugh': False, 'On': False, 'heard': False, 'y': False, 'sun': False, 'IS': False, 'gift': False, 'Monday': False, 'invite': False, 'stage': False, 'lets': False, 'took': False, 'almost': False, 'agree': False, 'drive': False, 'Come': False, 'forever': False, 'Very': False, 'One': False, 'travel': False, 'Saturday': False, 'else': False, 'site': False, 'three': False, '#SuperJunior': False, 'worst': False, 'finished': False, 'OF': False, 'congrats': False, 'fine': False, 'write': False, 'outside': False, 'aww': False, 'sir': False, 'Ok': False, 'There': False, 'chat': False, 'hit': False, 'bday': False, 'Awesome': False, 'sore': False, 'forgot': False, 'during': False, 'weird': False, 'stupid': False, 'keeps': False, 'awww': False, 'cat': False, 'woke': False, 'Sunday': False, 'ah': False, 'bored': False, 'NOT': False, 'wont': False, 'First': False, 'pick': False, 'Life': False, 'raining': False, 'shame': False, 'longer': False, '#kikhorny': False, '@Uber': False, 'huhu': False, 'cut': False, '😩': False, 'Many': False, '12': False, \"here's\": False, 'bet': False, 'plans': False, 'sometimes': False, '@zaynmalik': False, 'Visit': False, 'dude': False, 'question': False, 'together': False, 'using': False, 'k': False, 'reading': False, '18': False, 'liked': False, 'loved': False, '#ChoiceInternationalArtist': False, 'UK': False, 'single': False, 'meeting': False, 'save': False, 'quite': False, 'MISS': False, 'o': False, 'car': False, 'dreams': False, 'interested': False, 'games': False, 'At': False, 'dead': False, 'mum': False, 'worth': False, 'v': False, 'chocolate': False, 'ko': False, 'stuck': False, 'goodbye': False, 'follback': False, 'kid': False, 'office': False, 'earlier': False, 'starts': False, 'website': False, 'paper': False, 'photo': False, '💜': False, 'S': False, 'pleasure': False, 'sound': False, 'size': False, 'BUT': False, 'knew': False, \"let's\": False, 'view': False, '):': False, 'black': False, '£': False, 'O': False, 'high': False, 'case': False, 'boys': False, '#retweet': False, 'fucked': False, 'WHY': False, \":'(\": False, '15': False, 'influencers': False, 'card': False, 'release': False, 'Our': False, 'comes': False, 'future': False, 'appreciate': False, \"Here's\": False, 'plan': False, 'mins': False, 'address': False, 'Welcome': False, 'inside': False, 'fantastic': False, '#kikmenow': False, 'ate': False, 'Today': False, 'enjoyed': False, 'choice': False, '\\\\': False, \"aren't\": False, 'season': False, 'Was': False, '@AdeccoWaytoWork': False, 'seems': False, '@Real_Liam_Payne': False, 'move': False, 'Music': False, 'Sometimes': False, 'short': False, 'fans': False, 'videos': False, 'page': False, 'water': False, 'deserve': False, 'fab': False, 'feels': False, 'gave': False, 'pay': False, 'havent': False, 'X': False, 'driving': False, 'hoping': False, 'group': False, 'small': False, 'tour': False, 'running': False, 'reply': False, 'code': False, '｡': False, 'rude': False, 'hell': False, 'GUYS': False, 'WANT': False, 'badly': False, 'awful': False, 'As': False, 'second': False, 'bye': False, 'goes': False, 'fix': False, 'Wishing': False, 'finish': False, 'easy': False, 'fav': False, 'stress': False, 'g': False, 'terrible': False, 'huge': False, 'Brain': False, 'Dots': False, '#BrainDots': False, 'Plz': False, 'photos': False, 'Did': False, 'appreciated': False, 'received': False, 'Then': False, 'special': False, 'sign': False, 'lots': False, 'Some': False, '#CEO1Month': False, 'tea': False, 'match': False, 'movies': False, 'strong': False, 'quick': False, 'watched': False, 'wonder': False, 'questions': False, 'City': False, 'Poor': False, 'brother': False, 'broken': False, 'die': False, 'waking': False, 'fell': False, '#kiksexting': False, 'WE': False, 'Of': False, 'August': False, 'bag': False, 'More': False, 'version': False, 'dad': False, 'ugly': False, 'Man': False, 'happens': False, 'Too': False, 'worse': False, 'wtf': False, 'These': False, '13': False, 'kik': False, 'added': False, 'shop': False, 'sooo': False, '@LittleMix': False, 'afternoon': False, 'become': False, 'message': False, 'songs': False, 'Always': False, 'rt': False, \"wouldn't\": False, 'Maybe': False, 'dinner': False, 'apparently': False, 'US': False, 'Yay': False, 'E': False, 'Day': False, 'possible': False, 'past': False, 'less': False, 'somewhere': False, 'nope': False, 'interesting': False, '2nd': False, 'With': False, 'turn': False, 'la': False, 'JUST': False, 'supporting': False, 'bitch': False, 'bought': False, 'Thankyou': False, 'hehe': False, 'vote': False, 'met': False, 'smiling': False, 'art': False, 'btw': False, 'OK': False, 'eating': False, 'Ha': False, 'run': False, \"who's\": False, 'asking': False, 'box': False, 'everyday': False, 'class': False, 'jealous': False, 'Thx': False, 'Looks': False, 'happiness': False, 'sexy': False, 'date': False, 'Be': False, 'yourself': False, 'taking': False, '#kikchat': False, 'white': False, 'hold': False, 'English': False, 'walk': False, 'GO': False, \"What's\": False, 'lmao': False, 'serious': False, 'each': False, 'IN': False, 'bae': False, 'Because': False, 'voice': False, '#sexy': False, 'Mr': False, 'Want': False, 'Feel': False, 'ass': False, 'taken': False, '#UniteBlue': False, 'killing': False, 'throat': False, 'THESIS': False, 'blue': False, 'lunch': False, '#kikme': False, 'kidding': False, 'line': False, 'vacation': False, 'gotta': False, 'parents': False, 'gorgeous': False, 'W': False, 'timing': False, 'Congratulations': False, 'Here': False, '#Friday': False, 'training': False, 'drop': False, 'meant': False, 'surprise': False, 'mate': False, '9': False, 'internet': False, 'radio': False, 'HAPPY': False, 'Waiting': False, 'front': False, 'spend': False, 'Hopefully': False, 'Got': False, 'c': False, 'Stay': False, 'ARE': False, 'living': False, 'needed': False, 'woman': False, 'Finally': False, \"ain't\": False, 'waste': False, 'under': False, 'Someone': False, 'episode': False, \"There's\": False, '😁': False, '#summer': False, 'feelings': False, 'swear': False, 'cannot': False, 'Bad': False, 'sending': False, 'bby': False, 'sigh': False, 'safe': False, 'shopping': False, 'alright': False, 'Tuesday': False, 'learn': False, 'whats': False, 'warm': False, 'article': False, '11': False, 'Going': False, 'holidays': False, 'cheese': False, 'Sad': False, 'tweeting': False, 'boring': False, 'chicken': False, 'annoying': False, 'rather': False, 'instead': False, 'Make': False, 'along': False, 'ones': False, 'original': False, '#tagsforlikes': False, 'sleeping': False, 'called': False, 'pictures': False, 'offer': False, 'ITS': False, 'lil': False, '💙': False, '💚': False, '5SOS': False, 'failed': False, '←': False, 'Click': False, 'Aqui': False, 'update': False, 'broke': False, 'aint': False, 'BC': False, 'harry': False, 'turned': False, '#Tcot': False, 'upset': False, 'Missing': False, 'Aw': False, 'dying': False, 'Omg': False, 'James': False, '@PallaviRuhail': False, 'act': False, 'regret': False, 'connect': False, 'solo': False, 'rip': False, 'Where': False, 'True': False, 'Two': False, '#TGIF': False, 'youre': False, 'test': False, '#kikmeguys': False, 'shift': False, 'writing': False, 'positive': False, 're': False, 'shows': False, \"you'd\": False, \"He's\": False, 'listening': False, 'Getting': False, 'yep': False, 'middle': False, 'ended': False, 'Lovely': False, 'fact': False, 'Everyone': False, '@EmilyBett': False, 'worries': False, 'slept': False, 'mad': False, 'completely': False, 'Appreciate': False, 'G': False, '@bravefrontiergl': False, 'THIS': False, 'pa': False, 'Take': False, 'stopped': False, 'Never': False, 'drink': False, 'ohh': False, '🎉': False, '(:': False, 'helping': False, 'Time': False, 'WIN': False, 'sunshine': False, 'hang': False, 'exciting': False, 'coffee': False, 'Madrid': False, 'certain': False, 'Follback': False, 'ka': False, 'wicked': False, 'allowed': False, 'suck': False, 'bank': False, 'May': False, 'outfit': False, \"We'll\": False, 'Also': False, 'Give': False, 'Done': False, 'active': False, 'absolutely': False, 'giving': False, 'hun': False, 'cars': False, 'Which': False, 'Or': False, 'ONE': False, '💗': False, 'realized': False, 'breakfast': False, 'Cant': False, 'sort': False, 'dress': False, 'ear': False, 'Been': False, 'ticket': False, 'bi0': False, 'don': False, 'currently': False, 'folks': False, 'finding': False, '#KunoriforCEO': False, 'News': False, 'felt': False, '☺': False, 'zayn': False, 'awwww': False, 'data': False, 'enjoying': False, 'Out': False, 'Wish': False, 'green': False, 'hand': False, 'minutes': False, \"it'll\": False, '#sex': False, 'crazy': False, 'low': False, '@carterreynolds': False, 'lose': False, 'everywhere': False, 'BACK': False, 'biggest': False, 'supposed': False, '🍸': False, '─': False, 'ignore': False, 'slow': False, 'booked': False, 'horrible': False, 'seem': False, 'corn': False, 'acc': False, 'ive': False, '#kiksex': False, 'lonely': False, '@selenagomez': False, 'inactive': False, 'checked': False, 'paid': False, 'seriously': False, 'gutted': False, '😢': False, 'stomach': False, '@RafaelAllmark': False, 'boyfriend': False, 'engaged': False, 'series': False, 'supports': False, 'shout': False, 'playlist': False, 'stand': False, 'CUTE': False, 'takes': False, 'iPhone': False, 'Luke': False, 'smh': False, 'Feeling': False, 'shall': False, 'film': False, 'contact': False, 'train': False, 'traffic': False, 'turning': False, 'town': False, 'mentioned': False, 'fly': False, 'follows': False, '´': False, 'Google': False, '#quacketyquack': False, 'Cool': False, 'men': False, 'Beautiful': False, 'SAME': False, 'area': False, 'ALWAYS': False, 'likes': False, 'friday': False, 'Off': False, 'usually': False, 'yo': False, 'chill': False, 'vid': False, 'C': False, 'streaming': False, 'success': False, 'September': False, '#OTWOLGrandTrailer': False, 'ni': False, '👉': False, '💖': False, 'An': False, 'sadly': False, 'yay': False, 'planned': False, 'xD': False, 'cover': False, 'speak': False, 'collection': False, 'followback': False, 'ship': False, 'truth': False, 'conversation': False, 'matter': False, '</3': False, 'sponsor': False, 'Look': False, 'KNOW': False, 'giveaway': False, 'products': False, 'pack': False, 'review': False, 'between': False, 'Australia': False, '#chat': False, 'wedding': False, 'Smile': False, 'peace': False, 'panda': False, 'indeed': False, 'interest': False, 'record': False, 'Any': False, 'ahead': False, 'buddy': False, 'yup': False, 'break': False, 'create': False, 'memories': False, 'service': False, 'Trying': False, 'shot': False, 'provide': False, 'business': False, 'P': False, 'putting': False, 'Goodnight': False, '#BajrangiBhaijaanHighestWeek1': False, 'Retweet': False, 'comment': False, 'keeping': False, 'bus': False, 'normal': False, 'England': False, 'h': False, 'channel': False, 'Nothing': False, 'D': False, 'Congrats': False, 'Matt': False, 'relationship': False, 'PICK': False, 'event': False, 'SEE': False, 'wear': False, 'ONLY': False, 'books': False, '@StefanieScott': False, 'hands': False, 'company': False, 'places': False, 'Same': False, 'pizza': False, 'til': False, 'human': False, 'model': False, 'Park': False, 'Home': False, 'vidcon': False, 'ma': False, 'Real': False, 'BE': False, 'information': False, 'within': False, 'sister': False, \"how's\": False, 'session': False, 'Try': False, 'lack': False, 'clothes': False, '40': False, 'style': False, '50': False, 'yah': False, 'worked': False, 'gives': False, 'power': False, 'INFINITE': False, 'entire': False, 'cuz': False, 'Being': False, '#wife': False, 'blood': False, 'ppl': False, 'ahh': False, 'confused': False, 'flight': False, 'looked': False, 'barely': False, 'computer': False, 'unfollow': False, 'CANT': False, 'space': False, 'hacked': False, 'scary': False, 'sing': False, \"IT'S\": False, '@Louis_Tomlinson': False, 'Chris': False, 'Even': False, 'deal': False, 'expensive': False, 'isnt': False, 'load': False, 'choose': False, '@UberUK': False, 'nose': False, 'afford': False, 'airport': False, '@angelhairhes': False, 'DO': False, 'calls': False, 'schedule': False, 'ruined': False, '#likeforlike': False, '😔': False, 'headache': False, 'fb': False, 'calling': False, 'id': False, 'YouTube': False, 'league': False, 'exactly': False, 'signed': False, 'YES': False, 'joined': False, 'glasses': False, 'advice': False, 'promise': False, '#MasaanToday': False, 'contest': False, 'station': False, 'spirit': False, 'couple': False, 'sense': False, 'coz': False, 'trust': False, 'Having': False, 'Something': False, '#snapme': False, 'details': False, 'Awww': False, '@VikkFollows': False, 'FB': False, 'edit': False, 'Post': False, 'comments': False, 'Most': False, 'recent': False, 'project': False, '😄': False, 'Dark': False, 'thx': False, '@jackgilinsky': False, 'played': False, 'Girl': False, 'member': False, 'latest': False, 'Guys': False, 'nights': False, 'mother': False, 'changed': False, '#HappyFriday': False, 'nearly': False, 'retweeted': False, 'apply': False, 'leg': False, 'beat': False, 'interview': False, '👈': False, 'Makes': False, 'John': False, 'luv': False, 'younger': False, 'vs': False, 'gold': False, 'colour': False, 'connecting': False, 'knows': False, 'Alice': False, 'dogs': False, 'Ugh': False, 'Leeds': False, '#JabongatPumaUrbanStampede': False, 'kitchen': False, 'Days': False, 'behind': False, 'young': False, 'Another': False, 'beach': False, 'camera': False, 'board': False, 'fast': False, 'Harry': False, 'among': False, '30': False, '#photooftheday': False, 'From': False, 'fixed': False, 'dates': False, 'sale': False, 'feed': False, ';-)': False, '#PSYGustoKita': False, 'Definitely': False, 'quote': False, 'shes': False, 'mouth': False, 'skin': False, 'important': False, 'talks': False, 'Windows': False, 'Back': False, 'Sure': False, \"We've\": False, 'Dan': False, 'death': False, 'apart': False, 'certainly': False, \"Who's\": False, 'spree': False, 'mo': False, \"they'll\": False, 'honestly': False, 'personal': False, 'selfie': False, 'red': False, '#happy': False, 'plz': False, 'talked': False, 'Had': False, 'points': False, 'Nobody': False, 'AF': False, 'changing': False, 'cuddle': False, 'Photo': False, 'Dress': False, 'Almost': False, 'hahahaha': False, 'oppa': False, 'officially': False, 'Should': False, 'Wanna': False, 'theres': False, 'rock': False, 'kit': False, 'IF': False, '#NotAnApology': False, 'Thats': False, 'pre': False, 'People': False, 'forgotten': False, 'lives': False, 'Free': False, 'Download': False, 'dropped': False, 'tag': False, 'law': False, 'Has': False, 'feature': False, \"You'll\": False, 'neither': False, 'Go': False, 'Help': False, 'cough': False, 'Hoping': False, 'Am': False, 'pop': False, 'fellow': False, '5am': False, 'present': False, 'TV': False, 'fingers': False, '3rd': False, 'blocked': False, 'huh': False, 'door': False, '😍': False, \"They're\": False, 'Spain': False, 'bb': False, 'Fuck': False, 'pleasse': False, 'women': False, 'wrote': False, 'LIKE': False, 'winter': False, 'pm': False, 'Japanese': False, 'dis': False, 'Alex': False, 'Short': False, 'Chelny': False, 'H': False, 'mistake': False, 'heck': False, 'issues': False, 'broadcast': False, 'R': False, '💞': False, 'gym': False, 'massage': False, 'wallet': False, 'GOT': False, '#mpoints': False, 'painful': False, 'F': False, 'truly': False, '#like4like': False, 'fever': False, 'park': False, \"I'M\": False, 'NOW': False, 'Y': False, 'cheer': False, '11:11': False, 'ran': False, 'tummy': False, 'Shame': False, 'digital': False, 'teeth': False, 'tl': False, 'anybody': False, 'BEEN': False, 'Sadly': False, '#snapchatme': False, 'cancelled': False, 'towns': False, 'unfair': False, 'sell': False, 'socks': False, '#SandraBland': False, ';(': False, 'CAN': False, '@BeaMiller': False, 'Hate': False, 'ignored': False, 'gosh': False, '@WeeklyChris': False, 'D:': False, '#wet': False, 'track': False, 'system': False, \"y'all\": False, 'suppose': False, 'quickly': False, 'Festival': False, 'asap': False, '#lgbt': False, 'removed': False, 'wishes': False, 'product': False, \"he'll\": False, 'OH': False, 'BABY': False, 'MKa': False, 'liam': False, 'access': False, 'talented': False, '@TomParker': False, 'Scope': False, 'influencer': False, 'themselves': False, 'hashtag': False, 'Right': False, 'po': False, '@SpazzyTsukihara': False, 'imagine': False, 'surely': False, 'clean': False, 'Anyone': False, 'friendly': False, 'complete': False, 'Ireland': False, 'fr': False, 'shoot': False, '4th': False, 'Allah': False, 'cup': False, '#hot': False, '#OurDaughtersOurPride': False, '452b': False, 'Okay': False, 'spam': False, 'RIGHT': False, 'Pool': False, 'Coins': False, 'throw': False, 'K': False, 'Remember': False, 'Saw': False, 'decide': False, 'web': False, 'GOOD': False, '✨': False, 'prob': False, 'BIRTHDAY': False, 'Sweet': False, 'brand': False, 'onto': False, 'changes': False, 'mental': False, 'Hahaha': False, 'starting': False, 'moments': False, '@JackJackJohnson': False, 'blessed': False, 'WHAT': False, 'BB': False, 'queen': False, 'ideas': False, 'kill': False, 'program': False, 'quit': False, 'breaking': False, 'experience': False, 'Tom': False, 'drawing': False, 'planning': False, 'Yep': False, 'Bye': False, 'honey': False, 'stories': False, ':-D': False, 'FUCK': False, 'ng': False, 'bill': False, 'staff': False, 'filming': False, 'dancing': False, 'cutie': False, 'subject': False, 'tiring': False, 'Night': False, 'Such': False, 'di': False, \"i'd\": False, 'Mind': False, 'Could': False, 'sis': False, 'snap': False, '★': False, 'whenever': False, 'HERE': False, '😀': False, 'building': False, 'laugh': False, 'anytime': False, 'taste': False, 'enter': False, 'Facebook': False, 'except': False, 'France': False, 'ours': False, '💓': False, 'disappoint': False, 'Paper': False, 'Mine': False, 'shooting': False, 'layout': False, 'dms': False, 'ty': False, 'easier': False, 'feet': False, 'MM': False, 'brilliant': False, 'unexpected': False, 'students': False, 'Lucky': False, 'rate': False, 'Hotel': False, 'unnie': False, 'Kim': False, 'general': False, 'Baby': False, '#travel': False, 'fresh': False, 'moved': False, 'driver': False, 'famous': False, 'Dear': False, 'Apple': False, 'instagram': False, 'soup': False, 'doesnt': False, 'Know': False, '22': False, 'return': False, 'Plus': False, 'problems': False, 'Weekend': False, 'itself': False, '70': False, 'delivery': False, 'married': False, 'released': False, 'image': False, 'doubt': False, '300': False, 'mood': False, 'campaign': False, 'congratulations': False, 'realise': False, 'explain': False, 'sushi': False, 'Khan': False, 'request': False, 'AT': False, '#talk': False, '. ..': False, 'Brilliant': False, 'India': False, 'emotional': False, '`': False, 'extra': False, 'shower': False, 'RTs': False, 'ladies': False, 'total': False, 'four': False, 'Goodbye': False, 'tak': False, 'se': False, 'Mary': False, '#teens': False, 'Found': False, 'lately': False, '#model': False, 'Excited': False, 'empty': False, 'Latin': False, 'About': False, '💘': False, 'calm': False, 'smoke': False, 'afraid': False, 'effect': False, 'Oops': False, 'finger': False, 'college': False, 'speaking': False, 'Dont': False, 'Head': False, 'response': False, 'gross': False, 'GET': False, 'Ryan': False, '33': False, '😒': False, '@natsu1725': False, 'LA': False, 'sitting': False, 'BTW': False, 'section': False, '1D': False, 'San': False, 'avi': False, 'Lunch': False, \"She's\": False, 'soo': False, 'trend': False, 'nap': False, 'Final': False, 'yall': False, 'crossed': False, 'da': False, 'gf': False, 'plays': False, 'Up': False, 'sweetie': False, 'Say': False, '11am': False, 'ye': False, 'Inside': False, 'hmm': False, 'moving': False, '#food': False, 'exam': False, 'offers': False, 'otherwise': False, 'daily': False, '🍰': False, 'Oppa': False, 'Amber': False, 'Long': False, 'air': False, 'realize': False, 'Beth': False, 'NEVER': False, 'joking': False, 'twice': False, '#omegle': False, '#countrymusic': False, 'doctor': False, 'Hurry': False, 'weight': False, '#pussy': False, '#gay': False, '#sexo': False, 'dat': False, 'amber': False, 'Rain': False, 'telling': False, '#makeup': False, '#music': False, 'World': False, 'letting': False, '@yettygeers': False, 'decision': False, 'regular': False, 'nobody': False, 'lie': False, '╱': False, 'bills': False, 'Sam': False, 'unless': False, 'Unfortunately': False, 'YOUR': False, 'e': False, 'Dylan': False, 'wet': False, 'greet': False, 'consistency': False, '#oralsex': False, 'ends': False, 'tweeted': False, 'cakes': False, 'luke': False, 'PM': False, 'wat': False, 'z': False, 'club': False, 'SORRY': False, 'forehead': False, 'Party': False, 'dark': False, 'similar': False, 'Germany': False, 'bulbs': False, 'decides': False, 'disgusting': False, 'precious': False, '@SBS_MTV': False, 'hay': False, '#ClimateChange': False, '#CC': False, 'older': False, 'UGH': False, 'THEY': False, 'falling': False, 'STILL': False, 'pray': False, 'nooo': False, 'Craving': False, 'praying': False, 'cats': False, 'cried': False, 'jk': False, '@wittykrushnic': False, 'angry': False, 'accounts': False, '#amateur': False, '#camsex': False, 'ages': False, \"DON'T\": False, 'poorly': False, 'happening': False, '＠': False, 'closed': False, '@biobio1993': False, 'everybody': False, 'injured': False, 'Ang': False, 'WANNA': False, 'srsly': False, 'Tried': False, 'disappointed': False, '@jungsilhoon': False, 'ed': False, 'killed': False, 'Scotland': False, 'entries': False, '@gculloty87': False, '💋': False, 'Sarah': False, 'results': False, 'visiting': False, 'epic': False, 'twitch': False, 'fake': False, 'fit': False, 'Dream': False, \"shouldn't\": False, 'surprised': False, 'figure': False, 'Might': False, 'Text': False, 'Those': False, 'Mom': False, 'joining': False, 'Al': False, 'HAHA': False, 'Bath': False, 'given': False, 'delighted': False, 'winner': False, '14': False, 'etc': False, 'December': False, 'strength': False, 'fabulous': False, 'bracelet': False, \"Didn't\": False, 'Derek': False, '17': False, 'difference': False, '☕': False, 'evening': False, 'sorted': False, 'smart': False, 'upgrade': False, '#FridayFeeling': False, '#amazon': False, 'growing': False, '@Gurmeetramrahim': False, 'Kepler': False, 'thankyou': False, 'Food': False, 'won': False, 'cos': False, 'bath': False, 'Happiness': False, 'sex': False, 'louis': False, 'ruin': False, '@StreetFighter': False, 'paying': False, 'J': False, 'Pakistan': False, 'School': False, 'Hiya': False, 'fam': False, 'Jack': False, 'ily': False, 'typed': False, '1/2': False, '💟': False, 'Michael': False, 'marathon': False, 'expert': False, 'tough': False, 'official': False, 'entry': False, 'form': False, 'caught': False, 'related': False, 'whatever': False, '@Michael5SOS': False, 'updated': False, 'Louis': False, 'Liam': False, 'trade': False, 'attack': False, '>:D': False, 'sunday': False, '1st': False, 'fulfil': False, 'fantasies': False, 'against': False, '#FreebieFriday': False, 'Share': False, '@AstonMerrygold': False, 'AGAIN': False, 'specialise': False, 'thermal': False, 'imaging': False, 'surveys': False, 'updates': False, 'bear': False, 'packing': False, 'bra': False, 'loser': False, 'sit': False, '#StarSquad': False, 'Awwww': False, 'faster': False, 'hurry': False, 'Rt': False, 'THEIR': False, 'OKAY': False, 'ba': False, '@JabongIndia': False, \"Haven't\": False, 'secret': False, 'Wrong': False, 'Family': False, 'prize': False, 'FRIDAY': False, 'Live': False, 'Especially': False, 'threw': False, 'pro': False, 'ang': False, 'package': False, 'Low': False, 'Woke': False, \"people's\": False, 'Android': False, 'standing': False, 'Join': False, '#free': False, 'ride': False, 'Instagram': False, 'repeat': False, 'cast': False, '@5SOS': False, 'upload': False, 'Wednesday': False, '@camerondallas': False, 'French': False, 'staying': False, 'excellent': False, 'suggest': False, 'possibly': False, 'social': False, 'Chloe': False, 'turns': False, '5sos': False, 'Call': False, 'daddy': False, 'credit': False, 'thru': False, 'bt': False, 'counting': False, 'science': False, 'eps': False, 'wife': False, 'NEED': False, 'Planning': False, '333': False, 'Future': False, 'mi': False, 'seats': False, 'bio': False, 'earth': False, 'eye': False, 'suggestion': False, 'Max': False, 'Ben': False, 'distance': False, 'launch': False, 'Fridays': False, '@WOMADCHARLTONPK': False, 'ON': False, 'spot': False, 'plant': False, 'cycle': False, 'yea': False, '@taylorswift13': False, 'atm': False, 'donation': False, 'goats': False, 'Gorgeous': False, 'loose': False, 'absolute': False, '#BellyButton': False, '#Innie': False, '#Outie': False, 'helpful': False, 'probs': False, 'Super': False, 'usual': False, '. . .': False, 'media': False, 'festival': False, '#FaceTime': False, 'journey': False, 'band': False, 'UR': False, 'DONT': False, '🌞': False, 'drama': False, '#porno': False, 'Red': False, 'type': False, 'Much': False, 'peeps': False, 'Jumma': False, 'spent': False, 'pleased': False, 'wondering': False, 'Does': False, 'Little': False, 'bird': False, 'urself': False, 'incredible': False, 'count': False, 'events': False, 'unique': False, 'bunch': False, 'round': False, 'names': False, 'health': False, 'XD': False, 'views': False, 'Smiling': False, 'roll': False, '#webcam': False, 'situation': False, 'wine': False, 'Secret': False, 'Stars': False, 'Bio': False, 'misses': False, 'brain': False, 'pull': False, 'female': False, 'Every': False, 'ELF': False, '#french': False, '#sexysasunday': False, 'fave': False, '#orgasm': False, '#hannibal': False, 'Amazing': False, 'route': False, 'Donna': False, 'child': False, 'Yo': False, 'iPh': False, '0ne': False, 'goal': False, 'emails': False, 'cousin': False, 'flowers': False, 'fruit': False, '::': False, 'ID': False, 'Tell': False, 'virgin': False, 'student': False, 'hain': False, 'copy': False, 'anniversary': False, 'Bae': False, 'balance': False, 'Mike': False, '@whittakerdesig1': False, 'rough': False, 'USA': False, 'none': False, 'million': False, 'sometime': False, 'Crazy': False, '@8': False, 'sea': False, 'comeback': False, 'treat': False, '@GrahamTownsend': False, \"we've\": False, 'treats': False, 'players': False, 'Meet': False, 'ew': False, 'survive': False, 'history': False, 'main': False, 'excuse': False, 'sc': False, '#smile': False, 'shoulda': False, 'grow': False, 'bhai': False, 'FourFiveSeconds': False, 'Deaf': False, 'Ears': False, 'refreshing': False, 'server': False, 'quiet': False, 'Summer': False, 'shoes': False, 'dies': False, 'shining': False, '#cute': False, 'Dave': False, 'detailed': False, 'option': False, 'smiles': False, 'Jesus': False, '@magicbricks': False, '101': False, 'bigger': False, 'phones': False, 'Sending': False, 'belated': False, 'spread': False, '#xxx': False, 'recently': False, 'minute': False, '@iamsrk': False, 'noticed': False, 'Must': False, 'hospital': False, 'beauty': False, 'avail': False, 'walking': False, 'ffs': False, 'knowing': False, 'anxiety': False, 'def': False, 'abs': False, 'Vegas': False, 'wishing': False, 'Blue': False, 'milk': False, 'Paris': False, 'taxi': False, 'SMS': False, 'Following': False, 'Talk': False, 'prayers': False, 'Sounds': False, 'joy': False, 'nowhere': False, 'Mexico': False, 'tooth': False, 'ashamed': False, 'basically': False, 'cares': False, 'wolf': False, 'episodes': False, 'favor': False, 'closest': False, 'stunning': False, 'whilst': False, 'stock': False, 'texting': False, '#TeamFollowback': False, 'Wonderful': False, 'messages': False, '#غردلي': False, 'nate': False, 'BAD': False, 'HAHAHA': False, 'll': False, 'TIME': False, 'study': False, '#love': False, '#interracial': False, 'soul': False, '#premiostumundo': False, 'level': False, 'lazy': False, 'Exactly': False, 'Easy': False, 'bottom': False, 'Chronicles': False, 'YT': False, 'countries': False, 'large': False, 'Channel': False, 'monday': False, 'UP': False, 'GREAT': False, 'workout': False, 'excitement': False, 'especially': False, '╲': False, '🍤': False, '╭': False, '╮': False, 'attend': False, 'double': False, '25': False, '@sainsburys': False, 'ding': False, '0': False, 'shots': False, 'ho': False, 'mobile': False, '#newmusic': False, 'debut': False, 'state': False, 'Wow': False, 'bhi': False, 'prepared': False, 'TL': False, '#Rain': False, '#bestoftheday': False, 'someday': False, '🇫🇷': False, 'candy': False, 'energy': False, 'THO': False, 'Youtube': False, 'difficult': False, 'dumb': False, 'extremely': False, 'loss': False, 'L': False, 'ilysm': False, 'network': False, 'Think': False, 'spotting': False, 'trash': False, 'lies': False, 'Again': False, 'ending': False, '#nudes': False, '#likeforfollow': False, 'header': False, 'switch': False, '🌸': False, 'liking': False, 'imma': False, 'delay': False, 'sales': False, 'wall': False, 'Watching': False, 'lady': False, 'egg': False, 'WITH': False, '🍹': False, '✫': False, '˚': False, '·': False, '✵': False, '⊹': False, '#lesbian': False, 'construction': False, 'giant': False, 'careful': False, 'LMAO': False, 'abt': False, 'babies': False, 'massive': False, '@itsNotMirna': False, 'encore': False, '#webcamsex': False, 'funeral': False, 'drinking': False, 'piece': False, 'dick': False, 'saturday': False, 'Belgium': False, 'Delph': False, 'across': False, 'impossible': False, 'Sigh': False, '#quote': False, 'rly': False, 'Pls': False, 'vehicles': False, 'Shit': False, 'boss': False, 'beta': False, 'OUT': False, '@SeaveyDaniel': False, 'realistic': False, 'language': False, '#더쇼': False, 'security': False, 'hella': False, 'sm': False, '@zoellaftmendes': False, '#skype': False, 'window': False, 'Bored': False, 'figured': False, 'apink': False, 'noo': False, \"where's\": False, 'nightmare': False, 'straight': False, 'managed': False, 'rejected': False, 'boots': False, 'sunggyu': False, 'stadium': False, '#sexual': False, 'justinbieber': False, 'M': False, 'manage': False, \"everyone's\": False, '@SensodyneIndia': False, \"hasn't\": False, 'Jacob': False, 'texted': False, 'maverickgamer': False, 'damaged': False, 'common': False, 'th': False, 'sold': False, 'anywhere': False, '@llama_ajol': False, 'hahah': False, 'lang': False, 'allergic': False, 'depressing': False, 'frustrated': False, '72': False, '💛': False, 'upvotes': False, 'fml': False, 'Their': False, '#photo': False, 'nah': False, '350': False, 'Sophie': False, 'sudden': False, 'surgery': False, '#goodmusic': False, 'five': False, 'uh': False, 'ridiculous': False, 'RIP': False, 'SOON': False, 'NIALL': False, 'location': False, '@yearsandyears': False, 'TammiRossM': False, '>:-(': False, 'Idk': False, 'kita': False, '😚': False, 'Jonathas': False, 'Betis': False, '😏': False, 'LOT': False, 'odd': False, 'profile': False, 'Jgh': False, \"Wouldn't\": False, 'Juicy': False, 'Selfies': False, 'Perfect': False, 'opportunity': False, 'junior': False, 'range': False, 'screenshot': False, 'Four': False, 'Beginning': False, '#tinder': False, '@KalinWhite': False, 'kpop': False, 'normally': False, 'hearing': False, 'midnight': False, 'conference': False, 'Woohoo': False, '@5SOS_FAHUpdates': False, 'grades': False, 'al': False, '@HushedApp': False, 'yeahhh': False, 'tom': False, 'Gym': False, '@JacobWhitesides': False, 'obviously': False, 'yaya': False, 'stalk': False, 'Details': False, 'Fine': False, 'xo': False, 'oil': False, 'cheers': False, 'Whatsapp': False, 'com': False, '34': False, 'sits': False, '@bookmyshow': False, 'A4': False, 'Larry': False, '@arsenalnewsasit': False, 'testing': False, '#traveling': False, '#traveler': False, '#yogyakarta': False, '#jeep': False, '#Indonesia': False, '#instamood': False, 'skype': False, '24/7': False, 'Actually': False, 'Huge': False, '☆': False, '@MeatBingo': False, 'fluffy': False, \"weren't\": False, 'smells': False, 'teen': False, 'bugs': False, 'bite': False, 'Europe': False, 'rise': False, '#AlDub': False, 'further': False, \"we'd\": False, 'polite': False, 'mana': False, '@notch': False, 'posts': False, 'suspect': False, 'WOW': False, 'amount': False, 'claim': False, 'Luck': False, 'legs': False, 'Rest': False, 'updating': False, 'log': False, 'Funny': False, 'Fans': False, 'rush': False, '50.000': False, 'Ball': False, 'inspire': False, 'exhausted': False, 'Kind': False, 'Open': False, 'price': False, 'salmon': False, 'artist': False, 'Garden': False, '@bernardokath': False, 'heads': False, 'BIG': False, 'drank': False, 'gotten': False, 'lord': False, 'ure': False, '__': False, 'user': False, 'ahhh': False, 'HOME': False, 'singer': False, '@RunJumpScrap': False, '@MikeyyGee_562': False, '@thatdudegalvan_': False, 'thrown': False, 'value': False, 'peaceful': False, 'tuned': False, 'JAMES': False, 'THINK': False, 'Girls': False, 'DA': False, 'Dang': False, 'Yesss': False, 'Selena': False, 'Nope': False, 'promote': False, 'hardly': False, 'Made': False, '@KageYashsa': False, 'agreed': False, '500': False, 'loners': False, 'spreading': False, 'Problem': False, 'South': False, 'Korea': False, 'bringing': False, 'momma': False, 'grade': False, 'Playing': False, 'Retweets': False, 'yummy': False, 'truck': False, 'OTP': False, '#follow': False, 'report': False, '⭐': False, 'kms': False, 'wasnt': False, 'FROM': False, 'tix': False, 'favorites': False, 'jeans': False, '@Vivienneclore': False, '@ollyofficial': False, 'reviews': False, 'key': False, 'productive': False, 'heading': False, 'flow': False, 'selling': False, '@JonsCrazyTweets': False, 'Turn': False, 'yung': False, 'ulit': False, 'towards': False, 'pure': False, 'Cody': False, 'delivered': False, 'Italy': False, '@narendramodi': False, '😉': False, 'Dm': False, 'note': False, '. .': False, 'Helen': False, 'Brian': False, '2-3': False, 'ol': False, 'wild': False, 'Chelsea': False, 'useless': False, 'Thursday': False, '#fuck': False, '#musicbiz': False, 'recipe': False, 'lovers': False, 'kiss': False, 'OP': False, '#friday': False, '#weekend': False, 'soaps': False, 'Late': False, 'Lord': False, 'healthy': False, 'Rettweet': False, 'Cs': False, 'exams': False, 'knee': False, 'buyers': False, 'Towns': False, '31': False, 'retweeting': False, 'bomb': False, 'wanting': False, 'mail': False, 'bot': False, 'actress': False, '@outboundapp': False, 'Photoset': False, '@AdeccoJapan': False, 'editing': False, 'Thought': False, 'filled': False, 'laughter': False, 'yess': False, 'attention': False, 'Absolutely': False, 'classic': False, '@KirkdaleBooks': False, 'welcomed': False, 'Waking': False, 'ZonzoFox': False, 'ball': False, 'Slow': False, 'easily': False, 'decent': False, 'tv': False, '@chelsea_acker': False, 'FaceTime': False, 'Calum': False, 'announce': False, 'Ahh': False, 'worthwhile': False, 'Loving': False, 'acts': False, 'Amy': False, 'raise': False, 'rules': False, 'cards': False, 'parcel': False, '80s': False, 'finishing': False, 'alive': False, 'laptop': False, '@otraclace': False, '#models': False, 'bread': False, 'butter': False, '@babypuffinator': False, '@CarlHamlet': False, 'concerned': False, 'DJ': False, 'performed': False, 'age': False, 'Andy': False, 'competition': False, 'Gamer': False, 'Train': False, 'Gain': False, '120': False, 'Far': False, 'Perhaps': False, 'cutest': False, 'mega': False, 'Expect': False, 'Ellie': False, 'everytime': False, 'laughing': False, 'pin': False, \"Today's\": False, 'mentions': False, 'Gen': False, 'familiar': False, 'hitting': False, 'continues': False, 'subs': False, '200': False, 'wide': False, 'corner': False, '@thebetterindia': False, 'Eric': False, 'oops': False, 'EMPLOYERS': False, 'honest': False, 'guysss': False, 'TGIF': False, 'mubank': False, 'tommorow': False, 'magic': False, 'Find': False, 'Shop': False, 'flat': False, 'Tara': False, 'Imran': False, '@djdarrenjones': False, 'Tomorrow': False, '#kikkomansabor': False, 'DID': False, 'ALL': False, '#l4l': False, 'ad': False, 'ji': False, 'crap': False, 'burn': False, 'deliver': False, '@eonnicchi': False, 'weekly': False, 'idol': False, 'picnic': False, 'tmrw': False, '31st': False, 'Blessed': False, 'THERE': False, 'AN': False, 'crowd': False, 'ohhh': False, 'tend': False, 'yaa': False, 'hills': False, 'Black': False, 'facts': False, 'tmr': False, 'nhi': False, 'aboard': False, '•': False, 'fudge': False, 'Jay': False, 'letter': False, 'role': False, 'KEEP': False, 'clearly': False, 'Second': False, 'Ur': False, 'grab': False, 'gd': False, 'youtube': False, 'vids': False, '#elfindelmundo': False, '#sexi': False, '@jazminbonilla77': False, 'jazmin': False, 'Bonilla': False, 'ROFL': False, 'apology': False, 'sisters': False, 'mere': False, 'hilarious': False, 'court': False, 'slice': False, 'gettin': False, 'bf': False, '#sabadodeganarseguidores': False, 'steam': False, \"THAT'S\": False, 'road': False, 'chips': False, '#phonesex': False, 'children': False, 'bug': False, 'ears': False, 'Used': False, 'limited': False, 'HUHU': False, 'Huhu': False, 'United': False, 'Earth': False, 'affect': False, 'whoop': False, 'knees': False, 'Paul': False, '@CG_Rated': False, 'Labour': False, 'leader': False, '@joohyunvrl': False, 'Seems': False, 'alot': False, 'exercise': False, 'block': False, '@avonfvcks': False, '24th': False, '@sculptorfred': False, 'Queen': False, 'fandom': False, 'Needed': False, 'urgently': False, 'singing': False, 'Doug': False, 'complain': False, 'Bring': False, 'shoulder': False, 'dunno': False, 'NHS': False, '@sweettoothmarti': False, 'Catch': False, 'mist': False, 'flipping': False, 'Link': False, 'star': False, '#art': False, 'couldnt': False, 'font': False, 'lah': False, 'EVERYONE': False, 'recommend': False, 'TODAY': False, 'considering': False, 'Sir': False, 'Team': False, 'After': False, 'third': False, 'Bruce': False, 'plane': False, 'yan': False, 'leadership': False, 'content': False, 'brings': False, 'bff': False, 'Once': False, 'mirror': False, 'slightly': False, 'Jane': False, 'process': False, 'Blog': False, 'Ever': False, 'action': False, 'Close': False, 'Spotify': False, '#TRMDHesitant': False, 'King': False, 'hide': False, 'Neil': False, 'shatter': False, '@Humna__Khan': False, 'lines': False, \"else's\": False, 'Apexis': False, 'Crystal': False, 'helped': False, 'arm': False, 'freaking': False, 'painting': False, 'becoming': False, 'remembered': False, 'Frank': False, 'sunny': False, 'awhile': False, 'born': False, 'deserved': False, 'Indeed': False, 'Eid': False, 'Mubarak': False, 'Went': False, 'Tokyo': False, 'ArchdBanterbury': False, 'answers': False, '#GOHF': False, 'gooday': False, 'tells': False, '🎵': False, 'bothered': False, 'Taylor': False, 'Work': False, 'justin': False, '#holiday': False, '@MariaSharapova': False, 'stars': False, 'computers': False, '#hotmusicdelocos': False, 'Next': False, 'Soul': False, 'swimming': False, 'riding': False, 'noise': False, 'leaves': False, 'Club': False, 'Kyle': False, 'paypal': False, 'Oct': False, 'fighting': False, 'presents': False, 'begin': False, 'lasted': False, '@lovingjeonboram': False, 'Sunny': False, '@fivedorkz': False, 'duck': False, 'Likewise': False, '@PB_Furniture': False, 'THANK': False, 'Ohh': False, 'Yup': False, 'awkward': False, '@NiallOfficial': False, 'breathing': False, 'Fav': False, 'owner': False, 'Kindly': False, 'kanina': False, 'typically': False, 'miles': False, 'haters': False, 'purchase': False, 'Greek': False, 'ruins': False, 'screw': False, 'several': False, 'steps': False, '43': False, 'tight': False, '@miabellasesso': False, 'Uber': False, 'dry': False, '21': False, 'cycling': False, 'PC': False, 'silly': False, 'iphone': False, 'quality': False, 'rich': False, 'remix': False, 'Rubber': False, 'Ducks': False, 'Otherwise': False, \"today's\": False, 'race': False, 'manager': False, '@Kreizi_': False, 'Burger': False, 'Korean': False, 'homework': False, 'yeahh': False, 'responses': False, 'Other': False, 'Five': False, 'confusing': False, 'nails': False, 'pink': False, 'Awh': False, 'Lesley': False, 'Online': False, 'master': False, 'orders': False, '@Klick_Business': False, \"Couldn't\": False, 'private': False, 'sauce': False, 'Followed': False, 'gossip': False, 'gay': False, 'clap': False, '#followback': False, 'sexyjudy': False, '@LuciHolland': False, 'sneak': False, '#AutoFollow': False, 'Julie': False, 'proper': False, 'clock': False, 'Stop': False, 'naked': False, 'khan': False, 'starbucks': False, 'stands': False, 'America': False, '#goodmorning': False, 'breakdown': False, 'nahi': False, 'rainy': False, 'faces': False, 'reasons': False, 'pants': False, 'cosplayers': False, 'Damn': False, 'goals': False, 'Fingers': False, 'Cilic': False, 'MAKE': False, 'HER': False, 'Aug': False, 'forecast': False, 'clicking': False, 'knock': False, 'ANGRY': False, 'GRANDPA': False, 'PLAYS': False, 'MINECRAFT': False, 'ANIMATION': False, '#Minecraft': False, 'Gold': False, 'Tanks': False, 'daw': False, 'ordered': False, 'NBA': False, '2K15': False, 'MyPark': False, 'Gryph': False, 'Volume': False, 'download': False, 'Show': False, 'deep': False, 'regarding': False, 'cousins': False, 'printer': False, 'comfortable': False, 'WAIT': False, 'HIS': False, 'description': False, 'clear': False, 'garden': False, '3am': False, 'couples': False, 'Hot': False, 'Air': False, 'tree': False, 'limit': False, 'laid': False, 'angel': False, 'however': False, 'island': False, 'requirements': False, 'April': False, '👏': False, '╰': False, '╯': False, 'dia': False, 'daughter': False, 'ghost': False, '#me': False, 'trending': False, 'mr': False, 'hated': False, 'Play': False, 'Katie': False, 'roof': False, 'hubby': False, 'Christmas': False, 'Working': False, '💃': False, 'lay': False, 'din': False, 'major': False, 'ke': False, 'Xbox': False, 'coach': False, 'beyond': False, 'likely': False, 'Jummah': False, 'Abby': False, 'heavy': False, 'joke': False, '12th': False, 'Leave': False, 'handle': False, 'despite': False, 'promo': False, '18th': False, 'hunny': False, 'Emily': False, 'Pete': False, 'Listening': False, 'weak': False, 'audience': False, 'step': False, 'trick': False, 'returning': False, 'banana': False, 'yoga': False, '@SasaRichardson': False, '@Stefbystef_': False, '@Frgt10_Anthem': False, 'drunk': False, 'WISH': False, 'ja': False, 'reminds': False, 'Bro': False, 'passed': False, '#family': False, '#addmeonsnapchat': False, '#dmme': False, 'thoughts': False, 'goodness': False, 'WAS': False, 'By': False, 'Doing': False, 'His': False, 'PS4': False, 'texts': False, 'KFCROLEPLAYERS': False, 'asian': False, '23': False, 'gimme': False, 'prefer': False, 'NEWS': False, 'attached': False, 'Movie': False, 'english': False, 'mutuals': False, 'rose': False, 'voting': False, 'harder': False, 'finale': False, 'mommy': False, 'degree': False, 'Cute': False, 'LFC': False, 'weakness': False, 'Fam': False, 'showing': False, 'build': False, 'niall': False, 'score': False, 'west': False, 'mass': False, 'speaker': False, 'Things': False, 'fuckin': False, 'committed': False, 'named': False, 'Feels': False, 'meal': False, 'min': False, 'Fast': False, 'burst': False, 'weekends': False, '5:30': False, 'bout': False, '👍🏼': False, 'adult': False, 'abroad': False, 'expecting': False, 'hangout': False, 'hits': False, 'classes': False, 'tha': False, 'itna': False, 'wearing': False, 'Cause': False, '@hankgreen': False, '#GOT7': False, 'Three': False, 'approve': False, 'bless': False, 'Joe': False, '#selfie': False, 'WTF': False, 'ACTUALLY': False, 'embarrassing': False, 'TY': False, 'uni': False, 'Princess': False, '🎂': False, 'closer': False, '@sadcuddleashton': False, 'Although': False, 'mah': False, 'counts': False, 'performance': False, 'rang': False, 'peasant': False, 'Everything': False, 'search': False, 'Ouch': False, '@aysegul_k': False, 'chances': False, '#bad4thwin': False, 'Sick': False, '。': False, 'Heart': False, 'netflix': False, '@subharrie': False, 'Boo': False, 'SJ': False, '@fkluca': False, 'contacts': False, 'Raining': False, 'fallen': False, 'infinite': False, 'anna': False, '@BTS_twt': False, '@tanha_messiah': False, 'consider': False, 'although': False, 'dammit': False, 'kicked': False, 'Ive': False, 'Hulk': False, 'Hogan': False, 'Irene': False, '@bmthofficial': False, '💔': False, '#에이핑크': False, 'facebook': False, 'Laura': False, 'sugar': False, '#zayniscomingback': False, 'DIDNT': False, 'mess': False, 'delete': False, '@EdeLabayog': False, 'assignments': False, 'tiny': False, '@ellierowexo': False, 'ankle': False, '😞': False, '@jenxmish': False, 'medicine': False, 'YA': False, 'drag': False, '#nakamaforever': False, 'pak': False, 'anyways': False, 'Gutted': False, 'ne': False, 'unfollowed': False, 'cope': False, 'football': False, 'har': False, 'shirt': False, 'Since': False, 'comics': False, 'signal': False, 'daianerufato': False, 'worried': False, 'noooo': False, 'le': False, 'deactivated': False, 'knocked': False, 'nighter': False, 'Ocean': False, '@roguefond': False, 'youuuu': False, 'bites': False, '@Nessa_Mbeki': False, 'deactivate': False, 'repair': False, 'flying': False, 'meh': False, 'nightmares': False, 'wifi': False, 'Pray': False, 'bruh': False, 'fbc': False, 'skinny': False, 'Dubai': False, \"could've\": False, 'BECAUSE': False, 'sat': False, 'worker': False, 'streams': False, 'hernia': False, 'Grabe': False, '@harryetlou': False, 'Dallas': False, 'ep': False, 'Terrible': False, 'typa': False, 'decided': False, 'footy': False, 'row': False, 'esp': False, 'messed': False, 'WAITING': False, '@_irwinstagram': False, \"they've\": False, '#video': False, 'Beach': False, 'fat': False, '@OhHeyItsAJ': False, 'SOMEONE': False, '@Kellipage17': False, 'June': False, '@ProductHunt': False, 'OR': False, 'THEM': False, 'bottle': False, 'dentist': False, 'annoyed': False, 'rid': False, 'WATCH': False, 'camping': False, '@TruDan97': False, '@iphonetips1': False, 'freezing': False, 'sleepy': False, 'grumpy': False, 'DAYS': False, 'pressure': False, 'tax': False, '@taesprout': False, 'bakit': False, 'HIM': False, 'sandwich': False, '@Uber_Delhi': False, '@AaronCarpenter': False, 'police': False, 'concept': False, 'chair': False, 'WHEN': False, 'gyu': False, 'yr': False, 'omfg': False, 'strike': False, 'burned': False, 'functions': False, 'shipping': False, '@vinrana1986': False, 'brown': False, '@luke_brooks': False, 'babes': False, 'duo': False, 'stole': False, '#ToothSensitivity': False, 'bummer': False, 'Guess': False, 'performances': False, 'singapore': False, '#sexygirlbypreciouslemmy': False, '#hotels': False, 'Spent': False, 'vans': False, '#hottie': False, '@smiffy': False, 'nein': False, 'gg': False, 'fault': False, 'popcorn': False, '😪': False, '@dongvvoo1122': False, 'kasi': False, '🍜': False, 'Sucks': False, 'Nintendo': False, 'starving': False, 'bandana': False, '@myungfart': False, 'WERE': False, 'Naw': False, 'doin': False, 'AS': False, 'respect': False, 'cricket': False, 'floor': False, '@bumkeyyfel': False, '@NiaLovelis': False, 'rat': False, 'WILL': False, 'six': False, '@Glanny_': False, '@_wattie': False, '@__onlynay': False, 'split': False, 'Contact': False, 'CONGRATS': False, 'accnt': False, 'mark': False, 'irresistible': False, 'customers': False, 'buying': False, 'aged': False, 'greetings': False, 'liv': False, 'fm': False, '@amellywood': False, 'Line-up': False, 'line-up': False, 'Send': False, '#nsfw': False, '#akua': False, 'press': False, 'nor': False, 'flesh': False, '@AquaDesignGroup': False, '@VisitJordan': False, '@ABNORMAL_ANA92': False, 'charger': False, 'Pity': False, 'Green': False, 'gardens': False, 'Asia': False, 'GOD': False, 'drain': False, '@x123456789tine': False, 'Manila_bro': False, 'REAL': False, 'Gotta': False, '#HushedPinWithSammy': False, 'Event': False, '@SammyWilk': False, 'Luv': False, 'Likes': False, 'nudes': False, 'Marty': False, '@mainedcm': False, 'zzz': False, '💪': False, 'dried': False, 'tomatoes': False, 'basil': False, '@TWBC_Business': False, '@19strawberry66': False, 'hehehehe': False, '@crustyolddeen': False, 'appears': False, 'Wan': False, 'Inter': False, 'Arsenal': False, 'Small': False, 'Dewsbury': False, 'West': False, 'Yorkshire': False, 'strange': False, 'Megan': False, 'Over': False, '15th': False, 'Dum': False, 'Ram': False, 'razi': False, 'gas': False, 'lmaoo': False, 'throwback': False, '#KFCkitchentours': False, '@KFC_India': False, 'waters': False, 'arummzz': False, 'pretend': False, 'Marketing': False, 'sunburn': False, 'peeling': False, 'Warm': False, '@VodkaBlond': False, 'triangle': False, 'smthng': False, 'uu': False, '#TopNewFollowers': False, 'Pain': False, 'Itty': False, 'Bitty': False, 'Teenie': False, 'Bikini': False, '@FranchiSeedsUK': False, '@LusciousLyndee1': False, 'Rita': False, '@graphure': False, '@Tabinda_Samar': False, 'sath': False, 'selfies': False, 'jacob': False, 'tee': False, 'Talking': False, 'piss': False, 'complicated': False, 'LynetteLowe': False, 'sport': False, 'Drop': False, 'fishing': False, 'cyber': False, 'atleast': False, '@Omundson': False, 'hrs': False, '@PinkPeoniesBlog': False, '@helloprettysa': False, 'Market': False, 'Brooklyn': False, '@joiredve': False, 'okayy': False, 'folder': False, 'notification': False, 'Yuna': False, '@Vikkstar123': False, '@BBCSport': False, '@LivelyKaty': False, 'sighs': False, '@_sunshinehoran_': False, '@Brianscrooks': False, 'Phil': False, 'em': False, 'Irish': False, 'literature': False, 'inaccessible': False, \"Kareena's\": False, '@ArtForCause': False, 'SELFIE': False, 'masks': False, 'Loved': False, 'grateful': False, 'dirty': False, '@literalwt': False, '😤': False, 'Twoofs': False, 'wkend': False, 'outta': False, '@UPCIreland': False, 'powerful': False, 'checking': False, \"friend's\": False, 'upcoming': False, '@concertina226': False, 'Workshop': False, '@SquadKathNiels': False, '@Podolski10': False, 'Smart': False, '@danisnotonfire': False, '@AmazingPhil': False, 'Enjoyed': False, '@Raj_Poot_': False, 'BAILEY': False, '#PBB737Gold': False, '@fwmkian': False, '@yezzer': False, 'Brand': False, 'iflix': False, '@applewriter': False, 'cook': False, 'player': False, 'Wardrobe': False, '@emily_etc': False, 'depends': False, 'Video': False, 'Complete': False, 'downloaded': False, 'Song': False, 'Week': False, 'Surreal': False, 'Street': False, '@SonyMAX': False, '#PKwalaSawaal': False, '@POTUS': False, 'anime': False, '@sothcott': False, 'GAME': False, 'ships': False, 'March': False, 'Wooftastic': False, 'hat': False, '@thatchamdad': False, 'Wtf': False, 'Start': False, 'DAY': False, 'Main': False, 'launched': False, 'Giveaway': False, 'hoodie': False, 'gained': False, '@blogadda': False, 'Freshness': False, '#MaxFreshMove': False, 'GIRLS': False, 'achieved': False, 'inspiration': False, '@Biblioticaa': False, 'alerts': False, 'rad': False, '@govindajeggy': False, 'grande': False, 'Goodmorning': False, '@s_whiteant': False, 'National': False, 'Mon': False, '#GoodMorning': False, 'perhaps': False, 'fully': False, 'designs': False, 'birds': False, 'odds': False, 'apartment': False, 'factory': False, '@madsenjewellery': False, 'internship': False, 'Page': False, 'aha': False, '♬': False, '@Jon_Clifton78': False, '9pm': False, '9am': False, '@Uber_Mumbai': False, '#Icecream': False, \":')\": False, 'Jim': False, 'Shopping': False, 'reached': False, 'expect': False, '-->': False, '@__KaraboM': False, 'Sis': False, 'kitty': False, 'HELLO': False, '@onedirection': False, 'Dude': False, 'Worth': False, '@nicagaray': False, '@cotterw': False, '@urihoresh': False, 'accepted': False, '8th': False, 'suitcase': False, 'Plan': False, 'remove': False, '@RobinAdamsZA': False, 'units': False, '@ZedDBA': False, '👌': False, 'legit': False, 'click': False, 'checkout': False, '@GoodwynsPetFood': False, 'Cat': False, 'fade': False, 'FIFTH': False, 'ALBUM': False, '@dreesti': False, 'pocket': False, 'Connie': False, 'crew': False, 'begging': False, 'Olly': False, '4-6': False, 'spinning': False, 'lover': False, 'shouting': False, '#SandroForCEO': False, 'Wait': False, 'choosing': False, 'loyal': False, 'Royal': False, 'somebody': False, '@_uNeo': False, '@TheYingster': False, 'crop': False, 'Nash': False, 'assignment': False, 'Wales': False, 'Hong': False, 'Kong': False, 'Central': False, 'girlfriends': False, 'Hii': False, '🎈': False, 'UGLY': False, 'encouraged': False, 'employer': False, 'poster': False, 'fangirl': False, 'advert': False, 'dah': False, 'suite': False, '#gamedev': False, 'Bout': False, 'Caroline': False, '🔥': False, 'remote': False, 'characters': False, 'Hugs': False, 'Kisses': False, 'entered': False, '@BlueMicrophones': False, '@CazuaLLUK': False, '@Marzbargaming': False, 'ENTER': False, '#Giveaway': False, 'rib': False, '😃': False, 'collapse': False, '<---': False, \"How's\": False, 'lick': False, 'elbow': False, 'Emu': False, 'approval': False, \"God's\": False, 'mm': False, 'Message': False, 'Eh': False, '2009': False, 'Die': False, 'Twitch': False, '#HouseMusic': False, 'yer': False, '@JaHz73': False, 'sarcasm': False, 'hes': False, '😜': False, '#sheskindahot': False, '#foiegras': False, 'Tony': False, 'Incredible': False, 'Pictures': False, 'magical': False, 'botanical': False, '@Ashton5SOS': False, '@BlueBellEMS': False, 'steel': False, 'WWAT': False, 'Beiruting': False, 'Cream': False, '@tmhcuddly': False, 'Left': False, 'Adam': False, 'Fun': False, 'CREAM': False, 'IDR': False, 'stopping': False, '@johngreen': False, 'particularly': False, '@DeewaniVeronica': False, 'instant': False, 'Secrets': False, 'Gosh': False, '@MyriadPhoto': False, 'Karachi': False, 'parts': False, 'witness': False, 'cocktail': False, 'Usually': False, 'manual': False, '#bot': False, 'intelligent': False, 'xoxo': False, 'tx': False, \"year's\": False, 'upon': False, '@padaleckbye': False, 'Paradise': False, 'clip': False, 'losing': False, '@athrawestokio': False, 'gurl': False, \"YOU'RE\": False, 'ape': False, '@anvy2446': False, '@4HUMANITEEs': False, '@SexyAF12': False, '@kikbella': False, '@adasamper': False, '@RachelLFilsoof': False, 'Busy': False, 'tears': False, 'Unless': False, 'youuu': False, 'ako': False, '@esthercarodan': False, 'sharp': False, '@ArianeBeeston': False, 'knowledge': False, 'extreme': False, '@DrRamcharan55': False, '#welcomeTweet': False, 'Wet': False, '@RX931': False, '@kath_patel': False, 'teacher': False, 'Finding': False, 'rant': False, '1/5': False, '35': False, 'wolves': False, 'birthdays': False, 'LIFE': False, 'guide': False, 'App': False, 'Palace': False, '@FroudRS': False, '@Mini_Marm': False, '@ParentingWT': False, 'nowadays': False, 'IP': False, 'Kinda': False, 'Starts': False, 'worthy': False, 'pisses': False, 'services': False, 'aku': False, 'kak': False, 'uploading': False, '@TheBodyShopIND': False, '#MyMonsoonStory': False, 'WHOOP': False, 'romantic': False, 'Sorted': False, '#FabFriday': False, 'beer': False, 'arms': False, 'Social': False, 'IG': False, 'doors': False, 'moar': False, '@metrotrains': False, '@neskaife': False, 'chek': False, 'wrap': False, 'cutting': False, 'designer': False, 'clients': False, 'guinea': False, 'pigs': False, 'bestfriends': False, 'wah': False, 'Afang': False, 'semo': False, 'forced': False, '@MatthiasLissner': False, 'shared': False, 'bud': False, 'Instead': False, 'KFC': False, 'iTunes': False, '@RealCrimeMag': False, 'daft': False, 'troubles': False, 'basket': False, 'Away': False, 'Stockholm': False, 'claws': False, 'Q': False, 'blonde': False, 'seeds': False, '#FFBack': False, 'average': False, 'BEST': False, 'retail': False, '@BeSameerKapoor': False, 'workouts': False, 'dam': False, 'dun': False, '@TendreDeal': False, 'fear': False, 'unblock': False, 'manually': False, 'tweak': False, 'php': False, 'uses': False, 'HK': False, 'originally': False, 'Bay': False, 'Seeing': False, 'wondered': False, 'confirm': False, 'switched': False, 'lap': False, 'windows': False, ':|': False, 'happiest': False, 'PIN': False, '##bbmme': False, '#BBMpin': False, '#addme': False, 'height': False, '@LampShopOnline': False, '@weimingkam': False, '#dota2': False, '@alpstart': False, 'chilled': False, 'Phenomenal': False, 'collab': False, '10,000': False, 'Tank': False, '@ContestKiDuniya': False, '#ContestKiDuniya': False, 'inner': False, 'nerd': False, 'pushing': False, 'limits': False, '🌎': False, '@Ileana_Official': False, '@ArakinUK': False, '@Huskyteer': False, 'nth': False, '@gregols09': False, 'decisions': False, 'bright': False, '16': False, '@MDWidlake': False, '@mnorgaard': False, 'shoe': False, 'Philippa': False, 'novel': False, '@Awaishooo': False, 'aur': False, 'rotate': False, 'DIRECTION': False, '700': False, 'bob': False, 'evil': False, '@alIthingsluke': False, 'killer': False, 'convo': False, 'expanding': False, 'MONEY': False, 'HAHAHAHAHA': False, 'evet': False, 'Agree': False, 'LeanneRiner': False, '#weloveyounamjoon': False, 'roller': False, '@British_Airways': False, 'TWO': False, 'Race': False, 'lesson': False, 'holding': False, 'managers': False, '@rosehut1': False, 'readers': False, 'Rose': False, 'dnt': False, 'pose': False, '#Dominion': False, 'Offer': False, '@kassi_grace': False, 'Ohhh': False, 'Mouse': False, 'library': False, '2017': False, 'Mubarik': False, 'bitches': False, '2.0': False, '@hanpdf': False, 'loudest': False, 'particular': False, 'scam': False, 'Vyapam': False, 'explanation': False, 'slr': False, 'V': False, 'laying': False, 'Double': False, 'Views': False, 'Manager': False, 'delve': False, 'muchhh': False, 'Lisa': False, 'Lil': False, '#DearSlim': False, 'Billy': False, 'character': False, 'OVH': False, 'Maxi': False, 'Heiyo': False, 'BALL': False, 'POOL': False, '@theohurts': False, 'Watch': False, 'muna': False, '→': False, 'Heiya': False, '30.000': False, '@QueenBiankee': False, 'badass': False, 'killua': False, 'scenes': False, 'noticing': False, 'bottles': False, 'Latest': False, 'Hollywood': False, 'edition': False, 'Yummy': False, 'beings': False, 'tips': False, 'duh': False, '@ASAPOFFICIAL': False, 'homie': False, '#friends': False, '@ashtonboyf': False, 'Mum': False, 'FAST': False, 'ASAP': False, '@sambirdracing': False, 'Hell': False, 'Season': False, 'Fri': False, 'jennyjean': False, 'ganda': False, 'Skype': False, 'assured': False, 'CURRENT': False, 'MOOD': False, 'goin': False, 'bubbles': False, '@staybubbly69': False, 'credits': False, 'public': False, 'Jamie': False, 'Ian': False, '@fireddestiny21': False, 'beauties': False, 'QUEEN': False, 'KATH': False, 'ASIAN': False, '@drewharley67': False, '@GerardButler': False, 'tipped': False, 'anxious': False, 'prolly': False, 'saves': False, 'background': False, 'Maggie': False, 'Glasgow': False, 'mam': False, 'delicious': False, 'racket': False, '@Uber_Pune': False, 'participate': False, '@honestfandom': False, 'definition': False, 'Buffer': False, '@ejay21falcon': False, 'States': False, 'Le': False, 'Lee': False, 'Discovery': False, 'yrs': False, 'arrive': False, 'tou': False, 'Nikki': False, 'unmarried': False, 'Wanted': False, 'force': False, 'teach': False, '@LivingLifeNottm': False, '@chingyapp': False, 'hmmm': False, 'tau': False, 'knw': False, 'GRATEFUL': False, 'GIFTED': False, 'Btw': False, 'matters': False, 'Wifi': False, 'maps': False, 'restricted': False, 'Huh': False, '=D': False, '@sleekyskillz': False, 'blast': False, 'donating': False, 'disney': False, '28': False, 'moods': False, 'male': False, '@gfcuppatea': False, 'mornin': False, '#ShareTheLove': False, 'HighValue': False, '30th': False, 'replies': False, 'Rude': False, 'Carol': False, 'patients': False, 'lounge': False, '@angel_mahiyaa': False, '@apki_jasmine': False, '@pagallarkee': False, '@sweet_heena': False, 'studies': False, 'Housing': False, 'Oil': False, \"You've\": False, 'cherish': False, 'crafts': False, 'comic': False, 'circle': False, '@Telegraph': False, 'popular': False, 'Georgie': False, 'kindest': False, 'landscapes': False, 'College': False, 'visited': False, 'prettier': False, 'Soon': False, 'YOURS': False, 'Karen': False, 'bum': False, 'nite': False, 'mature': False, '#JourneyPS4': False, 'river': False, 'Folk': False, 'Sept': False, 'upsetting': False, '@RyanGage': False, 'magazine': False, 'idols': False, 'planet': False, 'Ready': False, '>:)': False, 'Pixgram': False, 'creative': False, 'apple': False, '@davidwarner31': False, 'superpowers': False, 'obsessed': False, 'Jackie': False, '@JLo': False, 'collage': False, 'furry': False, '∗': False, 'spell': False, 'Jason': False, 'lng': False, 'Steve': False, 'cartoon': False, 'statement': False, 'ft': False, 'Update': False, '@mitchgrassi': False, 'FNAF': False, '@wimagazine': False, '@sidmouthfolk': False, 'attempt': False, 'families': False, 'toy': False, '@imvnaj': False, '@cinghh': False, 'beautifull': False, '#CretaPerfect4Me': False, '#CRETAperfectSUV': False, 'Won': False, 'Hearts': False, '#telecoms': False, 'fifa': False, 'Visual': False, 'Hah': False, 'greatest': False, 'shops': False, 'fashion': False, 'ring': False, 'breathe': False, '@TheColtRising': False, '@nair_rinku': False, 'jump': False, 'source': False, '@EndresErik': False, 'favouriting': False, '@Barrastinian': False, '@chunkymark': False, 'jack': False, '@PrinceOfRnbZJM': False, 'opinions': False, '#fridayfeeling': False, 'Dare': False, '👯': False, 'Buy': False, 'impeccable': False, 'Seven': False, 'Men': False, 'ways': False, 'often': False, 'writes': False, 'Emirates': False, 'helps': False, 'simple': False, 'glass': False, 'University': False, 'Jojo': False, 'chainsaw': False, 'protect': False, 'survived': False, 'drugs': False, 'alcohol': False, 'FC': False, 'correct': False, 'portrait': False, 'Ask': False, '@BarbieDevotees': False, 'lyka': False, 'BEAT': False, '@slashgear': False, 'includes': False, '#ios8': False, '#Android': False, '10am': False, 'Fantasy': False, 'Calm': False, '@dylanobrien': False, 'Woah': False, '@clarelea101': False, 'COME': False, 'Prime': False, 'Minister': False, 'industry': False, 'practicing': False, 'phase': False, 'ranked': False, 'Andrew': False, 'keys': False, 'Single': False, 'extravagant': False, 'Goodafternoon': False, '@paulsouthcott': False, 'adventure': False, 'l': False, '@sophieb666': False, 'Soooo': False, 'jesus': False, 'Amsterdam': False, 'drinks': False, 'booty': False, '@Ktens': False, '@vindee': False, 'AMAZING': False, 'unknown': False, '@josephcaptures': False, 'mister': False, 'supportive': False, 'vines': False, '#morning': False, 'tayo': False, '@linda_regan': False, '@Miangeorges': False, 'Id': False, 'Took': False, 'Count': False, 'invited': False, '@clarkkrm': False, '@davey_steven': False, 'Sharing': False, '@Carol1MY': False, 'pleasant': False, 'on-board': False, 'Fair': False, '@EdmundMcMillenn': False, 'gladly': False, 'son': False, '@gadventures': False, 'nxt': False, 'xxxx': False, 'ki': False, 'cell': False, '01282': False, 'sept': False, '@dowsingforsound': False, '@camideasfest': False, '@ADFofficial': False, '@CambLiveTrust': False, 'likewise': False, 'YAY': False, 'fics': False, 'disc': False, 'replay': False, 'tools': False, 'wakes': False, 'pile': False, 'hero': False, 'Fall': False, 'Stephanie': False, 'inc': False, 'Srsly': False, 'Children': False, 'dept': False, \"o'clock\": False, 'habit': False, 'Bombs': False, 'pre-ordered': False, \"Pixar's\": False, '@Beakmoo': False, '@Pani_Bufetowa': False, 'jst': False, 'yell': False, 'erm': False, 'yogurt': False, 'yum': False, 'telat': False, 'tuesday': False, 'robbed': False, 'Coco': False, 'comfy': False, 'International': False, 'regional': False, 'society': False, '@mixbad': False, 'Yayy': False, '@BBlogRT': False, '@FemaleBloggerRT': False, 'interaction': False, 'dongsaeng': False, 'Chorong': False, '@ManoharRpm': False, '@MaxivisionEye': False, 'mix': False, 'WAGGA': False, 'Eye': False, 'x12': False, 'pad': False, 'Mumbai': False, 'gujarat': False, 'Justin': False, 'breath': False, '@JellyBabyMom2': False, 'secure': False, 'coffe': False, '@SlyCat': False, \"it'd\": False, 'blogs': False, 'development': False, 'tests': False, 'gn': False, 'Pro': False, 'blew': False, 'upp': False, 'retweets': False, 'puppy': False, 'reminder': False, 'Reply': False, '▪': False, 'mbf': False, \"yesterday's\": False, 'bebe': False, 'Her': False, 'browser': False, 'pouring': False, 'loving': False, 'Sleep': False, 'Mobile': False, 'lip': False, 'OS': False, 'IGN': False, 'install': False, 'monthly': False, 'target': False, 'dating': False, 'fancy': False, 'reactions': False, 'Brotherhood': False, 'Read': False, '@FaZeMeerkatt': False, 'Shout': False, 'pleaseee': False, 'Star': False, 'msgs': False, 'disagree': False, '@natandalex': False, 'Chrome': False, 'Las': False, 'tdy': False, '(-:': False, 'Peter': False, 'Mega': False, 'Powers': False, 'Expelled': False, '@DanielNewman': False, 'ThanQ': False, '@AshDawson147': False, 'seed': False, '@YoKoKuali': False, 'taco': False, 'México': False, '#burger': False, '#icecream': False, 'shortly': False, 'fruits': False, 'parks': False, '@SocialRMadrid': False, 'self': False, 'esteem': False, '@thatothegreat': False, 'Anytime': False, 'inform': False, 'skills': False, '@kalourd': False, 'Colin': False, 'internships': False, 'Goodness': False, 'current': False, '@HDiddyNZ': False, \"Freddy's\": False, 'pumped': False, 'quotes': False, 'languages': False, 'notion': False, 'stick': False, 'offline': False, 'covered': False, 'mb': False, 'Celebrate': False, 'fails': False, 'paint': False, 'brought': False, 'google': False, 'simply': False, 'relax': False, 'Routine': False, 'ganteng': False, 'Lion': False, 'presentation': False, 'daredevil': False, 'tank': False, 'adorable': False, 'Xoxoxo': False, 'beginning': False, 'peek': False, 'items': False, '@smart_bn': False, '@REDlineCC': False, '@RedBizUK': False, '@earlybiz': False, 'freak': False, 'Belated': False, 'Matthew': False, '@grrl_afraid': False, 'rubbish': False, 'veggie': False, 'learned': False, '@Shana_Banana_44': False, '@monolifemusic': False, 'MEN': False, '7am': False, '#sunshine': False, 'hugging': False, 'thencerest': False, '547': False, 'humidity': False, 'Changes': False, 'seemed': False, 'Marmite': False, 'Cheese': False, 'Nic': False, 'WOWWWW': False, 'balik': False, 'dudes': False, '}': False, 'bat': False, 'yang': False, '@SkyFallHove': False, 'Ashton': False, 'Jeremy': False, 'hahahahaha': False, 'clutching': False, '🐢': False, 'puke': False, '3:02': False, 'coughing': False, 'Muslim': False, 'understood': False, 'options': False, 'conversations': False, 'Pleasure': False, 'Zayn': False, 'posted': False, 'California': False, '45gameplay': False, '#ILOVEYOU': False, 'FAN': False, 'BOY': False, 'lists': False, '@shounshounette': False, 'Invite': False, 'Dota': False, '@tylergposey': False, 'Miami': False, 'James_Yammouni': False, 'materials': False, '@NigeHiggins4': False, '@Twinmumanddad': False, '@crunchy_mummy': False, '@Mr_Kitney': False, '@mikecoulson48': False, 'intellectual': False, 'Strong': False, 'spelling': False, '@MissKelseyH': False, 'reputation': False, 'Hmmm': False, 'color': False, 'willing': False, 'bend': False, 'heaven': False, 'proposal': False, 'guitar': False, 'ATP': False, 'Wimbledon': False, 'handsome': False, 'diary': False, 'kittens': False, 'LONG': False, 'BETTER': False, 'PLACE': False, 'POWER': False, 'compensation': False, 'included': False, 'ito': False, 'application': False, 'MASA': False, '@EllieVond': False, '@SkeletonSweets': False, '@Justin_Naito': False, '@justcallmerizzo': False, 'picts': False, '#teen': False, '#booty': False, 'walked': False, 'reserve': False, '@bridgetminamore': False, '#coffee': False, 'boob': False, 'blame': False, 'modern': False, 'bits': False, '@1DCrazen': False, 'justice': False, 'adventures': False, 'SA': False, 'cushions': False, 'xxxxxx': False, 'receive': False, 'un': False, 'lotsa': False, 'Pure': False, 'Afternoon': False, '4am': False, 'file': False, 'Gran': False, 'gig': False, 'karain': False, 'American': False, 'Bonding': False, 'payment': False, 'supreme': False, '@NoakseyV1': False, 'KS': False, 'tattoo': False, 'hiding': False, 'replying': False, 'senior': False, 'raid': False, 'battery': False, 'ALLAH': False, 'animated': False, '3D': False, 'accurate': False, '#marine': False, 'author': False, '«': False, 'solution': False, 'B': False, 'losers': False, 'Collection': False, '#keepitlocal': False, 'sehun': False, 'surfing': False, 'cunt': False, 'forgive': False, 'fk': False, 'narrow': False, 'minded': False, 'assholes': False, 'faithful': False, 'Balloon': False, '@macauleyBoath': False, 'CC': False, 'bitchface': False, '12pm': False, '@_kyle__86': False, 'York': False, '@TomRPI': False, 'context': False, 'fish': False, 'toast': False, 'insurance': False, 'Flying': False, 'Updated': False, '6:15': False, '┓': False, '┗': False, 'Babe': False, 'relaxing': False, '@Essjayleam': False, 'preferred': False, 'term': False, 'packed': False, 'Stack': False, 'Pandora': False, 'rings': False, 'feetblog': False, 'virtual': False, 'pet': False, 'signing': False, 'chelsea': False, '#bae': False, '#TagsForLikesApp': False, '#instagood': False, 'Gud': False, 'NEW': False, 'Snap': False, 'crush': False, '@TobiWanDOTA': False, 'Asian': False, 'awh': False, 'Yayyyy': False, '@mediatemple': False, 'Denmark': False, 'fill': False, 'Journey': False, '1000': False, 'Child': False, 'daring': False, '@BBCRadio3': False, 'tops': False, 'mixed': False, 'brave': False, 'Literally': False, 'nila': False, 'smell': False, 'ATE': False, 'developed': False, 'ofc': False, 'influenced': False, 'experiment': False, 'pancakes': False, 'Sabah': False, '@mattbarker14': False, '@AppleMusic': False, '@ArtieCraftie': False, 'distracted': False, 'IvyPowel': False, 'BDAY': False, 'meat': False, 'pie': False, 'oven': False, 'Reading': False, 'Recite': False, 'Pak': False, '#CJRadaCOMATEada': False, 'HELP': False, 'Cup': False, 'sunnah': False, '#عن': False, 'illness': False, 'coated': False, 'Hallo': False, 'laura': False, 'Patrice': False, 'award': False, '@amyponce0830': False, 'diet': False, 'Acha': False, 'Handsome': False, 'cynical': False, 'runs': False, 'Mrs': False, 'Boys': False, 'invested': False, 'washed': False, 'carry': False, 'fridge': False, '@MSaito6': False, 'Spanish': False, 'Delhi': False, 'Sheffield': False, '@KimKardashian': False, 'ultor': False, 'TRYNA': False, '@StereoKicks': False, '2am': False, 'maker': False, 'otw': False, 'naman': False, 'blends': False, 'beers': False, 'builds': False, 'Mix': False, 'Either': False, '@bernadettesout1': False, 'THEN': False, 'Nathan': False, 'KW': False, '#girls': False, 'horse': False, 'Belfast': False, 'Danny': False, '@HitItRichSlots': False, 'aswell': False, 'Nick': False, 'Austin': False, '@Blade4hire': False, '@ShanduLinda': False, 'pfb': False, 'knives': False, 'eventually': False, 'shorter': False, '@uberlinco': False, \"Wasn't\": False, 'twitching': False, 'TAKE': False, '#trip': False, 'random': False, 'GETTING': False, 'typo': False, 'Chill': False, '2weeks': False, 'PARIS': False, '=:': False, 'sweetest': False, 'rabbit': False, 'password': False, 'ShoshannaVassil': False, '#hotel': False, 'wan': False, 'lor': False, 'centre': False, 'Fighting': False, '@_emeraldeye_': False, '@miss_steele89': False, '@LouMWrites': False, 'elsewhere': False, 'LITERALLY': False, 'Delighted': False, 'emma': False, 'Followback': False, 'dhan': False, 'darling': False, 'pastry': False, '@V4Violetta': False, 'celebrating': False, '110': False, 'EVERYTHING': False, '@shabnam_903': False, 'Bee': False, 'butt': False, '#milf': False, '#bored': False, 'Before': False, 'sees': False, 'potential': False, 'TRULY': False, 'pigeon': False, 'Hospital': False, 'completed': False, 'exited': False, 'Beat': False, 'tail': False, '@MatjazSircelj': False, 'ftw': False, 'mubarak': False, 'kiya': False, 'Olympic': False, 'Anniversary': False, '😷': False, 'classy': False, 'bobble': False, 'Version': False, 'thanking': False, '#band': False, '#rock': False, '#magictrik': False, '#tour': False, '@mehra_sachi': False, 'struggling': False, 'Starbucks': False, 'meds': False, 'ann': False, 'tweeps': False, '100k': False, '@lesholly20': False, 'picked': False, 'dig': False, 'Jessica': False, 'scale': False, 'servers': False, 'investment': False, '@Miss_Dyna_Mite': False, 'xxoo': False, 'Russia': False, 'GOTTA': False, 'OUR': False, 'BOYS': False, 'wasting': False, 'clever': False, '@Cat_grl': False, 'german': False, 'subtitles': False, 'multiple': False, 'engineer': False, '@edsheeran': False, 'hurtful': False, 'kick': False, 'deeply': False, 'icon': False, 'hah': False, 'thousand': False, '@bbcweather': False, 'thus': False, 'hbu': False, '@dbuzzketball': False, 'buys': False, 'eonni': False, 'london': False, 'vagina': False, 'Rly': False, '#website': False, 'Bright': False, 'motivated': False, 'holds': False, 'thankful': False, 'promising': False, 'Christ': False, 'HES': False, '@JoshDevineDrums': False, 'mag': False, 'Celebrating': False, 'nd': False, 'expire': False, 'Island': False, 'Islands': False, 'WiFi': False, 'refollow': False, 'Boy': False, 'Prada': False, 'remind': False, '#kissme': False, 'overwhelming': False, '75': False, 'fire': False, 'TED': False, 'avoid': False, '@johncrossmirror': False, 'files': False, 'policy': False, 'RBI': False, 'progress': False, 'transfer': False, 'diff': False, 'graduation': False, 'plot': False, '🍷': False, '☀': False, '🚲': False, 'minions': False, 'insta': False, '🐒': False, '😝': False, 'supposedly': False, 'AHH': False, '👍': False, 'celebration': False, 'Body': False, 'adding': False, 'Kylie': False, 'breaks': False, 'DADDY': False, 'pity': False, 'voted': False, 'Confidence': False, 'routine': False, '6:30': False, 'tad': False, 'respond': False, 'den': False, 'freedom': False, 'whatsapp': False, 'lemme': False, 'lipstick': False, 'postcode': False, 'sword': False, 'Richard': False, 'FNaF': False, 'mistakes': False, '@SleekStudioz': False, 'selfish': False, 'Laguna': False, 'manga': False, 'initial': False, 'Jess': False, 'based': False, 'Soft': False, 'Lady': False, 'TUNISIA': False, 'Forgot': False, 'Emma': False, 'hearts': False, 'damage': False, 'colleague': False, 'Danielle': False, 'kayo': False, 'EE': False, 'viewing': False, 'hotter': False, 'suits': False, 'Rock': False, 'Trust': False, '#TY': False, '@dean0133': False, '@joeodiete1': False, 'insecure': False, 'commits': False, '@DeltaGoodrem': False, 'yun': False, 'Linda': False, 'tym': False, 'Raspberry': False, 'DONE': False, 'NICE': False, 'falls': False, 'ta': False, 'Uff': False, 'ap': False, 'heyy': False, 'michael': False, 'deserves': False, 'Bailona': False, 'Mention': False, '@imJANExoxo': False, 'FANBASE': False, 'cancel': False, 'rub': False, 'purple': False, 'PS': False, '@RockMyWedding': False, '#instagram': False, '#mugshot': False, 'teasing': False, 'alien': False, 'shares': False, 'jen': False, '@5SOSTumblrx': False, 'balloon': False, '@GP2_Official': False, 'MOM': False, 'Actual': False, 'recommended': False, 'leads': False, 'ans': False, 'device': False, 'messing': False, 'emotions': False, 'hopeful': False, 'successful': False, '♫': False, 'discuss': False, 'hawk': False, 'venue': False, 'kingdom': False, 'Due': False, 'WELCOME': False, 'hopeless': False, '@Hegelbon': False, 'bani': False, 'hates': False, 'hahahah': False, 'sour': False, 'Project': False, 'cries': False, 'Dog': False, 'pee': False, 'pale': False, 'wisdom': False, 'craaaazzyy': False, 'Idaho': False, 'doomed': False, 'dirtiest': False, 'HUNGRY': False, '@madrigalandreaa': False, 'eh': False, 'loud': False, '」': False, '∠': False, 'herself': False, 'desperate': False, 'AmargoLonnard': False, '#batalladelosgallos': False, 'STREAM': False, 'hopes': False, 'brace': False, 'plus': False, 'Whenever': False, 'finals': False, 'merchs': False, '@_Birexus': False, 'whens': False, '@crazynovely': False, 'Dying': False, '@Mark23Baracael': False, '@daddyksoo': False, 'xbox': False, '@baileymac02': False, 'youu': False, 'fries': False, 'neh': False, 'creating': False, 'girlfriend': False, '@attepate': False, \"would've\": False, 'gigs': False, 'legend': False, 'MADE': False, 'Fabian': False, '@MCFC': False, 'WHERE': False, 'Mumma': False, 'physically': False, '21st': False, 'snsd': False, 'Kei': False, '@JackAndJackReal': False, 'Pero': False, '#sfs': False, 'effects': False, '@Techverse_in': False, 'result': False, 'braces': False, 'kisses': False, 'Fries': False, 'cereal': False, '@IamMansoorKhan': False, 'previous': False, '73': False, 'stressed': False, 'Liverpool': False, 'weapons': False, 'WSJ': False, 'bts': False, '@sabal_abla': False, '#loveofmylife': False, 'cross': False, '@rickygervais': False, \"mom's\": False, 'crash': False, 'tease': False, 'plug': False, 'Carlton': False, '#AFLBluesHawks': False, '#Discrimination': False, 'pregnancy': False, 'discrimination': False, 'Foot': False, 'Victims': False, 'stressful': False, 'SOLD': False, 'Valentine': False, 'et': False, 'homo': False, 'biphobic': False, 'disciplines': False, 'incl': False, 'European': False, 'lit': False, 'education': False, 'Benzema': False, 'mug': False, 'Infinite': False, 'poisoning': False, '@uberuk': False, 'uber': False, '600': False, 'partner': False, 'jgh': False, 'AP': False, 'Whats': False, 'screwed': False, 'delayed': False, 'STOP': False, 'ache': False, 'Parents': False, 'father': False, 'manila': False, 'PROUD': False, \"DIDN'T\": False, '2:30': False, 'SAD': False, 'emo': False, 'shedding': False, '#hotgirls': False, 'grew': False, 'whaaat': False, 'kaya': False, 'STAGE': False, 'ummm': False, 'wasp': False, 'charts': False, 'Greece': False, 'Xur': False, 'ANY': False, 'earrings': False, 'RAIN': False, 'somehow': False, 'ps': False, '@walls': False, 'snake': False, 'woe': False, 'nigga': False, 'huhuhu': False, 'hugh': False, 'madrid': False, 'dance': False, 'ladder': False, 'climb': False, '@jenandmish': False, 'puddle': False, 'imy': False, '@JagexAlfred': False, '@wydbaylee': False, 'Hoya': False, 'properly': False, 'mentally': False, 'Neither': False, 'highlights': False, 'racing': False, 'SONG': False, 'MINO': False, 'ONLINE': False, '@Sibulela_M': False, 'noone': False, 'JasminGarrick': False, '@Tsholo_Mapz': False, 'kat': False, 'ignores': False, 'irony': False, 'graduate': False, 'ups': False, '@ObeeyRainbow': False, 'Georgia': False, '@OloapZurc': False, 'repack': False, 'grown': False, 'semester': False, '@KittyKatPK': False, '@Craig_J_Hastie': False, '@MassDeception1': False, 'war': False, 'plaster': False, 'Car': False, 'weave': False, '@TheScript_Danny': False, 'ENG': False, 'cinema': False, 'BIS': False, '3:33': False, 'flies': False, 'disease': False, '#JusticeForSandraBland': False, 'Delphy': False, 'mince': False, 'co': False, 'Tbh': False, 'wth': False, 'kept': False, '@lifelesscurves': False, 'jokes': False, '@sociopathslut': False, '😓': False, 'messenger': False, 'crisis': False, 'flew': False, 'LisaHerring': False, '#ebony': False, 'dots': False, 'leftovers': False, 'accident': False, 'installed': False, 'seat': False, 'boobs': False, 'gi': False, 'ksoo': False, 'awwwww': False, 'MENTION': False, 'Schade': False, 'isco': False, 'nation': False, 'Louisiana': False, '#Lafayette': False, '@keelzy81': False, 'suspended': False, 'Teenage': False, 'jersey': False, '#hotfmnoaidilforariana': False, '@IanHallard': False, 'HD': False, 'wednesday': False, 'shuffle': False, 'askies': False, 'unlucky': False, 'Tired': False, 'external': False, 'cramps': False, 'SAY': False, 'parties': False, 'crashing': False, '✈': False, '☔': False, 'guests': False, 'Barcelona': False, 'Broken': False, '@EE': False, 'cont': False, 'tempted': False, 'stab': False, 'Wayne': False, 'Insurance': False, 'stolen': False, 'devices': False, 'Fra': False, 'STealth': False, 'Inc': False, 'exhausting': False, '3g': False, '@Kimberly_171': False, '@thevinnythepooh': False, '@jefflacs': False, 'tunnel': False, 'companion': False, 'Euuuwwww': False, '@Andile_SS': False, '@ImJoanneT': False, 'Heath': False, '@RealKrisTravis': False, 'Stupid': False, 'permission': False, 'sleeeeep': False, 'acoustic': False, 'IDK': False, 'Feelings': False, 'hanging': False, 'homed': False, 'infront': False, '@lawrenceispichu': False, 'hav': False, '@NICKIMINAJ': False, 'sch': False, 'rooting': False, 'hua': False, 'wings': False, 'fail': False, 'grabe': False, 'entertain': False, '@ImKhweziN': False, 'photoshop': False, 'PEOPLE': False, 'drained': False, 'snow': False, 'Olivia': False, 'foot': False, '@gotshinee': False, 'KHAMIS': False, '#Kadhafi': False, '#blonde': False, 'thorpe': False, '@EmmaLK': False, \"they'd\": False, 'beb': False, 'migraine': False, 'Headache': False, '#인피니트': False, '#CalibraskaEP': False, '@KEEMSTARx': False, 'ant': False, '@HakubiRedwinter': False, '@dumplinghoya': False, '@practicallyhaz': False, 'opening': False, '😬': False, 'bigbang': False, 'Sian': False, 'leeds': False, '@xjisoobelle': False, 'Japan': False, '@leiwaleyn': False, '@sophiasam013': False, '@SkyHelpTeam': False, 'Internet': False, 'speed': False, 'batteries': False, '@tyde_mobile': False, '@yashatenshi': False, 'pleaseeeee': False, '@messiluonel': False, \"infinite's\": False, 'ALREADY': False, 'SICK': False, 'fra': False, 'misss': False, 'tab': False, 'rumor': False, 'chin': False, 'nuggets': False, 'ano': False, 'written': False, '@bluejeanrose': False, '@wonwoolipseu': False, 'activity': False, 'camp': False, 'stayed': False, '@AsdaServiceTeam': False, 'pe': False, 'Isco': False, 'daal': False, 'cooking': False, '@FuzionDroid': False, 'NEXT': False, 'WEEK': False, '@Tigress1412': False, '@Uber_RSA': False, 'Shaved': False, 'bullying': False, '@ArianaGrande': False, 'racial': False, 'sobs': False, 'Blaine': False, 'Darren': False, 'excluded': False, '@tescomobile': False, 'cash': False, 'effort': False, 'theme': False, 'hays': False, '@LlivingDead91': False, '@LijGilmour': False, 'kidneys': False, 'ink': False, 'table': False, 'acne': False, 'connection': False, 'COD': False, '@Maxim_PR': False, 'revealed': False, 'apb': False, 'capcom': False, 'grumbling': False, 'picking': False, 'DAMN': False, '#ZaynComeBackTo1D': False, 'lifetime': False, '#sexdate': False, '@OTRRM': False, 'privilege': False, 'mixtape': False, 'convince': False, 'BOTH': False, 'net': False, 'heartbreaking': False, 'jackson': False, 'hurting': False, '#sad': False, 'sets': False, '@sophielbradshaw': False, '@KyuminpuVELF': False, 'caramello': False, 'Seriously': False, '@znclair': False, 'dbn': False, 'hp': False, 'Jealous': False, '#porn': False, '#repost': False, 'EAT': False, 'Manchester': False, 'IRL': False, 'bloopers': False, 'kills': False, '@SlXSTRINGS': False, 'Indian': False, 'icecream': False, 'flip': False, '#twitter': False, '@nayybear': False, 'dev': False, 'heed': False, 'piano': False, 'complaint': False, 'whatsoever': False, '@dugganrachel': False, 'toe': False, 'Managed': False, \"someone's\": False, \"tomorrow's\": False, 'striker': False, '@TotallyWonwooed': False, 'hyper': False, 'TIMES': False, 'HAVENT': False, '@deefizzy': False, 'notifications': False, 'Cold': False, 'shut': False, '@alyaeldeeb12345': False, 'A9': False, 'Ice': False, 'setting': False, 'risk': False, 'Utd': False, 'weh': False, 'tf': False, '@AllRiseSilver': False, 'trop': False, 'st': False, 'Bush': False, '2/3': False, 'lahat': False, 'deleted': False, 'Yahoo': False, '@Emeraldere': False, '@ohanakian': False, '@KianLawley': False, 'Netflix': False, '🍵': False, 'specific': False, '#kikmsn': False, '#selfshot': False, 'EPISODE': False, 'beh': False, 'recall': False, 'travelling': False, 'expo': False, 'anon': False, 'buffering': False, 'studio': False, 'kian': False, 'locations': False, 'peanut': False, 'MAD': False, '@misses0wl': False, 'client': False, 'blocks': False, 'seasons': False, 'Vine': False, 'tall': False, '@TheUselessThree': False, \"harry's\": False, 'parade': False, 'animal': False, 'chris': False, 'Weather': False, 'ballads': False, 'Ruby': False, 'khatam': False, 'burnt': False, 'toffee': False, '@chris_slight78': False, '@PrincessSGB': False, 'died': False, 'quickest': False, 'delph': False, 'Pains': False, '@mr_omnibus': False, 'sem': False, 'tan': False, 'eid': False, '@chattsss': False, '@aryanswift6': False, 'jail': False, 'YEAH': False, 'miserable': False, '@chuchuxiu': False, 'july': False, 'saddest': False, 'laomma': False, 'LINE': False, 'kicks': False, 'unhappy': False, 'rted': False, '07:17': False, 'READY': False, '@Abby_Lee_Miller': False, 'Lmao': False, '@bbydesu': False, 'fricken': False, 'faith': False, '@caylahhhh': False, 'lmfao': False, 'compared': False, '@MTNza': False, 'crashed': False, 'translate': False, 'rent': False, '@Mandi_Tinker': False, 'inconsiderate': False, 'matchy': False, 'Victoria': False, 'haix': False, 'period': False, 'harsh': False, 'abligaverins': False, 'HP': False, 'LOW': False, 'AbbyMill': False, 'tryna': False, '@boutagirrl': False, 'nae': False, '@JamesMorrisonOK': False, 'VS': False, 'bcs': False, \"you's\": False, 'FEELINGS': False, 'creepy': False, 'winning': False, 'mode': False, 'MEET': False, '@lgpmoradaax': False, '@aurorakween': False, '@_topeh': False, '@iCUM_Thrice': False, 'negotiate': False, 'Bride': False, 'Price': False, 'Advance': False, 'Payment': False, 'clash': False, 'DH': False, 'unfaved': False, '@muscularpayne': False, 'MORE': False, 'Stress': False, 'Amazon': False, 'error': False, '___': False, '👆🏻': False, '@S0LV0': False, '@sonicretro': False, 'reports': False, 'SAW': False, 'restore': False, 'CHANGE': False, 'hz': False, 'Vidcon': False, '@HeelSimba': False, 'Sr': False, '@FATMA_TEARS': False, 'pissed': False, 'physical': False, 'Gonna': False, '@marjswifter': False, 'breakups': False, 'boo': False, 'errors': False, 'unavailable': False, 'TIRED': False, 'Gagal': False, 'everyones': False, '@Marx_Envy': False, 'mjhe': False, 'concerts': False, 'Jackson': False, 'unable': False, 'Ahhhhh': False, 'ps4': False, 'quietly': False, 'Schools': False, 'hrryok': False, 'ella': False, '@CrazyGreen16': False, 'WHO': False, 'stung': False, '@Jennyi_jc': False, 'charged': False, 'OTL': False, 'drivers': False, 'dey': False, 'Gay': False, 'intolerant': False, '1pm': False, 'cornetto': False, 'LOOOL': False, '#babe': False, 'attacks': False, 'ikr': False, '@seiyaharris': False, '@solodmssunshine': False, 'nasty': False, 'sooooo': False, '#dirtykik': False, 'responsibilities': False, 'TEARS': False, 'HARD': False, '@_Milli__': False, 'unlike': False, 'laughed': False, 'YOUNG': False, 'Bet': False, 'float': False, '@Morrisons': False, 'dong': False, 'hop': False, 'merch': False, 'suit': False, '#letsFootball': False, '#atk': False, 'greymind': False, 'BREAKING': False, 'Gayle': False, 'ipod': False, 'TOM': False, '😆': False, 'chewing': False, 'cuddles': False, '@laurentierneyy_': False, '@azzzzyb': False, '@exhaustcd': False, 'corrupted': False, 'ene': False, '@bbgurrll': False, 'Bank': False, 'gum': False, 'charges': False, 'regularly': False, 'victims': False, '@KuisanMacharia': False, '#CalibraksaEP': False, 'horrific': False, 'scoups': False, '@woIfgaang': False, 'wheel': False, 'physics': False, 'disappointing': False, 'craving': False, 'gfriend': False, 'jahat': False, 'pabebe': False, 'Sandra': False, 'Bland': False, 'Worst': False, 'ov': False, 'imran': False, 'clowns': False, 'Steven': False, '4-5': False, '@pamtravel': False, '@Charlottegshore': False, '#MeMeMe': False, 'Finland': False, 'legible': False, 'schemes': False, '@MissFrizzy97': False, 'backup': False, 'plsss': False, '@BenJPierce': False, 'Noooo': False, 'replacement': False, '@scdesc': False, '.\\n.': False, 'assume': False, 'waisted': False, 'emoji': False, 'Freaking': False, '@wajiyaamjad': False, 'JillCruz': False, 'dare': False, 'rlly': False, 'hamsters': False, 'sheeran': False, 'ab': False, 'push': False, '@_Jazdorothy': False, '#brasileirao': False, 'soccer': False, 'thigh': False, 'PV': False, 'NYC': False, 'hayeee': False, 'vision': False, 'shits': False, 'wiper': False, 'local': False, '🇺🇸': False, '@maaaybs': False, 'Africa': False, '#seduce': False, 'doo': False, 'minion': False, '@ayyedolans': False, 'Cooper': False, '1k': False, 'pimples': False, 'Anna': False, 'Missed': False, '@KyraaVazquez': False, '@RohYB_': False, '@cloudljp': False, '@jjjaneell': False, 'sana': False, 'EMOTICON': False, 'suddenly': False, 'JannyGreen': False, 'suicide': False, 'GONE': False, 'apmas': False, 'ummmm': False, 'jay': False, 'uSanele': False, 'favours': False, '@LucyAndLydia': False, 'PLS': False, 'collat': False, 'spilt': False, 'Deth': False, '@ZozeeBo': False, '#sexcams': False, 'lactose': False, 'usey': False, '@France_Inte': False, '@PKuchly57': False, '@Milipol_Paris': False, '@Lamb2ja': False, 'Centre': False, '02392441234': False, 'assist': False, '@DespiteOfficial': False, 'Bleed': False, '@97sides': False, 'yeaaaah': False, 'yippppy': False, 'verified': False, 'rqst': False, 'succeed': False, 'tick': False, 'LWWF': False, '@Impatientraider': False, 'DD': False, 'shorts': False, 'entering': False, 'Sheep': False, 'Bayan': False, 'mischievousness': False, 'ETL': False, 'layer': False, 'in-house': False, 'warehousing': False, 'Katamari': False, 'implies': False, '@wncer1': False, '@Defense_gouv': False, '@Mish23615351': False, '@jjulieredburn': False, 'triathletes': False, 'Gatorade': False, 'Laying': False, 'print': False, \"Friend's\": False, 'yummmm': False, '#Nostalgia': False, '#TBS': False, '#KU': False, '@RookieSenpai': False, '@arcadester': False, 'conflict': False, '@oohdawg_': False, '@MBandScott_': False, '@Eric_FLE': False, '@pointsolutions3': False, '@rossbreadmore': False, 'Seasons': False, 'dope': False, 'Penthouse': False, 'obvs': False, '#Gobigorgohome': False, 'Chat': False, '@maphisa301': False, '💅🏽': False, '@Bosslogic': False, '@CW_Arrow': False, '@ARROWwriters': False, '@johngutierrez1': False, 'Spiritual': False, 'Ritual': False, 'Népal': False, '@ke7zum': False, 'bitsy@bitdefender.com': False, '@izzkamilhalda': False, 'lols': False, 'hatessuce': False, '32429': False, '#cumshot': False, '#nsn_supplements': False, 'Effective': False, 'distribution': False, '#PressRelease': False, '#NewsDistribution': False, 'x46': False, 'documentary': False, 'Earthlings': False, '@jamiefigsxx': False, '@MichelBauza': False, '@InvataOnline': False, 'buuuuuuuut': False, '@leisuremarkltd': False, '@NoshandQuaff': False, '@aktarislam': False, '@keanebrands': False, '@HeritageSilver': False, '#letsgetmessy': False, 'Jo': False, '@sehunshinedaily': False, '@Joyster2012': False, '@CathStaincliffe': False, '@_Kimimi': False, 'soundtrack': False, '#Jordan': False, '@FIRDOZ': False, '@dannyprol': False, '@sssniperwolf': False, 'gameplays': False, '@dennislami': False, '@Dicle_Aygur': False, '#etsy': False, '#boxroomcrafts': False, '@PeakYourMind': False, '@groovinshawn': False, 'rechargeable': False, '@France_Espana': False, '@reglisse_menthe': False, '@CCI_inter': False, '@brynybrath': False, '@smallcappy': False, 'speech': False, 'canals': False, 'dasvidaniya': False, '@KeithRParsons': False, 'scouting': False, 'SG': False, 'WLAN': False, 'pros': False, '@Cecilie_Hell': False, '@420evilangel': False, '@wazimotometal': False, '@durooooooo': False, '@spigranty': False, 'lollipop': False, '🍭': False, 'Nez': False, '#AGNEZMO': False, '@Elemaaan': False, 'oley': False, '@CowokAddict': False, 'Mama': False, 'stronger': False, '@MacatangayApril': False, '@tk_kjk_kndr': False, '@boukendreamer': False, 'MISTY': False, '@CarcassDrop': False, '@SyuhxdxTengku': False, '@sluttywife2': False, '@murtishaw': False, '@aqui_fr': False, '@FRTechStartups': False, '#HappyBirthdayEmilyBett': False, '@emilybett': False, 'timezones': False, 'Grande': False, 'chosen': False, '@syazwanzainal': False, '#eh': False, '@michae1green': False, '@superninjaalan': False, '@Doug_Laney': False, '@LoLEsportspedia': False, 'x45': False, 'Joined': False, '#HushedCallWithFraydoe': False, '@_Fraydoe': False, '@YasLarry': False, '@xhebenkewu_9920': False, '@darlingIXHAI22': False, '@SyreenAnne': False, '@AmericanOGrain': False, '@PecomeP': False, '@APaulicand': False, '@ZaynZaynmalik30': False, '@HarNiLiZaLouis': False, '@metalgear_jp': False, '@Kojima_Hideo': False, 'T-shirts': False, '@AxeRade': False, 'haw': False, 'phela': False, 'prince': False, 'charming': False, '@straz_das': False, '@DCarsonCPA': False, '@GH813600': False, '@twentyonepilots': False, '@fujirock_jp': False, 'tylers': False, 'hipster': False, '@MartyRafenstein': False, '@UKBusinessLunch': False, '@LAfitnessUKhelp': False, 'Kahfi': False, 'OhmyG': False, 'dub': False, 'ig': False, 'GONDOOO': False, 'MOO': False, 'TOLOGOOO': False, '@rozbabes': False, '@NGourd': False, '@Locita': False, '@D_Robert_Kelly': False, '@kevinthewhippet': False, '@Cassie_Spaniel': False, '@Bracken_Nelson': False, '@BellisimoBella1': False, '@SpanielHarry': False, 'Physiotherapy': False, 'Custom': False, '@Cjlopez21': False, 'Monica': False, 'x43': False, '@MandaScapinello': False, 'Treviso': False, '@morallosanthony': False, '@NIKKIERIOZZI': False, 'Oven': False, 'roasted': False, 'garlic': False, 'olive': False, 'century': False, 'tuna': False, '@HostMyOffice': False, '@NigelPWhittaker': False, '@lemezma': False, '@_TheBunkerJL': False, 'atchya': False, '@TeamTall17': False, '@FlashHayer': False, '@Michelploria': False, '@MyFrenchCity': False, '@jasoncreation': False, '@ChiAB2486': False, '@MrCliveC': False, '@PCDKirkwood': False, '@DC_ARVSgt': False, '@COPS_President': False, '@EmWilliamsCCCU': False, '@LauraRGallagher': False, '@Hall11Kate': False, '@LaMinx541': False, '@JohnTarbet71': False, '@thatguycalledP': False, '@Gculloty87': False, '@digitalplace2be': False, '@intlboost': False, '@_lafontpresse': False, '@stayfaboo': False, 'Web': False, 'volta': False, 'funcionar': False, 'jailbroken': False, 'Leia': False, 'hologram': False, 'R2D2': False, 'Obi': False, '@Mburu__': False, 'UCL': False, 'passing': False, '🚂': False, 'Railway': False, 'Station': False, 'DEW': False, '@nationalrailenq': False, '@ClearlyArticle': False, '430': False, '@uptommosass': False, '9:25': False, 'Shweta': False, 'Tripathi': False, 'kurtas': False, '@TransworldBooks': False, 'Anyway': False, 'gooood': False, '@jhun_hunyo': False, 'enn': False, '@OJBJ': False, '@holmesjsamuel': False, 'warmup': False, 'Coming': False, 'Andar': False, 'Sampath': False, 'Sona': False, 'Mohapatra': False, 'Samantha': False, 'Edwards': False, 'Mein': False, 'Tulane': False, 'Wah': False, 'Josh': False, '@darlakim_': False, '16.20': False, '@IzywayLesExpats': False, '@na4innov': False, '@InXpressCoAzur': False, '@Juleeyaanaa': False, '#GiveItUp': False, 'subsidy': False, 'initiative': False, 'proposed': False, '@dayloladay': False, 'x42': False, '@jaimeemelanie_': False, '@Clazziebritchas': False, 'outlying': False, 'islands': False, 'Cheung': False, 'Chau': False, 'Mui': False, 'Wo': False, 'Kitchen': False, 'amazed': False, '@cybelxxx': False, '@Jana7380': False, 'cusp': False, 'rewarding': False, '@BroadcastBeat': False, '@InSunWeTrust': False, '@conseilsmkg': False, '@agylyxa': False, '@amisharanka95': False, '#CheesyDelights': False, '@CLARAROJASG': False, '@BF_P2C': False, '@MyBusiness_Plan': False, '@PuaMagasiva': False, 'Email': False, '@vineshpomal': False, 'delays': False, 'wd': False, 'shifting': False, 'engine': False, '@Sexdate_gratis': False, '@TikoSD': False, '@no1_razorstan': False, '@CassTheTrainer': False, '@LucienneDiver': False, 'Northern': False, 'sights': False, '@Mecastor01Mica': False, '@Z_Intl_Agency': False, '@Tivipro': False, '@compexly': False, '@imraina': False, 'XOXO': False, 'jaann': False, '@BestOfFicPad': False, '@MrCFluegel': False, '@JeanMarcPN': False, '@MooseAllain': False, 'pirouette': False, 'Moose': False, '@KristophCajon': False, 'philly': False, 'x41': False, 'flawed': False, 'negate': False, '@ReflectKnives': False, 'moves': False, 'nirvana': False, 'amy': False, 'winehouse': False, '@CCIdeLYON': False, '@CCI_95': False, '@CPNERI_ESIGROUP': False, '#TomHiddleston': False, '#ElizabethOlsen': False, '#yaytheylookgreat': False, 'Vid': False, '@NarakuBrock': False, 'Ending': False, 'Xfiles': False, 'Content': False, '@aangelayap': False, '@NTtownend': False, '@ReyesFraulein': False, '@fatpunkstudio': False, '@caitecat1209': False, 'jb': False, 'belieber': False, '@DiploMix': False, '@CCI_entreprises': False, '@CCI_92': False, 'Nighty': False, '@Bonsplansblog': False, '@guywilliamsguy': False, 'foundry': False, '@suzannepanter': False, '@kevinbacon': False, '@katosman': False, 'effing': False, 'Woot': False, '@Derek_GTA': False, 'ParkShare': False, 'Gloucestershire': False, 'Aaaahhh': False, 'reliever': False, '@elevents2': False, '@JoussotFrench_J': False, '@NYIBF': False, '@El1neW': False, \"How're\": False, '@Jesutomisin': False, 'Arbeloa': False, '@ShawnMendes': False, '@matteomeacci': False, 'uncountable': False, 'unlimited': False, '#TeamPositive': False, '@coffeebreak22': False, '@LauRenArren': False, '@drparkave': False, '@JWKanyuira1969': False, '@dheracing': False, '@RhoaChri': False, '@BarbaraBathurst': False, '@1cryingeye': False, '@willisteam': False, '@mikerobb': False, '@24gooch': False, 'gifts': False, 'x40': False, '@ACBM_SECEM': False, '@DCarsonCPA_NYC': False, '@PromosalonsInfo': False, '@ZarlashtFaisal': False, 'Sethi': False, 'HIGH': False, '@IAm_Lennox': False, 'exe': False, 'skeem': False, 'saam': False, '@_pumpchkin_': False, '@aka_pump': False, '@LilfrenchMsp': False, '@_Lishielou908_': False, '@CoSchedule': False, '@SyedIHusain': False, 'izzat': False, 'wese': False, 'khawateen': False, 'kar': False, 'deya': False, '@MovieTubePW': False, '@nova_caneeee': False, '@vaalthepal': False, '@heydonworks': False, 'Conversations': False, '@SoggyStones': False, '@CCIFCcanada': False, '@AdamEvnmnt': False, '@boxcalf1': False, '#Mclaren': False, '@AvinPera': False, 'square': False, 'enix': False, 'bissmillah': False, '@SephtonMark': False, '#SocEnt': False, 'startups': False, '@TobaccoDockLon': False, '@HelpingB': False, 'arnd': False, '@HGVWolfie': False, 'Basically': False, '@ellenRstewart': False, '@IonSwitz': False, 'discussions': False, '@ely83_ely': False, 'definately': False, 'Rakyat': False, '@ryan2390': False, 'promoted': False, 'stalked': False, '#mypapamypride': False, 'Proud': False, 'Papa': False, 'Coach': False, '@imarpita': False, '@awaismarwat2011': False, 'kha': False, 'x39': False, '@_pigglywiggly': False, 'mango': False, \"lassi's\": False, \"Monty's\": False, 'marvellous': False, 'Though': False, '@StayfanChemin': False, '@CCI_75': False, '@aandreup': False, '@Thakurain_': False, 'Chalna': False, '@iyah_mohamad': False, '@allygrrdo': False, 'Hazel': False, 'Pta': False, '@AR1961': False, 'doc': False, 'splendid': False, '@JRTurnerPhoto': False, '@davidqueenan': False, '@jameslturnbull': False, 'Nigeria': False, '@PERKSOFNIALLJH': False, 'RTed': False, '@johnny_lopez96': False, '@imafaithreyes': False, 'thaaanks': False, 'puhon': False, 'happinessss': False, '@VaibhavVj78': False, '@PayUmoney': False, 'TnC': False, 'prior': False, '2:22': False, '@aliyaskates': False, '@yoshihikomkm': False, 'Fat': False, '@emmajaneparsons': False, '@CuriousMindsNW': False, 'Tameside': False, '@hydrcted': False, '@CharmingJedward': False, '@2SHYMC': False, 'scousers': False, 'Zoe': False, '@RachelEvans_28': False, '@StudentTrip': False, 'Sameee': False, '@EdgarsLame': False, 'Edgar': False, '@MarreyJewAna': False, 'Abes': False, '@prettyden15': False, 'x38': False, 'dreamily': False, 'pout': False, '@burwellitltd': False, '@manfrotto_tweet': False, '@WMFireDogs': False, 'Del': False, 'Rodders': False, '@ForkH': False, 'newest': False, 'gamejam': False, '@_xRiya': False, 'Strange': False, 'Knowing': False, '@e1d4c8e25ec844c': False, '@ScreamQueenLR': False, 'Brandi': False, 'DROP': False, '@kthrnbyln': False, 'During': False, 'carnival': False, 'Xavier': False, 'Forneret': False, '@jennnnifer29': False, 'Jennifer': False, '@trisha1234': False, 'Trish': False, 'Gratefulness': False, 'wakeup': False, 'beside': False, 'LMAOOO': False, '@MariaGM350': False, 'GR8': False, '@allpawone': False, '@Hungry_Hounds': False, '@DDWalks': False, '@HealthyHounds4U': False, '@pawsforawalk': False, '@cinnamoniboni': False, '@renukaVyavahare': False, '@Chelt52': False, '@SueRyderLCH': False, '#Cheltenham': False, '@iggyazalea': False, '@lanadelrey': False, '@megannicole': False, '@madisonellebeer': False, '@tiffanyalvord': False, '@astro_lass': False, 'weren': False, 'kale': False, 'crisps': False, 'x37': False, '@mykidsloveme2': False, 'Worldwide': False, '#SFVBeta': False, '@CrazyLeoNet': False, '@Woodslenny': False, '@MSportLtd': False, '@FordPerformance': False, 'Vantastic': False, '@VBGIE': False, '@FordOwnersClub': False, '@autocultureirl': False, 'Xcylin': False, 'bundle': False, 'realisticly': False, 'Net': False, '@PublicProtector': False, 'Education': False, 'weapon': False, 'Nelson': False, 'Mandela': False, '@agavrilychev2': False, 'Chenab': False, 'flows': False, '#incredibleindia': False, 'Caught': False, '@annaelerihart': False, 'Super-Blend': False, '@MrsManfyDiston': False, 'youth@bipolaruk.org.uk': False, 'Alma': False, 'Mater': False, '#HighSchoolDays': False, '#ClientVisit': False, 'Faith': False, 'Christian': False, '#LizaMinnelli': False, 'appearances': False, '@GaryJHorrocks': False, '@ScottGorenstein': False, '@messiholic_': False, 'Hills': False, '@dantoml': False, 'Beats': False, 'Natural': False, 'Pefumery': False, 'Neals': False, 'Yard': False, 'Covent': False, '@grannaHarmony': False, 'indo': False, 'harmos': False, '@ewoksurewok': False, 'Americano': False, '@thevaas': False, '@Vasan_Bala': False, '@jessicaswift_13': False, 'handshome': False, 'juga': False, '@LauraSummersNow': False, '@STWevents': False, 'hurray': False, '@tomokawaiix': False, '@liilss': False, '@WoollyWormhead': False, '@realiseagency': False, '@LoreTam': False, '@jojoaro0618': False, '@CaityYoungblood': False, '@lcfcset': False, 'exec': False, 'Loryn.Good@lincs-chamber.co.uk': False, '@bikechainricci': False, '@SHINEUKCharity': False, '@ShineBalloons': False, 'LUCK': False, 'Chinas': False, 'homosexual': False, '#HyungBot': False, '@Gamer1811': False, 'Lot': False, '@mattghouse': False, '#jgh': False, '@ashtonparsonsuk': False, '@LypsylUK': False, '@heartsouthwest': False, '#timetunnel': False, '1982': False, 'Hiii': False, '@smartcookiesam': False, '@Confarreo': False, 'dominoes': False, 'pub': False, 'heated': False, '@hostclubhowell': False, '@danvpeterson': False, 'hastily': False, '@dreamshakes': False, '@marketsmatter': False, '@MrsMarketUK': False, '@CheshireLadders': False, '@Streetzine': False, '@jewellery_bank': False, '@luvthenorth444': False, '@BlueAppleHeroes': False, 'screenshotting': False, '@AshrafUzma': False, '@RTAluvedAfridi': False, 'Pakistanis': False, 'x36': False, '3Points': False, '#DreamTeam': False, 'Gooo': False, '@PBBabscbn': False, '@crisasingson07': False, '@addictionguy': False, '@ernezpjy': False, '@sharleneyupasc1': False, '#Welsh': False, '#Wales': False, 'Yippee': False, '@stalkerIDOL_': False, '@riprap1': False, 'Em': False, '@coxn8r': False, \"U're\": False, 'BIGOT': False, 'squats': False, '@BeingSobtian1': False, 'Dobar': False, 'dan': False, 'Heavies': False, '#musicology2015': False, '#day2': False, '@Chileeers': False, '@itsAllieFx': False, 'Officially': False, 'Graduated': False, '@Afl2277': False, 'bisexuality': False, '@jiarpi20': False, 'minal': False, 'aidzin': False, 'pi': False, '@imlexapadilla': False, '@Riverford': False, '@snxy': False, '@JessopJill': False, 'SMU': False, 'oval': False, 'Coz': False, 'basketball': False, 'Whahahaha': False, '#SOAmazing': False, 'A5': False, '@umar_farouk7': False, '#TeamRed': False, '@Kayleigh_A': False, 'greatly': False, '@lnnamnd': False, '@makotobio': False, '7th': False, 'CinePambata': False, 'mechanics': False, 'Sali': False, '@NdumisoNkosi5': False, '@WooDotaMel': False, 'moms': False, 'swishers': False, 'copping': False, 'Ducktails': False, 'Exposure': False, '#SOTW': False, 'Jingly': False, 'jangly': False, 'loveliness': False, '#Halesowen': False, '#BlackCountryFair': False, 'High': False, '@georgeeJgibsonn': False, 'assessments': False, '@etherealmind': False, '@TsMagicCandy': False, 'YOu': False, 'ooze': False, 'appeal': False, 'AmassiveoverdoseofshipS': False, '@TheEmblaze': False, '@cnni': False, 'ISIS': False, 'Chan': False, 'noted': False, '@GemmaPriceUK': False, 'Gemma': False, 'Orleans': False, '#fever': False, '#GESKenya': False, '#ObamaInKenya': False, '#MagicalKenya': False, '#GreatKenya': False, '#AllGoodThingsKE': False, 'Umaru': False, '@CaseyBatchelor': False, '@BondedByBlood2': False, '@xx_dayan': False, '@amiibofiguresuk': False, '@icy_suan': False, '@valenaty_4ever': False, '@naqvisahab1': False, 'labeled': False, 'batch': False, 'principal': False, '@jess_o_lover101': False, 'Release': False, 'TOP': False, 'Wkend': False, '@MerlynTheCollie': False, '@BarksBunnies': False, '@JessPals': False, '@MollySniffs': False, '@WobblyCollie': False, '@DescentHypnosis': False, 'necessary': False, '@ayushmannk': False, '@BadBoyBunny': False, '@Clawzskunk': False, '@bergsplace': False, '@simplybeingmum': False, '@loopyrach': False, '@Deardads1979': False, '@mummyvsdaddy': False, '@harryshonestmum': False, 'abstinence': False, '@samm_amberr': False, '@marthasydenham': False, '@alexxdouglas': False, '@wordpressdotcom': False, 'repeated': False, 'relentlessly': False, 'approximately': False, '@Smileformeacc': False, '@RuneScape': False, '@OldSchoolRS': False, 'OldSchool': False, 'Runescape': False, '@ourseasidebaby': False, '@MrsRobinsonme': False, 'REST': False, 'LOVELY': False, 'DAAAY': False, '#JUMMA_MUBARIK': False, 'aLL': False, '#FrNds': False, '#StaY_BlesseD': False, '@LittleMissLilia': False, '@EmInTrouble': False, 'pussycats': False, '@min0rthreat_': False, 'Pretoria': False, '#fahrinahmad': False, '#tengkuaaronshah': False, '#eksperimencinta': False, 'Tykkäsin': False, 'videosta': False, '200sub': False, '15e': False, 'PaysafeCard': False, 'LUE': False, 'DESC': False, '@Jack_Septic_Eye': False, 'eeeep': False, '#SoHappyRightNow': False, '@FilikIrisha': False, 'mmmmmm': False, 'azz-sets': False, '@normabattle': False, 'refreshed': False, '@OldManGamin72': False, '@thinkingdifrnt': False, 'Manthan': False, 'determination': False, '@JamesBourne': False, 'BEAUTIFUL': False, 'LONELIEST': False, 'TATTOO': False, '#magnificent': False, '#fantastic': False, '@LoriShemek': False, '@thebikinichef': False, '@AgingBackwards': False, '@pilatesbodynyc': False, '@rskdance2011': False, '@southasianartuk': False, '@Keranjeet': False, 'Rashmi': False, 'dedication': False, '@szekifer': False, '@phattony138': False, '@djchiavistelli': False, '@DJ_CharlieD': False, '@Paul___Rayner': False, '@naturalsystah': False, '@AbzuGame': False, '#fanart': False, '@HardcoreGooners': False, '@tashagunners': False, '@kirstyburns3': False, '@aprilburton21': False, '@liztc2': False, '@Miss_Boots1': False, '@zannatur': False, '@NativeNoddy': False, '@NatG_22': False, '@Ms_T_P': False, 'CHEERS': False, 'Massive': False, 'Niamh': False, 'Fennell': False, 'Journalism': False, 'Graduate': False, 'Lands': False, 'Copying': False, 'Pasting': False, 'Tweets': False, '@ice_crystal': False, '@Elbow': False, '@mrkennyt90': False, 'Ariana': False, 'Gomez': False, 'tomlinson': False, 'Payne': False, 'Caradelevingne': False, '🌷': False, '@DomSequitur': False, '@ohvdqohcdjroc': False, '#iamCA': False, '@ashleylynch': False, '@wetsprocket': False, '@BOYFI_MW': False, 'aftie': False, '@AnneMOrbs': False, '@bjoernknafla': False, 'EXACTLY': False, '#ProKabaddi': False, 'Koel': False, 'Mallick': False, '@YourKoel': False, 'recites': False, 'Anthem': False, '@StarSportsIndia': False, '#YourNaturalLeaders': False, '#YoungNaturalLeaders': False, '27July': False, '#Cumbria': False, '@yournaturallead': False, '#Flockstars': False, 'Thur': False, '30July': False, 'ITV': False, '#GoodNight': False, '#sleeptight': False, '#haveagoodday': False, 'intend': False, '#teamAdmicro': False, '@theCIGirl': False, '@LeRoiHaptalon': False, '@stpierjane': False, '@HeadwayGsy': False, '@cheshiregsy': False, '#FridayDownpour': False, 'clears': False, 'Rohit': False, '@XxGoodGoddessxX': False, 'inspired': False, 'sheer': False, 'Obama': False, 'innumerable': False, 'President': False, 'shauri': False, 'yako': False, '#MemoToHaters': False, '@Pwincessly': False, '@nanavisitor': False, 'pampering': False, '@KingCo915': False, \"t'was\": False, 'cabincrew': False, 'langkawi': False, 'august': False, '@AirAsia': False, '@tonyfernandes': False, '@buzylizzy1': False, '@tlntweets': False, '@NutzAudio': False, '@LiPSMACKER_UK': False, '@instyle_UK': False, '@Jewellery4': False, '@InterfloraUK': False, '@IcelandFoods': False, '@IloveHQ': False, '@virtuallykaren': False, '@jet_cer': False, '@KrissyDClayton': False, 'ex-twelebs': False, '@ohsexycyruz': False, '@BertolacciTweet': False, '@Inter': False, '@JaggedEdge1': False, '@MrsHHundal': False, '@Hutch_PR': False, '@higginsrecruit': False, '@KioskAtThePark': False, '@UptownJavin': False, '@ChloeeElmoree': False, '@Eymvnique': False, 'makeover': False, '@OrchardTeaRoom': False, 'brilliantly': False, 'Happyyyyyy': False, 'Birthdaaaaayyyy': False, '@momoismail9': False, '@ZaloraID': False, 'Career': False, '@dischanmedia': False, 'overwhelmingly': False, '@Murrayyyyyyyy': False, 'yesss': False, 'beauts': False, '@sophieintsticks': False, '@catecawley': False, '@jasmoonbutterfl': False, '@andreasson_': False, '@halfwaytohemmo': False, '@BionsenBeauty': False, 'deo': False, 'faaaaaabulous': False, '#aluminiumfree': False, '#stayfresh': False, '@MrLythgoe': False, '@ithloopwithcoco': False, 'navigate': False, '@zara_arsalan': False, 'thnks': False, 'progrmr': False, '@lewisssrg92': False, '@arabicaah': False, 'figures': False, '@andreaholzner': False, 'surprising': False, 'roses': False, 'emotive': False, 'poetry': False, '@R0CKMYDNA': False, '@iFLYflat': False, '@VirginAustralia': False, '#FrequentFlyer': False, 'apologizing': False, '@tonywhittaker': False, 'Fabulous': False, 'KB': False, '@MusicTubenl': False, '@ignitionphoto': False, '@HUNCOY': False, '@kunal8966': False, '#LondonDairy': False, '@LeahCarla11': False, '@Playacreep': False, 'urs': False, '@craftbeercoll': False, 'covers': False, 'sins': False, 'xxxxxxx': False, '@MSLJim': False, 'chuckle': False, '@JadeTheMong': False, '@BakingBar': False, '@Nobicate': False, 'Doh': False, 'Subscribers': False, '@The_ScriptNinja': False, 'Dry': False, 'scorching': False, '@infocffm': False, '@MediationMK': False, '@ExeterMediation': False, '@KentFMS': False, '@EssexMediation': False, '@tom_peters': False, '@pallavijha': False, 'stamina': False, '@digestdigital': False, 'tweeties': False, '@anish_kochar': False, '@bangaloretrance': False, '@alistairbeech': False, 'FAB': False, '@TurnUpTexas': False, '@RiahanneNavarro': False, '@electricgecko': False, 'Introducing': False, 'altering': False, 'understanding': False, '@JAOlivar0731': False, 'TWOOFS': False, 'supa': False, 'dupa': False, '@MyPackofWolves': False, '@Skythegsd': False, '@helvellyn': False, '@BennyBoygr': False, '@clivewalker': False, 'Dartmoor': False, '@buymobiles_help': False, '@Taylor_Marisa': False, '@ijn_mikky': False, 'Someday': False, '@Smiling_Girly_': False, 'dii': False, 'smf': False, 'Ft': False, 'japanese': False, 'import': False, 'matching': False, 'stationary': False, '@peterlizmaher': False, 'TWITTER': False, 'ACCOUNT': False, 'BROKEN': False, '@NJES44': False, '@DrNomanSheikh': False, '@1DThisIsUs': False, 'connected': False, '@koreacholics': False, '@Aremay': False, 'FACTS': False, 'scamper': False, 'alarm': False, '@alanessyahmad': False, 'Chweina': False, 'Jotzh': False, '@stellaandlouise': False, 'hiya': False, 'coat': False, 'beforehand': False, 'FOH': False, '@alrightPET': False, 'menacing': False, 'JoJo': False, '@Susansuzt': False, '@SimonBedford': False, 'Ta': False, '@LaurieTatum2': False, '@DrewJPS': False, '@Mhonchi_Savs': False, 'Admin': False, 'LuKris': False, 'redid': False, '@NatILY02': False, '@Rosiellis': False, '@archi7194': False, 'V.ball': False, 'ATM': False, '@SebPoGo': False, '@JessicaDelpech': False, '@AlexandraJaafar': False, '@JeanDams': False, '@raphaelcolas': False, '@bylkana': False, '@itspatgonzales': False, 'Building': False, 'Fully': False, '@royvoragen': False, 'hang-copying': False, 'TRANSLATION': False, \"Dostoevsky's\": False, 'Notes': False, '@kg_ubu': False, '@AdamKuczynski': False, 'voucher': False, 'bugatti': False, '@_Potz_': False, '@Converse': False, '@royatv': False, '@FKarsheh': False, '@RahafS': False, '#مطعم_هاشم': False, 'A7la': False, 'bdayt': False, 'mnwreeen': False, '@NativeMusic49': False, 'jazz': False, 'x34': False, '@TvilleSocialMed': False, '#PBEvent': False, 'HQ': False, 'YoonA': False, 'Hairpin': False, '#mastership': False, '@She_fantastic': False, 'paindo': False, '@IrhaAzzahraa_': False, '@greekgodnjh': False, '@Gxbby182': False, 'await': False, '@lyssafox20': False, '@Manue1Jimenez': False, 'Manny': False, 'asshole': False, '#BrijResidency': False, 'structure': False, '156': False, 'encompasses': False, 'BHK': False, 'Flats': False, '91': False, '975-580-4444': False, '@sajidislam': False, 'honored': False, '@KielixTTV': False, '@Jamelyyyyy': False, 'Currys': False, 'Clash': False, '@prasetyoseven': False, 'Milano': False, 'Calling': False, '@ranzkyle': False, '@synergymicro_': False, 'gassed': False, '@DaManDJ3': False, '@andrewspenceim': False, '@vinkaazzahp': False, '@dk_mok': False, '@GalactiChat': False, '@evilbluebird': False, '@nicole': False, '@stevieby': False, '@ONETWENTYWATTS': False, '@aj_cfc2': False, '@rav_bajwa': False, '@CherylynPitcher': False, '@steedy58': False, '@SkidKidd': False, '@megan_410': False, 'UTC': False, 'flume': False, 'kaytranada': False, 'alunageorge': False, '@DamnTurtle1': False, 'certainty': False, 'solve': False, '👊': False, 'totem': False, '@lunglock': False, '@rhodria': False, '@joseyxneko': False, '@AnouilhUK': False, '@DavidBedwell': False, '@StupidFaceRob': False, '@QueenOfTheSonic': False, '@therealrobcook': False, '@KingRichard76': False, '@Namraeter': False, '#GoodwynsGoodies': False, '@FooWhiter': False, 'moaning': False, 'Jozi': False, '@MitchFAS': False, '@philconcerts': False, 'ATL': False, '@syedmohdjunaid': False, 'coldplay': False, 'Scientist': False, 'Fix': False, 'Yellow': False, 'Atlas': False, '@4eyedmonk': False, '@chandsxc': False, '@luvjoyein': False, 'yein': False, '@yarnsbaby': False, 'Receiving': False, 'selos': False, 'Ans': False, 'Timely': False, 'Arrival': False, 'Waiter': False, 'Customer': False, 'title': False, '@tmart_m': False, 'wripped': False, '@soot1978': False, '@iloveseika': False, '@JessStewart1': False, '@CelebrityCruise': False, '@ade_rob': False, '@iSweetan': False, 'Sweetan': False, '@tristanpope': False, '@BBosold': False, '@UmiAmaiOfficial': False, '@_edmce': False, 'sopranos': False, '@KidXSA': False, '@BigBraMan': False, '#Ukraine': False, 'x33': False, 'disney.arts': False, 'elmoprinssi': False, 'Bit': False, 'salsa': False, '@LatinMotion': False, '@PiperDonut': False, '@blossominglou': False, '@CCBMLov': False, '@13Mesh': False, 'blogiversary': False, 'Bohol': False, '@_ayeayecaptain': False, '@BrizzleLass': False, 'briliant': False, '@ansriram': False, 'annual': False, 'voices': False, '\\U000fe334': False, '@vaninatwilight': False, 'Yeheyy': False, 'Pinya': False, 'whoooah': False, 'Listen': False, 'trance': False, 'PHYSICS': False, '@LilyTins': False, '@IzabelaCoolCat_': False, '@Komal_Indian': False, '@SocialitePanda': False, 'ब': False, 'Jungle': False, 'accommodate': False, '@nejcsvete': False, '@YouTubeActus': False, 'Swag': False, 'mia': False, '@KjorObbinsL': False, '@wideglide96': False, '@vivijo86': False, '@beingsomebody11': False, '@sophlicious84': False, '@shaymc3796': False, '@ShaymcSharon': False, '@ParaJanitor': False, '@kelseabellum': False, '#workinprogress': False, 'colours': False, '@ryan_landreth': False, 'Finnigan': False, '#Be': False, 'Fotoset': False, 'reusful': False, '@MiyaOliva': False, 'Quit': False, '@Dented_Deni': False, 'muntu': False, 'gem': False, 'Falcos': False, '#supersmash': False, '@DeniseDenise__': False, '#hotnsexy': False, '#friskyfriday': False, '@cristianavai3': False, '@AFCGraMaChroi': False, '@Goonerlover69': False, '@iWaveBack': False, '@chrisjarvis213': False, '@LeeCash': False, 'BA': False, '@bryanteslava': False, '@saneliur': False, 'tissues': False, '#Hannibal': False, 'hotbed': False, 'bush': False, '#ClassicAssures': False, '@AguilerArmenia': False, '@Aditi_SoSaree': False, '#WSaleLOve': False, '@ChaSilveo': False, 'thrilled': False, 'international': False, 'aerial': False, 'operators': False, '#Boom': False, 'Ferry': False, 'after-work': False, 'Dj': False, 'Resto': False, 'drinkt': False, 'koffie': False, 'A6': False, '@purplestar420': False, 'Stargate': False, 'Atlantis': False, 'Muaahhh': False, '@seashoponline': False, '🙈': False, 'nagsend': False, '@Little_Nells': False, 'TRUST': False, 'Leggete': False, 'qui': False, 'per': False, 'Mar': False, '@louliveswell': False, '@hectorparr0123': False, '@hackadayio': False, 'Sticker': False, '@HackadayPrize': False, 'tablet': False, '@Chewy_Lemon': False, 'Milo': False, 'Aurini': False, 'Juicebro': False, 'pillars': False, 'respective': False, 'communities': False, 'boii': False, '#SmashingBook5': False, 'bible': False, '@smashingmag': False, 'Ill': False, '@Dorky06': False, 'LAMO': False, 'platonic': False, 'SCIENCE': False, '#Smile': False, '@mr__cooke': False, '@CCWeekUK': False, '#community': False, '#residents': False, '#servicewithasmile': False, '@calllmejay_': False, 'fams': False, '#bloodline': False, '#huskies': False, '@CorderMrs': False, 'obituary': False, '#goofingaround': False, '#madness': False, '#mad': False, '#bollywood': False, '@WhirlpoolBathUK': False, '@roofbsuzy': False, '@roofyuna': False, '@roofsinb': False, '@roofchaelin': False, '@roofaim': False, '@roofjackson': False, 'bitterness': False, 'anger': False, 'hatred': False, 'indifference': False, 'Zach': False, '@rich_bartram29': False, 'AC': False, 'Achieving': False, 'excellence': False, 'Producer': False, 'Boggling': False, 'Fatiguing': False, 'Baareeq': False, '@bexlittle': False, '@AlisonWright8': False, '@lindyrendy': False, '@Cloud2ltd': False, '@DotNetSolutions': False, '@Kkiimmeenngg': False, '@mobiadage': False, '@GameDevRobot': False, 'hobby': False, '@AvantikaSeeth': False, '@mandisatweets': False, '@santherlabelle': False, '@Clicks_SA': False, 'Tweenie_Fox': False, 'accessories': False, 'tamang': False, 'hinala': False, '@RoyalMail': False, '@wonkASSLILO': False, 'Niam': False, 'Selfieeeee': False, 'LASS': False, 'Aling': False, '#Gorgeous': False, '@TillieModel': False, 'swim': False, '#Birthday': False, '#Perfection': False, '@Linduhhh9': False, '@doloresssvee': False, '@77kaylee77': False, 'feminists': False, 'fought': False, 'snobby': False, '@JamieForevs': False, 'CAROLINE': False, 'mighty': False, 'HBD': False, '@Carolineking0': False, '@FC_TEAMJK3T': False, 'jogging': False, '@GET_TUDA_CHOPPA': False, 'traveling': False, 'Newly': False, 'listed': False, 'EBay': False, '#disneyinfinity': False, '#starwars': False, 'preorder': False, 'starter': False, '@Parulcoolthougs': False, 'homies': False, 'skins': False, '@awadkum': False, 'chant': False, 'Jai': False, '@BJP4India': False, '@AmitShahOffice': False, 'Heeeeyyy': False, '@KINGT0MLINS0N': False, '@leonrestaurants': False, '@JEDIEV11': False, '@Blahkumaran': False, 'woah': False, '@cuteHiddlesmile': False, '@lucahollic': False, '@mayankw14': False, 'Phew': False, 'overwhelmed': False, '@PatoFer222': False, '@Anaateresaa_': False, '@TfLWaystoPay': False, '@jonathanhobbs71': False, '@MsKristinKreuk': False, 'philippines': False, '@Jim_Edwards': False, '@reyes_reynaldoz': False, '@BridgeHouseThel': False, '@juanchavarin52': False, '@taliagarcia__': False, 'bruise': False, '😅': False, '#TombRaider': False, '#hype': False, '@MelonieMac': False, '#TheJuiceInTheMix': False, 'rela': False, '@talliaoyando': False, '@HomeboyzRadio': False, '@DJBashKenya': False, 'priority': False, '@dxuntlesslarry': False, '@HelpingGroupDms': False, 'opportune': False, 'chaotic': False, 'Cosas': False, 'alliteration': False, '@NomalangaSA': False, '@barrybateman': False, '@AndileMlondo': False, '@sungjookxm': False, 'oppayaa': False, '@khalidALSALEM': False, '@Azizsm_': False, '#NatGeo': False, '@MileyCyrus': False, 'stoked': False, '@creampuffshinee': False, '@trentowers': False, '@luketurner89': False, 'jisung': False, '@TheLlamaverse': False, '@noodles78': False, 'Nicola': False, 'Brighten': False, '@_dreyaniks': False, '@sunofsides': False, '@gunnersx4': False, 'shipped': False, '@JanPrince63': False, '@AWonderBall': False, 'bones': False, 'creaking': False, '@Mokhenerale': False, 'abUtI': False, 'WelcOmE': False, 'TweetLand': False, '@davidc79': False, 'Xmas': False, '@phedran': False, 'Skyblock': False, 'Belieber': False, 'bcause': False, '@BOHEffy': False, '@BRBCODY': False, 'sympathy': False, '@huskar_nana': False, '@DrtyChimichanga': False, '@kimtaaeyeonss': False, 'unnieeee': False, 'Tonight': False, '#nuka': False, '#penacova': False, '#djset': False, '#EDM': False, '#kizomba': False, '#latinhouse': False, '#portugal2015': False, '@moonlight69': False, '@TokyoTantra': False, '@mtnza': False, '@mtn8': False, 'yellow': False, '#MTN8': False, '@Acsxy': False, 'Maganda': False, '@MistressSaphire': False, 'Mistress': False, 'Saphire': False, '@Aware_GinGi': False, '4000': False, 'Followers': False, 'Coconut': False, 'Sambal': False, 'Mussels': False, 'Recipe': False, 'Kalin': False, 'Mixcloud': False, '@L0MLHES': False, '@implodingpika': False, 'Greetings': False, '@MIKEYGEE110': False, '@IBePyari': False, '@aubreysablan': False, '@shaunamanda2012': False, 'Benson': False, '@ItsLukeEv': False, 'solid': False, '16/17': False, '@primavera_bella': False, '°': False, 'MaryHicks': False, 'fleekile': False, 'mbalula': False, 'south': False, 'africa': False, 'mexican': False, \"that'll\": False, 'scarred': False, '@SophiaDelPizzo': False, '@jeremygutsche': False, 'donut': False, 'Despite': False, 'Stark': False, 'poems': False, 'bubbling': False, '@EmilySmith_91': False, 'Dale': False, 'billion': False, '@mcllary': False, 'elections': False, '#JCReport': False, '@PebbleHelp': False, '@JILLCLARK1808': False, '@BigAl_lfc': False, '@SuePeace1': False, '@michell47881905': False, '@Bevanns': False, '@susanhorgan1': False, 'piggin': False, '@alElizabeth': False, 'Freshly': False, '3weeks': False, 'healed': False, '@Im_MsKittenns': False, '@TOBMAST3R': False, '@inspchin': False, '@koeitecmoeurope': False, '@TanikoHorigome': False, '@GoldxFierce': False, '@Kronin1': False, '@Addictrian': False, '@chako33': False, '@MatthewRumple': False, 'Tobi-bro': False, '@nikimcglynn': False, 'ISP': False, '@tessasmith4evr': False, 'cam': False, '@SabihaMahmoud': False, \"masha'Allah\": False, '@NeilWhoreAnn': False, '@max_pen1': False, '@siddichan': False, '@Twitch': False, 'YAAAAAAAAY': False, 'reviewing': False, '@coolkidsftnjh': False, '@AlexaPoppe': False, '@CoffeesToGo1': False, '@x0lovestephi': False, 'eonnie': False, '@stokebrisbane': False, '@Polished_teeth': False, '@ciatelondon': False, 'Soda': False, 'fuller': False, '@DianaaOrtizz': False, 'MVG': False, 'MOST': False, 'VALUABLE': False, 'GIRLFRIEND': False, '@OLX_OHayoung96': False, '@morriskid': False, 'Bergerac': False, 'u21': False, '#checking': False, 'chants': False, '@rizwanism': False, 'individuals': False, '@VickiCartagena': False, \"Beach's\": False, 'Suicide': False, 'Squad': False, 'Growing': False, 'fond': False, 'Christopher': False, 'initially': False, 'cocky': False, 'prove': False, \"attitude's\": False, 'improving': False, '@GlenOcsko': False, '@forlodge1': False, 'happys': False, 'Intelligent': False, '@me1campbell': False, '@mokwepa': False, '@IbnNabih1': False, '@jaseygalore': False, 'home-based': False, 'SALE': False, 'FLEUR': False, 'DRESS': False, '#Readystock_hijabmart': False, '325.000': False, '200.000': False, '@pprabha014': False, '@fernandeznoemi4': False, 'Tompolo': False, 'aimed': False, '@Centerfxld': False, '@LTBeautyBlog': False, '@FDNCoffee': False, 'slacking': False, 'cracking': False, '@JulieWestern': False, 'striking': False, '@misshollylou': False, 'Mam': False, '@FrancesBeeton': False, 'tastes': False, 'FeyTyaz': False, '@dalenaha1': False, 'stiffening': False, '@CHUBANHES': False, 'ricky_febs': False, 'Grindea': False, 'Courier': False, 'Crypts': False, 'Arma': False, 'Limbo': False, '@siaramelatienza': False, 'orchard': False, 'Venice': False, 'rains': False, '@rizz_javaid': False, '@JaagAlerts': False, 'Several': False, 'accumulated': False, 'maroon': False, 'dresses': False, '#MidiDresses': False, '@filipinaniah': False, '@IamPatmae_': False, '0-100': False, '@Iron_Vein': False, '1100D': False, 'auto-focus': False, 'veins': False, 'crackle': False, 'glaze': False, '@garrowlscq': False, '@Tweetnesian': False, 'pake': False, '@gabrielaliuw': False, 'joim': False, 'troops': False, '@audioBoom': False, 'brands': False, 'BEAUTY': False, 'ladolcevitainluxembourg@hotmail.com': False, '#prrequest': False, '#journorequest': False, 'The_MadStork': False, '@SSalchli': False, 'Shaun': False, '@madziucha_5': False, '@ChloeGMoretz': False, '@hesfallenangel': False, '@TripVerse': False, 'Hola': False, 'juan': False, 'Houston': False, 'jenni': False, 'stumble': False, 'prob.nice': False, 'choker': False, '@seoulsjin': False, '@seouljins': False, 'seouljins': False, 'sadomasochistsparadise': False, 'Wynter': False, 'bottoms': False, 'outtake': False, 'Sadomasochist': False, 'Cuties': False, '@ghostkidluke': False, '@itsRebeccaRayne': False, 'cypher': False, '@DanielCWest': False, '@purehaire': False, 'Amen': False, 'x32': False, '@shyayen': False, '@DrenchinWine': False, '@2fai': False, '@Chompu_Kusuma': False, '@adnanCad': False, 'Planted': False, '@mRpOrTeR7': False, 'Corner': False, 'Dope': False, 'addicted': False, '@NickTheBullsFan': False, '@CashNastyGaming': False, 'owe': False, '@ayokejkt': False, '@daannymoncada': False, '@breannelaflare': False, 'DANIEL': False, '@Cinemainmygenes': False, 'Saar': False, '@LucyLu_xx': False, 'verse': False, 'butterfly': False, 'bonus': False, '@palakspatel': False, '@17bljpk': False, 'Yummmyyy': False, 'dosa': False, '@bbcdoctorwho': False, '@MegLovesGames': False, 'ACHI': False, 'Bawi': False, 'queenesther': False, '@LeeMcKenzieTV': False, '@xWinnerMino': False, '@Galatasaray': False, '#Poldi': False, '#Cimbom': False, '@LuvSocial_Media': False, '@LOSTCHILLHORAN': False, '@24f567234e3c410': False, '@waterrat77': False, '@Whykaysbeauty': False, 'Bruhhh': False, '@Dopjones': False, 'Communal': False, '@playrust': False, '@mdokha': False, '1TB': False, '@AdeptGroupLtd': False, '@TechLystics': False, '@TLB73': False, '@SynergeeLtd': False, '@PerkPearl': False, 'departments': False, 'ANZ': False, 'offshoring': False, 'theirs': False, '#gottolovebanks': False, 'In-shaa-Allah': False, 'dua': False, 'hatreds': False, 'Aameen': False, '4/5': False, 'Coca': False, 'Cola': False, 'Fanta': False, 'Pepsi': False, 'Sprite': False, 'alls': False, 'sweeeeeeeety': False, '@SlightlySalty_': False, '@VortexiK13': False, '@urbndictionaryy': False, '@noralewis25': False, 'gaming': False, 'setup': False, '@BarbaraNadel': False, '@superkrispydj': False, '@beamillerqs': False, '@IOWOpenStudios': False, 'carpet': False, 'judgmental': False, 'hypocritical': False, 'narcissist': False, 'jumpsuit': False, 'denims': False, 'Verge': False, 'Owl': False, '@NECCMatthew': False, 'constant': False, '@CapeLondonWine': False, '@stanstedchamber': False, '@iconic_pr': False, '@Its_an_airline': False, '@Martelsbusvill': False, '@jefhong12_21': False, '@siavashhnr': False, 'Sia': False, '@begbie4017': False, '@heathersmusical': False, 'parent': False, '@FileClickPrint': False, 'comparative': False, 'religion': False, 'STUDENT': False, 'benchers': False, 'Porsche': False, 'paddock': False, '#BudapestGP': False, '#JohnyHerbert': False, '@SkySportsF1': False, 'rolling': False, '#PorscheSuperCup': False, 'Koyal': False, 'melodies': False, 'wirh': False, 'arc': False, 'x31': False, '@iMartyn': False, '@TeknoGadyet': False, '@RefSRK18': False, 'fulfill': False, 'desire': False, 'ameen': False, '#KCA': False, '#VoteJKT48ID': False, 'HelpingGroupDms': False, '@marshyymiullow': False, 'DP': False, '@alphatecheating': False, '@GasManGod': False, '@BANGMELIAMM': False, '@Jeandysanglay': False, '@tracychua16': False, '@xaaanshine': False, 'chicks': False, '@Ripap70': False, '@yadavakhilesh': False, 'Bhaiya': False, '@tehreemabbas13': False, '@Candiferslaw': False, '@Author_Patty': False, '@dhinakaranjbraj': False, 'Patty': False, '@xwing_t65': False, 'elaborate': False, 'Kuching': False, 'Merdeka': False, 'Suites': False, 'PLUSMiles': False, '@vedahhh': False, 'hahahaa': False, 'Nex': False, 'GWD': False, 'Whom': False, 'okok': False, 'idiot': False, 'Chaerin': False, 'viable': False, 'alternative': False, '@ryancavalier': False, 'Tombow': False, 'ABT': False, '@IRagunton': False, 'FriYAY': False, '@KayOddone': False, 'smug': False, 'Marrickville': False, 'Public': False, 'ten': False, 'eighteen': False, '@iqbaale': False, '#AUvsSSCR': False, '#NCAASeason91': False, '@TravelWTheSmile': False, 'Kills': False, 'popsicles': False, 'soft': False, 'melt': False, 'Thankyouuu': False, 'Dianna': False, 'ngga': False, 'usah': False, 'dipikirin': False, 'elah': False, 'entp': False, '@iamValC': False, '@keodancer': False, '@SashaFarber': False, 'killin': False, 'Meme': False, '@EmmaSlaterDance': False, '@Dance10Jenna': False, '@Dance10Alan': False, '@fynemo': False, 'emon': False, 'outdoor': False, 'rave': False, '@Stacyyy24': False, '@akijuneja': False, 'DV': False, '@LARRYNGTONDO': False, 'bakal': False, 'liat': False, 'merry': False, '@patrenganneng': False, '--->': False, '#FashionFriday': False, '@KuljuTommi': False, '@nathaliea1010': False, 'angle.Nelson': False, '@silvslee': False, 'cheap': False, '@FeistyPixxi': False, 'TEA': False, 'TREE': False, 'SKIN': False, 'CLEARING': False, 'LOTION': False, 'Moisturizing': False, 'monsoon': False, '#Valencia': False, '@bwoyblunder': False, '@rajudasonline': False, 'Daaru': False, 'chaddi': False, 'bros': False, '@write2kill': False, '@thatbrooke': False, '@tschelseamarie': False, 'wonderful.Great': False, 'closely': False, 'trimmed': False, 'pubes': False, '@its_jaylin': False, 'es': False, 'tio': False, 'Sinaloa': False, 'Arre': False, '@JSHUGI': False, '@kimcanhomes': False, 'stylish': False, 'trendy': False, '@Opera_North': False, 'constantly': False, 'messaging': False, '@FetusJuju': False, '@jellybrations': False, '@vltrdlcrz': False, '#Filbarbarian': False, '@yeastieboys': False, 'testicle': False, 'Katerina': False, 'Maniataki': False, 'Design': False, 'Ideas': False, '@designideaspics': False, '@AvishkarPanday': False, 'Judging': False, 'tech': False, '@jlmakes': False, 'plugin': False, 'bass': False, 'slap': False, '@onlytheshelley': False, '6pm': False, 'VIP': False, '@liamsmyteddy': False, 'LONDON': False, '#toptravelcentar': False, '#ttctop': False, '#lux': False, '#luxurytravel': False, '#beograd': False, '#srbija': False, '#putovanja': False, '@WendyFigueira': False, 'Wendy': False, '@AnglianWater': False, 'drainage': False, 'Homebound': False, 'HAHAHAYS': False, '@zaynahoranpayno': False, 'Yeeeeah': False, '@Uruk_Hai2222': False, 'kittehs': False, 'incoming': False, '@nicklevine': False, '@sift': False, 'towers': False, '@kerryjackson201': False, 'Yippeee': False, 'scrummy': False, 'recipes': False, '@KillaEarth': False, 'MCPE': False, '->': False, 'Vainglory': False, '@czagnzls': False, '@ibetreyes': False, '6:01': False, 'Lilydale': False, 'FSS': False, '#magicalmysterytour': False, 'weebly': False, '@EdwinaAlexander': False, 'Donetsk': False, '@SkyscannerUSA': False, '@rosbailey2_ros': False, '@CircuitElec': False, '@rolly2416': False, '@Tanyawarren': False, 'printed': False, 'personalised': False, 'stationery': False, '@zXw0lfXz': False, 'Adrian': False, 'Pris': False, '@TheLuckyHand': False, '@neonblaze72': False, 'wz': False, 'pattern': False, 'buttonhole': False, '4my': False, 'Trial': False, 'spm': False, '@Diekno26': False, 'birthdaaaaayyyy': False, 'dinooo': False, 'Cardio': False, 'STEAK': False, 'Cue': False, 'EXCITING': False, 'salamat': False, 'mga': False, 'nag.greet': False, 'Appreciated': False, 'guise': False, 'Godbless': False, 'Crush': False, '@CorstianBoerman': False, '@GadgetAddictsUK': False, 'GA': False, '@charliebateman4': False, '@BMA_Models': False, 'Charles': False, '#workhard': False, '@aufazatin': False, '@fannyelf7': False, '@dhilaelf2': False, '@gheolya': False, '@ks_ys3424': False, '@seevia_1524': False, '@sulpa_aiden': False, \"Ain't\": False, 'forrit': False, 'bacon': False, '@Alpacino_jay': False, 'brb': False, '#blog': False, '#lbloggers': False, '#pbloggers': False, '#recipes': False, '#bookreview': False, '#toddlerlife': False, '@TommoLouisSmile': False, '@waddoboro': False, 'Tato': False, 'bulat': False, 'discussing': False, '@edzelcastillo': False, '@ankitsri24': False, '@surfboyliam': False, '@macykatemusic': False, 'Snake': False, 'con': False, 'todayyyyy': False, '@MaxBlumenthal': False, 'Gaza': False, '@Diane_Delsigthis': False, 'logging': False, 'BBB': False, '@lalatenduM': False, '@CodyLatimerAunt': False, 'peacefully': False, '@TheColorRunUK': False, 'Pc': False, 'HOtel': False, '@2min4roughing': False, 'legal': False, '@IronMillTech': False, \"shan't\": False, 'ditching': False, '@ecotricity': False, 'Tory': False, '@Beingsherry27': False, '@shabnam2824': False, '@kanchan789': False, '@YoanSkAngel': False, '@MentionTo': False, '@amcyoung': False, '@peasbloss': False, \"S'okay\": False, 'you-and': False, '@LampeLois': False, '#TuitUtil': False, '@SimonVictor87': False, '@JonicaYacap': False, '@cliffords_ass': False, '@tomfooled': False, '@ReadingLibDems': False, '@santhanaram': False, 'takeaways': False, '@94arrestinghes': False, 'Slept': False, '1hr': False, 'genial': False, '@VisitLancashire': False, '@StAnnesBeachHut': False, '@LMuseums': False, '@Seventh_Naruto': False, 'yosh': False, '@MrsPandP': False, 'procrastinating': False, 'sorting': False, '@ron_boll': False, 'Telling': False, '#dedicatedfan': False, 'Teething': False, '@thestylebox': False, 'Huxley': False, '@RaruShopping': False, '@S0N0S_': False, 'Given': False, 'propose': False, 'suitable': False, '@PeterFHamilton1': False, 'alternatives': False, '@AnneHole': False, '@gitawnchstr': False, '@ilian428cade': False, '@EllinorKronsell': False, '@MyMusicPL': False, '@bizzleftdemi': False, '@Immanu3': False, '@CFCDianaMonkey': False, 'Suite': False, 'zack': False, 'destroying': False, 'heel': False, '@njhornylou': False, '@KhushbooZG': False, '@akocjermy19': False, 'cheerios': False, 'Donut': False, '@AliciaTan95': False, '@Stn_Ang': False, '@SebIscariote': False, '@Ninoiudi': False, '@IR5_Cooder': False, '@twhiitney': False, '@pirlouit_be': False, '@Montishow': False, '@katiaely': False, '@EnglebertKo': False, 'spotify': False, 'VC': False, 'Careers': False, '#job': False, '@serxndipityrp': False, '#TGP1': False, 'races': False, '@DeVoTrAv': False, \"joe's\": False, '#BlueJays': False, '#vinylbear': False, 'PALS': False, 'FURBABY': False, 'Luffs': False, '@lancswitch3': False, '@ILuvsScarlet': False, '@LavenderPinks': False, '@smartsog': False, '@dansmith89': False, 'Boots': False, 'WHSmith': False, '@ZackAkihito': False, 'ps3': False, '@Shenanigen5280': False, 'Shannon': False, 'closing': False, 'redecorate': False, '@bobwinder': False, 'Bob': False, 'Mairi': False, 'impairs': False, 'uggghhhh': False, '@EczemaNoMore': False, '#eczema': False, 'sufferers': False, '@BerKirby': False, '@liamwaved': False, '@SF_Umji': False, 'ndee': False, '@JuniorStyleLDN': False, '@Cricketlabelle': False, '@MelanieMse': False, '@GambadoChelsea': False, '@baby_bargainsUK': False, '@barbelinekids': False, 'Publilius': False, 'Syrus': False, 'dreaded': False, '@leomanaids_': False, 'PLUS': False, 'fuk': False, '@FridaybMaria': False, '@walkyourcamera': False, 'oomf': False, '@PippaLov': False, '@twinesocial': False, 'Pippa': False, 'hschool': False, '@Ramya0212': False, 'amen': False, 'cardi': False, '@bunbun78': False, '@DavidBraben': False, \"Why'd\": False, 'Acorn': False, 'C64': False, 'CPU': False, 'considerably': False, 'advanced': False, '#ONAIR': False, 'Hold': False, 'River': False, '0878 0388': False, '1033': False, '0272 3306': False, '@aldriannetabang': False, 'rescue': False, 'mutt': False, '@mappingmegan': False, '@Bhoxzniall': False, '@ArgosHelpers': False, '@Malan_Sanjaya': False, 'optimized': False, 'Lu': False, '#TweetOfTheDecade': False, ':P': False, '@LouosaurusRex': False, '#BBMme': False, '7DF9E60A': False, 'bbm': False, '#addmeonbbm': False, 'ADD': False, 'BBM': False, 'MI': False, '@CurlysCooking': False, '@beerandbaking': False, '@kneadtodough': False, '@vixyvonshock': False, '@mariannasbakery': False, '@collinscakery': False, '@sammiefeasting': False, '@NinaVictoriaCup': False, '@alive_madness': False, 'menu': False, '@1ResilientSoul': False, 'Glenn': False, '@leanna_decker': False, '@Yayeahyeah': False, \"Sculptor's\": False, 'Pillar': False, '@DOTA2': False, '#TI5': False, '@itsjrmr': False, '@IPSroofing': False, '@FireDoorsDirect': False, '@HargreavesInfo': False, '@SDSLondon': False, '@ForestrallTimbr': False, '@stairsupplies': False, '@glazingtools': False, '@NORclad': False, '@ontrackplant': False, 'nudge': False, 'tasty': False, '@eugenemcsorley': False, 'hilly': False, '#scotlandismassive': False, '@TweetsbyHarold': False, '@sdchap8': False, '@lazycrazygen': False, 'Vikk': False, 'fna': False, 'Mombasa': False, '#TukutaneMombasa': False, '#100ReasonsToVisitMombasa': False, '#KaribuMombasa': False, '@triciadzn': False, '@iKONBI22': False, 'hanbin': False, '@rainbowdustyles': False, '@Scottish_Banner': False, 'goosnight': False, '@BiancaAnsems': False, '@PennyNevilleLee': False, 'kindly': False, '@BrigetteManie': False, 'tent': False, '@AlissaVI': False, 'cozy': False, '@celestinesofie': False, '@EricAguigam': False, 'birth': False, '@ThreeStrypes': False, '@misslescaut': False, 'behaves': False, 'monster': False, 'OUTSTANDING': False, 'Mfundo': False, '@SpexMfanaMan': False, '@oche_balboa': False, 'oche': False, '@EvaSpying': False, 'tamed': False, 'insidious': False, 'logic': False, 'math': False, '@Sy_TEOH': False, 'forgiven': False, 'WonderFuls': False, 'MannerFuls': False, 'Yhoooooo': False, 'ngi': False, '@TisoyPeter': False, '@almightyniaz': False, '@AprilHV': False, '@OBiiE__': False, 'Obakeng': False, '@iangelidaki': False, '@jusxhemmo': False, '@Ntwenty2': False, '@brasso77': False, '@iTuaha': False, 'Alhamdullilah': False, 'pebble': False, 'engrossed': False, 'Bing': False, 'SCREAMING': False, '😧': False, 'reallY': False, 'hAppY': False, 'tOdaY': False, 'WaT': False, 'DonE': False, 'fOr': False, 'Us': False, 'muahhh': False, 'BlEss': False, 'PauseTime': False, '@SilverArrowsHAM': False, 'drifting': False, '@montblancforum': False, '@Les_Scop_idf': False, '@MiroirSocial': False, '@thomasdeysieux': False, '@EMauFouX': False, 'kickstarter': False, '@JdrqRicah': False, '@dhimant': False, '@jackiHS': False, '@funnyjoke': False, 'jenna': False, '@DJTiny_Sam': False, '@SarahThomas49': False, 'delish': False, 'ranges': False, 'supermarkets': False, 'Joselito': False, 'Freya': False, '#latepost': False, 'lupet': False, '#AskAMan': False, 'Alternatively': False, '150': False, '0345 454 1111': False, 'webz': False, '@chaebe71': False, '@xopriyaox': False, '@CarmelSepuloni': False, 'Carmel': False, '@Si_kKo': False, '@dirtbaglou': False, '@_nicapapa': False, '@Nickalaws': False, '@ChrisBourne': False, '@Jadejessicax': False, '@commonculture': False, '@connorfranta': False, 'Throwback': False, '@UrbanKarizma': False, 'tessnzach': False, '@SuttonObserver': False, 'paperboys': False, 'papers': False, '@zoharrm': False, 'reassured': False, '@thaiees': False, '@VMolapisi': False, '@unicornsftnjh': False, \"dongwoo's\": False, '@savannahx___': False, 'newyork': False, 'lollll': False, 'twinx': False, 'Path': False, 'Firmansyahbl': False, '@SgtRumpel': False, 'procedure': False, 'Grim': False, 'Fandango': False, 'ordinary': False, 'extraordinary': False, 'BOS': False, 'Birmingham': False, 'Oracle': False, 'Samosas': False, '@OracleMidlands': False, 'fireball': False, 'serves': False, 'Shoeshi': False, '@TAKE_designer': False, '@AR72014': False, '@APC_UK': False, '@KikkomanMasters': False, '@PastryTeamUK': False, '@AcadCulArts': False, '@cischafer': False, '@DunnettCentral': False, 'Lymond': False, '@kitchtablepro': False, '@CjayBlanco': False, 'han': False, '63': False, '@TheGoFever': False, '@AzharSaleem59': False, 'Travel': False, '@platform4prose': False, '@aerelchris': False, 'agaaaain': False, 'Doli': False, 'Siregar': False, '@doliphoto': False, 'Tweet': False, 'Ninh': False, '#Inspire': False, '@aazem27': False, 'gems': False, 'geekiest': False, 'geeks': False, 'wallets': False, '@LauraAlyceH': False, 'Early': False, 'das': False, '@RohitBJP': False, '@DrShobha': False, 'Persons': False, 'covering': False, 'Rally': False, '@tommosdenim': False, 'SUCKS': False, 'LEAST': False, '@JhMarkotsis': False, '@mullingfrackle': False, 'Eek': False, 'Beijing': False, 'China': False, '@scimadesimple': False, '@Rebellionx2': False, '@grlwthdragontat': False, '@leokalyan': False, 'meni': False, 'tebrik': False, 'etdi': False, '@rodtamepoet': False, 'Rod': False, 'Tame': False, 'embracing': False, 'actor': False, 'aplomb': False, '#foreveralone': False, 'jobs': False, '#mysummer': False, '01482': False, '333505': False, '@svaertathel': False, 'HAHAHAHA': False, 'uniform': False, 'Owwww': False, 'Choo': False, 'chweet': False, 'Test': False, '@tis_cake': False, 'Bless': False, 'shorthaired': False, 'Oscar': False, 'Fifth': False, 'Harmony': False, 'judge': False, 'denerivery': False, '506': False, '#housemusic': False, '#HenessyDiaries': False, '@parapluieverte': False, '@SAVEREUX1': False, '@TheRoofGardens': False, 'TOOK': False, 'HOURS': False, 'vault': False, '@Bethblog': False, '@lapisIazui': False, 'WELL': False, 'MEAN': False, 'VINNY': False, '50CENTS': False, 'REPAY': False, 'DEBT': False, '@1sari_kirmizi': False, '#Phone': False, '#WiFi': False, '#LifeStyle': False, '#QatarDay': False, '@Nkour34Dil': False, 'girly': False, '@FOOLISHTEENLOU': False, '@fhatiegeeeee': False, 'innovate': False, '@makersofthings': False, 'introducing': False, '@19am81': False, '@neut_': False, 'volunteering': False, '@GitiOkvianti': False, '#am': False, 'saran': False, 'genre': False, 'romance': False, 'comedy': False, '#selfies': False, 'Homey': False, 'Kenya': False, 'coaster': False, '@TheMattEspinosa': False, 'aspect': False, 'Najam': False, 'sethi': False, 'confession': False, '@GromKath': False, '#pricelessantique': False, '#takesonetoknowone': False, '@FitbitSupport': False, '@FitbitUK': False, '#UCount': False, '@EunjiJeji': False, '@lzethu01': False, 'Turkish': False, 'Name': False, '@blackreign8': False, '80x': False, '@NATSPressOffice': False, 'Trusting': False, 'airline': False, '@jrxmrcd': False, 'Yello': False, 'gail': False, '@NiallHoran': False, '@RousseyAudrey': False, '@NBCUniversal': False, '@nbc': False, '@scoobs1969': False, '@YaelAPeer': False, '@NikkiElizDemere': False, '@KikiSchirr': False, '@preslavrachev': False, 'Yael': False, '@clairyworld4': False, 'EN': False, 'MIS': False, 'MANOS': False, '@zoyaashk': False, 'prettiest': False, '@extinctlwt': False, '@Wanli_Minho': False, 'ideal': False, '@studiomister': False, 'shortlist': False, '#JummaMubarak': False, '#ShalwarKameez': False, '#Itter': False, '#JummaPrayer': False, '@cl_aus': False, 'display': False, 'enabled': False, '@glyndewis': False, '@DiongzonS': False, '@jaimestein': False, '@nicolevanzanten': False, '@amberturnau': False, 'woot': False, 'Tweeps': False, 'Folow': False, '2K': False, 'teaser': False, 'AIRecs': False, '009': False, 'Acid': False, 'EP': False, 'including': False, 'Robin': False, 'Rough': False, 'Control': False, 'remixes': False, '#MyPapaMyPride': False, 'encourage': False, '@GaryKeywood': False, '@DIY_OE': False, '@travelshopgirl': False, '@2wksinCR': False, '@constantramble': False, '@bizarreglobehop': False, 'faves': False, 'Toss': False, '@mulanbilqis': False, '@NK_Asmita': False, '@TheUwagaPies': False, '@SharlaInJapan': False, '🐑': False, '@MonicaTerryEM': False, 'stores': False, '@MizzChuff': False, 'Mr2': False, 'climbed': False, '#Jilla': False, 'Decent': False, 'Opening': False, 'Reviews': False, '@NoraFrost': False, '@therevnate': False, 'headlining': False, '@vespera9': False, '@moirae_': False, '@nbhdmadi': False, '@akpayne15': False, '@caitiiiii': False, '@tiffanymichels': False, 'Congratz': False, '@Blessings2050': False, 'contribution': False, 'EARTH': False, 'yuppiieee': False, '#AlienThought': False, '#HappyAlien': False, '@lorainekateyumi': False, '@amerz': False, '@gazza2209': False, 'Gary': False, 'attraction': False, 'supprt': False, '@britishankles': False, '@The_Zyrophobia': False, 'savage': False, '@Vladimir_EShop': False, '@VladimirBank': False, 'cleanse': False, 'ridden': False, 'renamed': False, '@TobyJWilkinson': False, '@ValleyAllBlack': False, 'waves': False, 'couch': False, '@WaterfordTIO': False, '@ironmima': False, '@fruitpreserve': False, '@louiseminchin': False, '@Phase_Eight': False, '@novocainecolby': False, 'dodged': False, 'proving': False, 'Grow': False, '@Sanza_T': False, '@LeratoTmohale': False, 'Sanza': False, '@mcjen': False, '@MrMearsDT': False, '@kerry_truman': False, '@Kitronik': False, 'Coloured': False, 'aggregates': False, '@sistards93': False, 'som': False, '@jitenkumargupta': False, '@lalochezic': False, '@paulwiggins': False, 'honoured': False, '@abcderza': False, 'hehehe': False, '@DMC1982Nice': False, '@laineyni': False, '@s_geary1': False, '@susie22784334': False, '@sharont2501': False, '@britvix': False, '@vanessaclark11': False, '@Wils21568249': False, '@wolfenskjerven': False, '@TheBookwormBaby': False, 'Explorers': False, 'national': False, 'Wayanadan': False, 'forests': False, '#Wayanad': False, 'Srijith': False, 'whispered': False, 'lying': False, 'Pokemon': False, '@OfficialKeanu': False, '@520f6ed5dd4c4d3': False, 'Dazzle': False, 'Flared': False, '@stuck_for_ideas': False, '51': False, 'Browse': False, '@GoGirlsMusic': False, 'Becoming': False, 'Female': False, 'Tour': False, '@TotalPolicing': False, '@Jiaqiwoo': False, '@TheRainBro': False, 'GL': False, \"tonight's\": False, 'alice': False, '@SR15BLTY': False, 'litey': False, '@Manuellatchgn': False, 'Manuella': False, '@myabumygod': False, '@ianadritaranbir': False, 'Maine': False, 'Abhi': False, 'Ye': False, 'dekhi': False, 'promos': False, '@mhdzhdawr': False, 'welcoming': False, 'Xpax': False, '@sundawnjh': False, '@goldennotebook': False, '@JohnEMichel': False, '@kellyalovell': False, '@babagby': False, '@MattTreby': False, '@Michael37311757': False, '@royjohnwatts': False, '@LBC': False, '@darrenadam': False, 'institution': False, 'Him': False, 'Nc': False, 'Guy': False, 'Solo': False, 'overload': False, 'Mcfloat': False, 'sandae': False, 'munchkins': False, \"d'd\": False, '@AlxznDr19': False, 'Granny': False, 'Baller': False, 'Faded': False, 'chain': False, 'Everybody': False, 'Ought': False, '@JayHorwell': False, 'events@breastcancernow.org': False, '79x': False, '@HeyItsTrisha01': False, 'Breakfast': False, 'champions': False, '@raydio2': False, '@jaynehh_': False, 'approving': False, '@dafruk1': False, '@Nyesekkinn': False, 'affaraid': False, '@Eminem': False, '@runabove': False, 'LABS': False, 'Acc': False, '@Kaineofoeme': False, 'sprit': False, '@WeAreMicLowry': False, 'yous': False, '@OriofAshes': False, '@CityofAshes': False, '@BOOM_Cycle': False, 'severe': False, '@sgtnicolai1': False, '@rsilver710': False, 'hammies': False, '@Pedro7241cw': False, '@xolanimvulana': False, '#freedom': False, '#Pistols': False, 'unlocked': False, '#bemeapp': False, '@CaseyNeistat': False, 'Thumbs': False, '#beme': False, 'Figured': False, '#bemecode': False, '#proudtobeme': False, '@orbette': False, '@Lachdog_AU': False, '@Posica': False, 'CALM': False, 'STAY': False, 'KEPO': False, '@AidanMcGlynn': False, '@Matt_Dominguez': False, '@ayashiibaby': False, '@Andrew_Spence': False, '@MarkoLauhiala': False, 'Luckily': False, '@nattan23': False, '@AlamiHasson': False, '#دعمم': False, 'للعودة': False, 'للحياة': False, 'Dudaftie': False, '#breaktym': False, '@Marianela707': False, 'fatal': False, 'dangerous': False, 'terms': False, 'outraged': False, '645k': False, 'magstart': False, 'SALUTE': False, 'Thq': False, 'continous': False, '@actor_jayamravi': False, 'Thalaivar': False, '@dhanushkraja': False, '@uptownctw': False, '@mallynic': False, '@Gspaepen': False, '@jett_uk': False, '@GhostOfTrafford': False, '@FD_ManUtdNews': False, '@Cantona_20': False, '@RisingTrend': False, '@RosaCrowee': False, 'av': False, 'wknd': False, '@DutchM882': False, '#cam4': False, \"y'day\": False, '@Guillaume351': False, 'hxh': False, 'besides': False, 'suffering': False, 'appreciating': False, 'feeding': False, '@1dfamily_d': False, '78x': False, 'efforts': False, 'unappreciated': False, 'gracious': False, '@MaltiBhojwani': False, '@httpsguitarist': False, '@Deltsoulman': False, '@JohnVignocchi': False, '@allisonpetrek': False, '#NailedIt': False, '#OurDisneyInfinity': False, '@dracan': False, '@nicoledyosa1': False, 'JillMill': False, '@amy14_x': False, 'mainly': False, '@michaelmoor_mt': False, 'favour': False, '#Dancetastic': False, '@kaushikcbasu': False, '@karunanundy': False, 'Satyajit': False, \"Ray's\": False, 'Porosh': False, 'Pathor': False, '#GoldBugs': False, 'Run': False, 'spill': False, '15000': False, '@brigserman': False, 'Shades': False, 'Grey': False, 'netsec': False, '@DayHWStoodStill': False, '@reginevalcasid': False, '@Kritters_': False, '@theroiceorven': False, '@turquoiselwt': False, '@team_ne29': False, 'Kev': False, '@daftasabrushcc': False, '@migzhaleco': False, '@nefmedina_': False, 'fangirled': False, '@CultureTrip': False, '@FoodTravelLove': False, '@VulturesDare': False, '@_cruuzzy': False, 'unlisted': False, 'hickey': False, 'dads': False, 'hocking': False, 'mamma': False, '@somanygods': False, 'holistic': False, 'cosmovision': False, 'narrow-minded': False, 'charging': False, '@Prinsesandreya': False, 'Cess': False, '@Alixharrow': False, 'Alix': False, '@lucazi1214': False, '@Bearclxw_': False, '@Yomi_Gaming': False, 'quan': False, 'Surprise': False, 'Naaahhh': False, 'emesh': False, '@goldenpaulson': False, '@Daniel_O_16': False, 'Kath': False, '@serhatahmet': False, 'Kia': False, '@VAUK': False, 'Tango': False, '#tracerequest': False, 'dassy': False, 'Fwm': False, '@FUDGEMCCANN': False, '@liansuryanii': False, 'selamat': False, '@nicholin90': False, 'Nichola': False, 'Malta': False, '@tomorrowland': False, '#GTO': False, '#Tomorrowland': False, '#incall': False, '@knhillrocks': False, 'HA': False, 'Shobs': False, 'incomplete': False, '#barkada': False, '#buddy': False, '@Inkymole': False, '@PaupaPaupau': False, 'Silverstone': False, '@Silverclassic': False, 'Classic': False, 'BONUS': False, '@YayoBruh': False, 'bookstore': False, '@IrlyanaVL': False, 'Ganna': False, '@fromislet': False, '@_tmazur': False, 'YEP': False, 'Hillary': False, 'Clinton': False, 'president': False, '@parsnip45': False, '@memorablezayn': False, 'life-so': False, 'hidden': False, 'untapped': False, '@ThisOneNerd': False, '@youmustbeborn': False, 'mca': False, 'HELLA': False, 'wana': False, 'bandz': False, '@DebbyRyan_06': False, 'Donington': False, '24/25': False, 'OURS': False, '@VirginRacingFE': False, '@liamsmurs': False, '@daissytolentino': False, 'drives': False, 'x30': False, 'Merci': False, 'bien': False, 'mon': False, 'amie': False, 'pitbull': False, '777x': False, '@pauarmst': False, '@TranceAttack': False, '@Siwon407': False, 'Annyeong': False, 'Indonesian': False, '@unborngirl': False, '@jakface_mcgee': False, '@narrhallamarsch': False, 'Flight': False, '@__GiveawayDMs_': False, '@letsvillas': False, 'Marseille': False, '@jarpad': False, '@JensenAckles': False, '@jerirecuenco': False, '@jadegordon': False, '@mc_frontalot': False, '@WomenEd': False, '@Miss_Wilsey': False, '@EquitableEd': False, '@LCLL_Director': False, '@nataliehscott': False, '@HelenaMarsh81': False, '@BLC_Head34': False, '#FNAF4': False, '@Mehdi_Mustafa': False, '@Ali_SyedRaza': False, '@Gardener_John': False, 'sweety': False, 'Lots': False, 'strongest': False, '@LiamJenkins21': False, \"spot's\": False, 'Barnstaple': False, 'Bideford': False, 'abit': False, '@Dued1_Roblox': False, 'Rocro': False, '13glodyysbro': False, '@rickoshea': False, 'hiring': False, '@gang_ree': False, '2NE1': False, '@cericneesh': False, 'Aspetti': False, 'cupboards': False, '@room9271': False, '@CEISOFT': False, 'vaing': False, '642': False, 'spacers': False, '@sshinhyex': False, '@scottwindsor22': False, 'Bday': False, 'Felicity': False, 'Smoak': False, '👓': False, 'psychopaths': False, '@mexeeN': False, '@FRSkyRRoZ': False, 'spoile': False, '@ilanconscious': False, 'dimples': False, '@heatherbwriter': False, 'contemplating': False, 'indie': False, '@JockSafari': False, 'JSL': False, \"Aren't\": False, '76x': False, '@GzaDaRambler': False, 'Gotcha': False, '@kinagrannis': False, '@lawyermomIowa': False, 'Kina': False, '@zachatrocity': False, 'Reachability': False, 'NC': False, '@paradisecreated': False, 'Jk': False, 'bitter': False, 'S02E04': False, 'airs': False, '@aboelhassan_': False, 'naggy': False, 'anal': False, '@goehringlet': False, 'shaking': False, '10:30': False, '@brook_food': False, '@LisaBrookFood': False, '@FlourPowerCity1': False, '@PhilpottsLtd': False, 'tipping': False, 'MORNING': False, 'grandpa': False, '@Eric_Yeomans': False, 'stashed': False, 'closer-chasing': False, 'specs': False, 'chasing': False, 'walls': False, '@flacqua': False, 'Angel': False, 'MochaMichelle': False, 'Simply': False, '@axlrose995': False, '@HikersHell': False, '@Tricia701': False, '@ShiningJudgment': False, '@tracysharpy3': False, '@Debbeedale': False, 'x29': False, '@rachelmoonyy': False, '@salty_tamaki': False, 'Ty': False, 'backgrounds': False, '@malgotoja': False, 'Mull': False, 'nil': False, '@walkhighlands': False, 'Netball': False, '@NetballScotland': False, '#thistles': False, '@netballworldcup': False, '#thistlelove': False, '@shfly3424': False, '@KtSheeps': False, 'Minecraft': False, 'Drew': False, '@WorldPerceived': False, '@shikha123poddar': False, '@valeriecafe': False, '@Simonds_Stadium': False, '@jcowan_18': False, '@nvardy30': False, '@DanielMenzel10': False, '@GeelongVFL': False, 'muddled': False, '@Mattys123': False, 'isolating': False, 'Fas': False, '@Anant10486': False, '#IcecreamMaster': False, 'Tuned': False, 'channels': False, '#LetItGrow': False, '@0430alexu': False, 'SHET': False, 'desk': False, 'O_o': False, 'orz': False, '@2560chez': False, '@goldskiesperrie': False, 'hiii': False, 'stash': False, '@nekonyoung': False, 'problemmmmmmm': False, '75x': False, '@jb_jaebumjb': False, 'yeeaayy': False, 'alhamdulillah': False, '@AlexandraTirziu': False, '@aepfel': False, 'Amin': False, '@TessaPearsonArt': False, '@VenetiaNorris': False, 'weed': False, '#crowdfunding': False, '@KSGPSD': False, 'Hellooooooooo': False, '@AldiUSA': False, 'selections': False, '@RuthJackBBO': False, '@SupportOrganize': False, 'Lynne': False, 'button': False, 'composer': False, '@ParkTheatre': False, '@NoBillington': False, '@VirtualUmbrella': False, '#fridayfun': False, 'non-Filipina': False, '#ejayster': False, '@Independent_ie': False, 'Stan': False, '@lorrybus': False, '1400': False, 'teleportation': False, 'Shahid': False, 'Afridi': False, 'abhi': False, 'Mahnor': False, 'baloch': False, '@NikkiFederer': False, '@Irenegilmour': False, '#flowers': False, 'blackfly': False, 'courgette': False, 'Italian': False, '@mrharrymelling': False, 'netfilx': False, '@D_diva72': False, '@KingDavid_d1st': False, 'checks': False, '@sunpandey': False, 'wiellys': False, '@paulbeavers8': False, 'barcode': False, 'Charlotte': False, 'thtas': False, '@martyabbott936': False, '@HomewoodSteve': False, '@Dazz747': False, '@Eddie_Aviation': False, '@plane_spotters': False, '@pilotsimon208': False, '@NicolaNeyhaul': False, '@thispiggy': False, 'Gd': False, '#trailblazerhonors': False, '@GoodMovesL25': False, '@WWhimsicals': False, '@_Megan_H': False, '@Andrew_Murray91': False, '@sonjaclarkuk': False, '@Epic_Liverpool': False, '@JusSweetEnough': False, '#jeremy4leader': False, '#jezwecan': False, '@LADE_KRANE': False, '@divarh15': False, '@GraceGithakwa': False, 'agayhippiehippy': False, '@carondeslut': False, '@onlynewfaces': False, 'screaming': False, '@FlowersandCards': False, '@katerina7711': False, 'ginger': False, 'x28': False, '@marypcbuk': False, 'awareness': False, '@aral': False, '@IQAEuroGames': False, 'FRANCE': False, '@americascup': False, 'Portsmouth': False, '@MummyandMonkeys': False, 'linking': False, 'Sonal': False, '@WomenRAngels': False, '@P_Collin': False, 'Pedant': False, '@Windows': False, 'Starting': False, '98': False, '@_KatKennedy': False, 'Ack': False, 'hih': False, 'choir': False, 'rosidbinr': False, '@HamHamHammu': False, '@sterlingburd': False, 'duke': False, 'earl': False, 'awak': False, '@thespringsteens': False, '@thalasalupa': False, 'orayt': False, '@ArpitaBaranwal1': False, '@perfection_srj': False, 'dikha': False, 'reh': False, '@TraumaJunkie50': False, 'Adolf': False, 'Hitler': False, 'obstacles': False, 'exist': False, 'surrendered': False, '@hwsoh': False, '@emmestandsfor': False, '@meet_roger': False, 'terrific': False, '@oldbirdxatu': False, 'AdvAddict': False, '_15': False, 'jimin': False, '@seeyouelsewhere': False, 'Map': False, 'Googles': False, 'informed': False, '@ilkkalaukkanen': False, '0.7': False, 'dependencies': False, 'motherfucking': False, '@MikhailReptar': False, \"David's\": False, 'steroids': False, 'alansmithpart': False, '@Beverleyward': False, 'Publication': False, '@bookcasehebden': False, 'Servus': False, 'Bonasio': False, \"doido's\": False, 'task': False, 'delegate': False, '@daisychaindream': False, 'Aaahhh': False, '@IleneVillanueva': False, 'Jen': False, '@chruIlo': False, 'bleed': False, '@badoinkofficial': False, 'volunteer': False, '@Mapbox': False, 'non-Mapbox': False, 'Mapbox': False, 'basemaps': False, 'contractually': False, '@Anna_Colom': False, '@UCLGlobalHealth': False, '@bbcmediaaction': False, 'researchers': False, '@wiquot': False, '@janpaul': False, '@mmatto72': False, '@Sandy_Toes75': False, 'seafood': False, '@VJAdeel': False, 'Weltum': False, 'teh': False, 'dety': False, '@tamrinm_sings': False, 'katmtan': False, 'Swan': False, 'blurry': False, 'Half': False, '@syukribinahmad': False, 'besok': False, 'Sighs': False, '@dcodedboii': False, '@jamestheeight': False, 'AL': False, '@MyGardenCoachUK': False, 'Dorset': False, 'goddess': False, 'shitfaced': False, 'souls': False, '@derabbie': False, '@The_Witty_SRK': False, 'Counted': False, 'Bnte': False, ';p': False, 'Shiiiitt': False, '@AtushaAvarus': False, '@readin_glasses': False, '@SyasyaSodikin': False, 'rm35': False, 'negooo': False, '@akeihito': False, '@jongdeism': False, 'madeline': False, 'nuns': False, '@Khaled_Moualdi': False, 'yapsters': False, '@grim_tenmiles': False, 'ply': False, 'ICON': False, 'Alchemists': False, '@SilentiSonas': False, '@nxtrms': False, 'x27': False, '@iocat': False, 'dayz': False, 'preview': False, 'Thug': False, '@mindwiped': False, '@hotwifecleo': False, '@_PetPuK_': False, '@omaro22omaro': False, '@ReviewResorts': False, '@taemihns': False, 'halsey': False, '@Manavparekh': False, '@doublefall': False, '@Condor_Ferries': False, '@Teny101': False, 'bonding': False, 'niggs': False, '@_bonakid': False, '@Vernicks': False, '@glnntbngy': False, '@fafaarbiee_': False, 'Linking': False, 'ReadingRes': False, '#wordoftheweek': False, '#WotW': False, '4:18': False, 'EST': False, 'earn': False, '@JessLarum': False, '@mdoyle08': False, 'WHATEVS': False, 'JESS': False, 'surry': False, 'botany': False, '@LilPinkN1NjA': False, 'Awwwww': False, '@kungfuman316': False, 'Gel': False, 'Alison': False, '@Faakh': False, 'Lsa': False, 'fron': False, '#ThankYou': False, 'Debbie': False, 'discharge': False, '@imrizzagaddi': False, '@BillyAshworth93': False, 'Walmart': False, '@hayleybrown750': False, 'Hayley': False, 'pads': False, 'mounted': False, 'Inquisitor': False, '#Cosplay': False, '#cosplayprogress': False, '@gamewriterMike': False, '@cshottubhire': False, '@GEM_Business67': False, '@Oldham_Hour': False, '@sunny_hundal': False, 'insecurity': False, 'Devolution': False, 'patriotism': False, '@hallasdt': False, 'halla': False, 'ark': False, \"jiyeon's\": False, '@SoaRJect': False, '@BurntBrian352': False, 'Buzz': False, 'Burnt': False, 'OPI': False, 'Avoplex': False, 'Nail': False, 'Cuticle': False, 'Replenishing': False, '15ml': False, 'Ideal': False, 'heels': False, 'elbows': False, '@timbudgen': False, 'submission': False, '@LiamMitch99': False, 'LB': False, '@Aas2727': False, 'Learnt': False, 'backflip': False, '#JumpGiants': False, '#Backflip': False, '#FoamPit': False, '@meliefluous': False, 'pamer': False, '@RyDemps89': False, '@TonuvaCoaching': False, '@CoachLee': False, '@AnnieLN': False, '@marshawright': False, '@raybebaby781': False, '@StefanPowell': False, '@OpenUniversity': False, '@prospect_uk': False, '@DrVictoriaG': False, 'thks': False, '@zachbraff': False, '@torixoxx': False, '#ActuallyThough': False, 'Arts': False, 'Mehtab': False, 'Aunty': False, 'landed': False, 'GC': False, 'Yeeew': False, 'LAN': False, '@LuiisaAmadoo': False, 'yeey': False, '@korsikoff': False, 'Strangely': False, 'arrange': False, 'doodle': False, 'Summoner': False, '#doodle': False, '@DatArabKiid': False, '🙅': False, '@winnerdumb_': False, '@LondonLycra': False, 'lycra': False, '@Motlakasello': False, '@VincentNewen': False, 'Vincent': False, '@ScottReevesFans': False, '@composurs': False, '@JoelSuthesh': False, '@CoolBlindTech': False, '@RoySangwooKim': False, 'Roy': False, '@banouuu': False, '@gloomyhome': False, 'bg': False, 'img': False, 'crops': False, '@TheSYLEPress': False, '@SciFiNow': False, '#DeathOfGrass': False, 'loan': False, 'lawnmower': False, '@FraserNelson': False, 'charismatic': False, 'man.he': False, 'thrive': False, 'economy': False, 'bursts': False, 'x26': False, '@dayordonez_': False, '@ealilovic': False, '#fls': False, '#sorry': False, '@AndyHarker1': False, '@SydHillsChamber': False, '@spencerspellman': False, 'ICeland': False, '@zid_1899': False, 'yok': False, '@smitty6253': False, '@Banks': False, '@Fintech': False, '@Pgelis': False, '@DuenaBlomstrom': False, '@StuartHeyworth': False, 'eff': False, '@OrangeKenya': False, '@labelsforlunch': False, '#freebiefriday': False, 'La': False, 'Concordia': False, 'reunited': False, 'xxxibmchll': False, 'Imitatia': False, 'oe': False, 'Michelle': False, '@0lliebudz': False, 'equal': False, 'injustice': False, '#feminism': False, '#ineedfeminismbecause': False, 'PTA': False, '@MrBoltonPTpage': False, 'Virgin': False, 'Redhead': False, 'Wacky': False, 'BESTS': False, 'WORSTS': False, '#WayToLiveAHappyLife': False, '@Kandelamison': False, 'Hoxton': False, 'Holborn': False, '@TheHospitalClub': False, '@thefrfamily': False, '@thenthefunbegan': False, '@larabee': False, '@3princess_1dude': False, '@LuminaraKing': False, 'TEE': False, 'TOURNAMENT': False, '#EqualityAct': False, '@KBaitup': False, 'wagging': False, 'wwoooo': False, 'drawings': False, '@Thabang53214134': False, '@Laiten1': False, '@Kirst_Barrett': False, 'Laiten': False, '@AndreyRussia33': False, 'arond': False, '1:30': False, '@BrightGroup_USA': False, '@Bright_Group': False, '@FL_Childrens': False, '@FaberChildrens': False, '@AnimalStudio1': False, '@HMHKids': False, '@bedfordcollege': False, '@Candlewick': False, '@MottFree': False, 'foam': False, \"lady's\": False, 'mob': False, 'false': False, '@GeoffCrowther1': False, '@Goldenorfephoto': False, 'persons': False, 'bulletin': False, 'Spring': False, 'Fiesta': False, 'Noise': False, 'Awuuuuuuuuuuuuuuuuuuuuuuuuuuuuuuuuuuuuuuuuu': False, 'Aich': False, '#rudramadevi': False, '#anushka': False, '@RanaDaggubati': False, '#Gunashekar': False, 'harryxhood': False, 'Ooh': False, 'Humanist': False, 'Reader': False, 'Username': False, 'Changed': False, 'Rape': False, '#CSRRacing': False, '@Nutsflipped_z_1': False, '@Medina9996': False, 'hygiene': False, 'tose': False, 'temperature': False, '@mattturner102': False, '@NTYorkshire': False, 'braving': False, '#GES2015Kenya': False, '@r77ank': False, 'tidy': False, '#HagerGang': False, 't-shirt': False, '@hunnest12': False, 'ChanHun': False, 'individual': False, 'photoshoot': False, 'afterall': False, '@NKWarraich': False, 'Sadkaay': False, 'Tharkness': False, 'peak': False, '@F_O_R_E_S_TBOY': False, 'WEll': False, 'heatwave': False, 'lowered': False, 'standards': False, 'x25': False, 'Exams': False, '@jayyycgee': False, 'recruited': False, 'Doom': False, 'Nasty': False, 'Crew': False, 'affiliated': False, 'situated': False, '@Hijay09': False, '@yamunakrish3': False, '@oppentrapp': False, '@JCMag82': False, '64': False, '74': False, '00': False, 'Hall': False, 'Ted': False, 'slideshow': False, '🌚': False, '@rhutapatil': False, '@CptFrantastic': False, 'tentatively': False, 'nibbling': False, 'Ivy': False, 'Sho': False, '#Angel': False, '@shraddhaa9': False, '@Yolandy': False, '@Veho': False, '@sweetnuskie': False, 'OTH': False, 'thanked': False, '@RSkrillex': False, '@kiranmanral': False, '@TurkeyIndia': False, '@TurkishAirlines': False, '@TK_INDIA': False, '@sid_travel': False, '@NabilahJKT48': False, '#NgarepFollbackDariNabilahJKT48': False, '@kentonchristina': False, 'applies': False, 'sunglasses': False, 'sunnies': False, '@johnsonef184562': False, '@DMedibot': False, '@vinitneo': False, '@CoralKeers': False, '@CharlieL87': False, 'Jlo': False, 'Forever': False, 'JLovers': False, 'Turkey': False, '#Goodafternoon': False, '@zakky12345': False, '@kajen_bhavya': False, 'Imagine': False, 'aayegi': False, 'Timming': False, 'wiw': False, 'Bips': False, 'Zareen': False, 'Daisy': False, \"B'coz\": False, 'timming': False, 'karte': False, '@annisast': False, 'mak': False, 'lega': False, '#marketing': False, '#branding': False, '@nikkiaston': False, '@DonnaMatton': False, 'spag': False, '@RolfeW': False, '@ocecad34': False, 'boat': False, 'outboarding': False, 'reboarding': False, 'firing': False, 'offboarding': False, '#HR': False, '@Lee_Chetwynd': False, 'SN16': False, '9DG': False, 'signs': False, '@shawill73': False, 'Fly': False, '@yashjejani': False, 'trades': False, 'bnf': False, '@TraderAdda': False, '@PaulCarella': False, 'Rob': False, 'Feb': False, '@theborderline': False, '#VictoriaSecret': False, '#store': False, '#open': False, '#Finland': False, '#Helsinki': False, '#airport': False, '@OFCPangakoSayo': False, 'SWEET': False, 'Both': False, 'Beyond': False, '@nixdeedavid': False, 'onting': False, 'tiis': False, \"u'll\": False, '@PrinSlays': False, '@samloughlin40': False, '@MyRhodia': False, 'Bell': False, 'Prescott': False, 'Upside': False, '@forcommoncause': False, '@AyaiZafri': False, '#SelamatHariRaya': False, '#lovesummertime': False, 'Duke': False, 'Dumont': False, 'Official': False, 'Jax': False, 'Jones': False, '@smilebcbye': False, 'awesomeee': False, 'x24': False, '@scorp84': False, 'Geoff': False, '@GPAssetFinance': False, '@BuyLocalVoucher': False, '@BeckettandCo': False, '@FrankHuntLondon': False, '@ellisonprinting': False, '@TheGastroClub': False, '@elitecleaning08': False, '@GetOutKids': False, '@Amm_Kelly': False, 'amazingly': False, 'talanted': False, '@ImJustKindle': False, 'android': False, 'vsco': False, '@NautiPawz': False, 'Thankies': False, '@UltimateWedMag': False, '@weddinghelperuk': False, '@W_W_WeddingBlog': False, '@WeddingIdeas_TV': False, '@thewedcommunity': False, '@KnowledgeMagIND': False, 'hash': False, '#IfIMeetAnAlien': False, 'Yaaay': False, '@glitchfish': False, '@RosieTheRunt': False, '@InokumaT': False, '@morrisblitz': False, '@MadJacksMorris': False, '@real_liam_payne': False, 'follbaaack': False, '@KrisWilliams81': False, 'cools': False, 'AZ': False, 'cauliflower': False, '@soKRISme': False, 'prinsesa': False, '@toots069': False, 'Yaaah': False, '@StepintolifeYvl': False, '@bahetiridham': False, '@sonamtillani': False, 'Sonaaaaaaa': False, 'ribs': False, '@truemuscle': False, '@SwallowUsDaily': False, \"Josephine's\": False, '@GuyLongworth': False, '@HyundaiIndia': False, 'Creta': False, 'Loads': False, '@IRMUK': False, '@theWordCardiff': False, '@judyetmkmma': False, 'Judy': False, '@TraveleadsUK': False, 'superb': False, '@NightingaleMCPE': False, 'Rakna': False, '@GallearBecca': False, 'whose': False, 'lineup': False, '@74369slacker': False, 'P90x': False, 'P90': False, '#Dishoom': False, '#Rajnigandha': False, '#song': False, 'Minju': False, 'rapper': False, 'lead': False, 'vocal': False, 'Yujin': False, 'maknae': False, '@LukeDAnello': False, 'Hawk': False, 'talkback': False, '@goldfrapp': False, '@himma85': False, 'listing': False, 'mostly': False, \"cinema's\": False, 'roads': False, '@ThatJessGirl92': False, '@sugarblaster': False, 'defend': False, 'atrocity': False, 'Pandimensional': False, 'manifestations': False, '@cyrilthecynic': False, 'Argos': False, '0345': False, '640': False, 'Nad': False, '@_kimikoo': False, 'plezzzz': False, 'asthma': False, 'inhaler': False, '@Bluegirl200345': False, 'goodluck': False, '@ClaireGibbsUK': False, 'HUNGER': False, 'GAMES': False}\n"
     ]
    }
   ],
   "source": [
    "def document_features(document, sentiment_features):\n",
    "    # make set list of all tokens in message\n",
    "    document_tokens = set(document)\n",
    "    features = {}\n",
    "    # for all features, check if feature is in message\n",
    "    for token in sentiment_features:\n",
    "        #make dictionary for message\n",
    "        features[token] = (token in document_tokens)\n",
    "    return features\n",
    "\n",
    "#test it on a sample sentence\n",
    "test_sentence = \"coding is fun with codecademy :)\".split(\" \")\n",
    "print(document_features(test_sentence, sentiment_features))"
   ]
  },
  {
   "cell_type": "markdown",
   "id": "7d8da44a-8925-4ada-b3c6-bd7f8121ca85",
   "metadata": {},
   "source": [
    "Now to creata a training and testing setand label them accordingly. 70% of the tweets will be used for training and the remaining 30% will be used for testing. The `random` library will be used to randomly choose tweets for the sets."
   ]
  },
  {
   "cell_type": "code",
   "execution_count": 78,
   "id": "1558a7de-f450-4d01-ac9d-9d37d8f99993",
   "metadata": {},
   "outputs": [],
   "source": [
    "# import random library\n",
    "import random\n",
    "\n",
    "# create positive and negative datasets from list of tokenized tweets\n",
    "positive_tw = [(tweet, \"Positive\") for tweet in positive_cleaned_tweets_list]\n",
    "negative_tw = [(tweet, \"Negative\") for tweet in negative_cleaned_tweets_list]\n",
    "\n",
    "# create combined dataset\n",
    "all_labeled_tweets = positive_tw + negative_tw\n",
    "\n",
    "#initialize the random number to get the same result every time\n",
    "random.seed(42)\n",
    "\n",
    "#shuffle order of dataset\n",
    "random.shuffle(all_labeled_tweets)\n",
    "\n",
    "#create list of (token, sentiment) pairs for all features in the tweets\n",
    "feature_set = [(document_features(d, sentiment_features),c) for (d,c) in all_labeled_tweets]\n",
    "#separate data into training and testing sets\n",
    "train_set, test_set = feature_set[:7000], feature_set[7000:]"
   ]
  },
  {
   "cell_type": "markdown",
   "id": "769f674d-d476-4bcc-afa6-dc1945198319",
   "metadata": {},
   "source": [
    "The `NaiveBayesClassifier` will be used with the training and testing set to build the sentiment model. The `classify()` method will be used to test performance of the model on the training set."
   ]
  },
  {
   "cell_type": "code",
   "execution_count": 80,
   "id": "35fcb01d-49d2-4c4d-8042-316142615bff",
   "metadata": {},
   "outputs": [
    {
     "name": "stdout",
     "output_type": "stream",
     "text": [
      "Model Accuracy is: 0.9963333333333333\n",
      "Most Informative Features\n",
      "                      :( = True           Negati : Positi =   2060.9 : 1.0\n",
      "                      :) = True           Positi : Negati =   1649.1 : 1.0\n",
      "                    miss = True           Negati : Positi =     31.1 : 1.0\n",
      "                     See = True           Positi : Negati =     29.3 : 1.0\n",
      "                     sad = True           Negati : Positi =     23.6 : 1.0\n",
      "                  THANKS = True           Negati : Positi =     22.6 : 1.0\n",
      "                  FOLLOW = True           Negati : Positi =     21.9 : 1.0\n",
      "                  Thanks = True           Positi : Negati =     21.1 : 1.0\n",
      "                     x15 = True           Negati : Positi =     19.9 : 1.0\n",
      "                 arrived = True           Positi : Negati =     17.6 : 1.0\n",
      "                 welcome = True           Positi : Negati =     17.2 : 1.0\n",
      "                   Thank = True           Positi : Negati =     17.0 : 1.0\n",
      "                     TOO = True           Negati : Positi =     14.4 : 1.0\n",
      "                  Friday = True           Positi : Negati =     13.9 : 1.0\n",
      "                  thanks = True           Positi : Negati =     13.2 : 1.0\n",
      "                    sick = True           Negati : Positi =     11.9 : 1.0\n",
      "                   tired = True           Negati : Positi =     11.5 : 1.0\n",
      "                    glad = True           Positi : Negati =     11.5 : 1.0\n",
      "                   loves = True           Positi : Negati =     11.4 : 1.0\n",
      "                     AND = True           Negati : Positi =     11.4 : 1.0\n",
      "None\n"
     ]
    }
   ],
   "source": [
    "# Import models\n",
    "from nltk import classify\n",
    "from nltk import NaiveBayesClassifier\n",
    "\n",
    "# instantiate classifier and fit to training data\n",
    "classifier = NaiveBayesClassifier.train(train_set)\n",
    "\n",
    "#evaluate model using classify function\n",
    "print('Model Accuracy is:', classify.accuracy(classifier,test_set))\n",
    "\n",
    "# display top 20 most informative features for prediction\n",
    "print(classifier.show_most_informative_features(20))"
   ]
  },
  {
   "cell_type": "markdown",
   "id": "cc4e159f-cd71-44a8-b61f-d6cd6ba60a8f",
   "metadata": {},
   "source": [
    "Now the model will be used to classify messages. One message will be tried before classifying the entire corpus."
   ]
  },
  {
   "cell_type": "code",
   "execution_count": 82,
   "id": "d1dad8dd-202e-406e-9a33-886e37f35121",
   "metadata": {},
   "outputs": [
    {
     "name": "stdout",
     "output_type": "stream",
     "text": [
      "['ll', 'go', 'yan', 'jiu', 'den', 'msg', 'u', '...']\n",
      "Positive\n"
     ]
    }
   ],
   "source": [
    "# select one message to classify\n",
    "sample_message = str(sms_df['Message_tokenized'][34])\n",
    "print(sample_message)\n",
    "\n",
    "# print prediction of message\n",
    "print(classifier.classify(dict([token, True] for token in sample_message)))"
   ]
  },
  {
   "cell_type": "markdown",
   "id": "d41a89a0-9026-4ca7-9d74-ce3c87c5765a",
   "metadata": {},
   "source": [
    "The sentiment of the `34th` message is classified as positive based on the model."
   ]
  },
  {
   "cell_type": "markdown",
   "id": "f40e29ba-ce71-4bd9-ba41-67f0a668a156",
   "metadata": {},
   "source": [
    "Now to classify the rest of the messages in the corpus"
   ]
  },
  {
   "cell_type": "code",
   "execution_count": 85,
   "id": "35649a4a-5e15-4e84-b6de-58b637f19cf9",
   "metadata": {},
   "outputs": [
    {
     "data": {
      "text/plain": [
       "Sentiment\n",
       "Negative    28481\n",
       "Positive    20114\n",
       "Name: count, dtype: int64"
      ]
     },
     "execution_count": 85,
     "metadata": {},
     "output_type": "execute_result"
    }
   ],
   "source": [
    "# create empty list\n",
    "sentiments = []\n",
    "\n",
    "# iterate through column and predict each message's sentiment and append to list\n",
    "for message in sms_df['Message_tokenized']:\n",
    "    sentiments.append(str(classifier.classify(dict([token, True] for token in message))))\n",
    "\n",
    "# add list back to dataframe\n",
    "sms_df['Sentiment'] = sentiments\n",
    "\n",
    "sms_df['Sentiment'].value_counts()"
   ]
  },
  {
   "cell_type": "code",
   "execution_count": 86,
   "id": "0b2f924c-49fa-4e85-8045-e0137991914c",
   "metadata": {},
   "outputs": [
    {
     "data": {
      "text/plain": [
       "Sentiment\n",
       "Negative    0.586089\n",
       "Positive    0.413911\n",
       "Name: proportion, dtype: float64"
      ]
     },
     "execution_count": 86,
     "metadata": {},
     "output_type": "execute_result"
    }
   ],
   "source": [
    "# proportiion of data that is positive or negative\n",
    "sms_df['Sentiment'].value_counts(normalize=True)"
   ]
  },
  {
   "cell_type": "code",
   "execution_count": 87,
   "id": "4d092650-6a25-4de6-afe2-37b5ca6d6e41",
   "metadata": {},
   "outputs": [
    {
     "data": {
      "text/plain": [
       "<Axes: xlabel='Sentiment', ylabel='count'>"
      ]
     },
     "execution_count": 87,
     "metadata": {},
     "output_type": "execute_result"
    },
    {
     "data": {
      "image/png": "[encoded data removed]",
      "text/plain": [
       "<Figure size 640x480 with 1 Axes>"
      ]
     },
     "metadata": {},
     "output_type": "display_data"
    }
   ],
   "source": [
    "# view distribution in a count plot\n",
    "sns.countplot(x='Sentiment', data=sms_df, hue='Sentiment', legend=False)"
   ]
  },
  {
   "cell_type": "markdown",
   "id": "472158a8-6940-4b4a-8e2c-68ee9e28889c",
   "metadata": {},
   "source": [
    "The model predicts 58.6% of the messages as negative and 41.39% as positive.\n",
    "\n",
    "Now the sentiment will be compared by country. To do this sentiment will be transformed to a numeric value. Positve messages will be assigned a '1' and negative messages will be assigned a '-1'. "
   ]
  },
  {
   "cell_type": "code",
   "execution_count": 89,
   "id": "505dd566-04ce-4320-9994-36a21e04aee5",
   "metadata": {},
   "outputs": [
    {
     "data": {
      "text/html": [
       "<div>\n",
       "<style scoped>\n",
       "    .dataframe tbody tr th:only-of-type {\n",
       "        vertical-align: middle;\n",
       "    }\n",
       "\n",
       "    .dataframe tbody tr th {\n",
       "        vertical-align: top;\n",
       "    }\n",
       "\n",
       "    .dataframe thead th {\n",
       "        text-align: right;\n",
       "    }\n",
       "</style>\n",
       "<table border=\"1\" class=\"dataframe\">\n",
       "  <thead>\n",
       "    <tr style=\"text-align: right;\">\n",
       "      <th></th>\n",
       "      <th>Unnamed: 0</th>\n",
       "      <th>id</th>\n",
       "      <th>Message</th>\n",
       "      <th>length</th>\n",
       "      <th>country</th>\n",
       "      <th>Date</th>\n",
       "      <th>Message_cleaned</th>\n",
       "      <th>Message_tokenized</th>\n",
       "      <th>Sentiment</th>\n",
       "      <th>Sentiment_score</th>\n",
       "    </tr>\n",
       "  </thead>\n",
       "  <tbody>\n",
       "    <tr>\n",
       "      <th>0</th>\n",
       "      <td>0</td>\n",
       "      <td>10120</td>\n",
       "      <td>Bugis oso near wat...</td>\n",
       "      <td>21</td>\n",
       "      <td>Singapore</td>\n",
       "      <td>2003/4</td>\n",
       "      <td>bugis oso near wat...</td>\n",
       "      <td>[bugis, oso, near, wat, ...]</td>\n",
       "      <td>Negative</td>\n",
       "      <td>-1</td>\n",
       "    </tr>\n",
       "    <tr>\n",
       "      <th>1</th>\n",
       "      <td>1</td>\n",
       "      <td>10121</td>\n",
       "      <td>Go until jurong point, crazy.. Available only ...</td>\n",
       "      <td>111</td>\n",
       "      <td>Singapore</td>\n",
       "      <td>2003/4</td>\n",
       "      <td>go until jurong point, crazy.. available only ...</td>\n",
       "      <td>[go, until, jurong, point, ,, crazy, .., avail...</td>\n",
       "      <td>Negative</td>\n",
       "      <td>-1</td>\n",
       "    </tr>\n",
       "    <tr>\n",
       "      <th>2</th>\n",
       "      <td>2</td>\n",
       "      <td>10122</td>\n",
       "      <td>I dunno until when... Lets go learn pilates...</td>\n",
       "      <td>46</td>\n",
       "      <td>Singapore</td>\n",
       "      <td>2003/4</td>\n",
       "      <td>i dunno until when... lets go learn pilates...</td>\n",
       "      <td>[i, dunno, until, when, ..., lets, go, learn, ...</td>\n",
       "      <td>Negative</td>\n",
       "      <td>-1</td>\n",
       "    </tr>\n",
       "    <tr>\n",
       "      <th>3</th>\n",
       "      <td>3</td>\n",
       "      <td>10123</td>\n",
       "      <td>Den only weekdays got special price... Haiz......</td>\n",
       "      <td>140</td>\n",
       "      <td>Singapore</td>\n",
       "      <td>2003/4</td>\n",
       "      <td>den only weekdays got special price... haiz......</td>\n",
       "      <td>[den, only, weekdays, got, special, price, ......</td>\n",
       "      <td>Negative</td>\n",
       "      <td>-1</td>\n",
       "    </tr>\n",
       "    <tr>\n",
       "      <th>4</th>\n",
       "      <td>4</td>\n",
       "      <td>10124</td>\n",
       "      <td>Meet after lunch la...</td>\n",
       "      <td>22</td>\n",
       "      <td>Singapore</td>\n",
       "      <td>2003/4</td>\n",
       "      <td>meet after lunch la...</td>\n",
       "      <td>[meet, after, lunch, la, ...]</td>\n",
       "      <td>Negative</td>\n",
       "      <td>-1</td>\n",
       "    </tr>\n",
       "  </tbody>\n",
       "</table>\n",
       "</div>"
      ],
      "text/plain": [
       "   Unnamed: 0     id                                            Message  \\\n",
       "0           0  10120                              Bugis oso near wat...   \n",
       "1           1  10121  Go until jurong point, crazy.. Available only ...   \n",
       "2           2  10122     I dunno until when... Lets go learn pilates...   \n",
       "3           3  10123  Den only weekdays got special price... Haiz......   \n",
       "4           4  10124                             Meet after lunch la...   \n",
       "\n",
       "  length    country    Date  \\\n",
       "0     21  Singapore  2003/4   \n",
       "1    111  Singapore  2003/4   \n",
       "2     46  Singapore  2003/4   \n",
       "3    140  Singapore  2003/4   \n",
       "4     22  Singapore  2003/4   \n",
       "\n",
       "                                     Message_cleaned  \\\n",
       "0                              bugis oso near wat...   \n",
       "1  go until jurong point, crazy.. available only ...   \n",
       "2     i dunno until when... lets go learn pilates...   \n",
       "3  den only weekdays got special price... haiz......   \n",
       "4                             meet after lunch la...   \n",
       "\n",
       "                                   Message_tokenized Sentiment  \\\n",
       "0                       [bugis, oso, near, wat, ...]  Negative   \n",
       "1  [go, until, jurong, point, ,, crazy, .., avail...  Negative   \n",
       "2  [i, dunno, until, when, ..., lets, go, learn, ...  Negative   \n",
       "3  [den, only, weekdays, got, special, price, ......  Negative   \n",
       "4                      [meet, after, lunch, la, ...]  Negative   \n",
       "\n",
       "   Sentiment_score  \n",
       "0               -1  \n",
       "1               -1  \n",
       "2               -1  \n",
       "3               -1  \n",
       "4               -1  "
      ]
     },
     "execution_count": 89,
     "metadata": {},
     "output_type": "execute_result"
    }
   ],
   "source": [
    "# Define a function to convert sentiment into binary values\n",
    "def convert_sentiment(sentiment):\n",
    "    \"\"\"\n",
    "    Takes in sentiments, and converts them to binary values.\n",
    "    \"\"\"\n",
    "    if sentiment == 'Positive':\n",
    "        return 1\n",
    "    else:\n",
    "        return -1\n",
    "\n",
    "# Create new feature based on the values returned from function\n",
    "sms_df['Sentiment_score'] = sms_df['Sentiment'].apply(convert_sentiment)\n",
    "#check \n",
    "sms_df.head()"
   ]
  },
  {
   "cell_type": "markdown",
   "id": "fe5495a8-8973-4d20-9a0d-3a1897b5616a",
   "metadata": {},
   "source": [
    "Now to group by country and get mean sentiment score for each country"
   ]
  },
  {
   "cell_type": "code",
   "execution_count": 91,
   "id": "108411f0-273c-46ca-a820-705761af7926",
   "metadata": {},
   "outputs": [
    {
     "data": {
      "text/html": [
       "<div>\n",
       "<style scoped>\n",
       "    .dataframe tbody tr th:only-of-type {\n",
       "        vertical-align: middle;\n",
       "    }\n",
       "\n",
       "    .dataframe tbody tr th {\n",
       "        vertical-align: top;\n",
       "    }\n",
       "\n",
       "    .dataframe thead th {\n",
       "        text-align: right;\n",
       "    }\n",
       "</style>\n",
       "<table border=\"1\" class=\"dataframe\">\n",
       "  <thead>\n",
       "    <tr style=\"text-align: right;\">\n",
       "      <th></th>\n",
       "      <th>country</th>\n",
       "      <th>Sentiment_score</th>\n",
       "    </tr>\n",
       "  </thead>\n",
       "  <tbody>\n",
       "    <tr>\n",
       "      <th>0</th>\n",
       "      <td>Australia</td>\n",
       "      <td>0.333333</td>\n",
       "    </tr>\n",
       "    <tr>\n",
       "      <th>1</th>\n",
       "      <td>Bangladesh</td>\n",
       "      <td>-0.031746</td>\n",
       "    </tr>\n",
       "    <tr>\n",
       "      <th>2</th>\n",
       "      <td>Barbados</td>\n",
       "      <td>-1.000000</td>\n",
       "    </tr>\n",
       "    <tr>\n",
       "      <th>3</th>\n",
       "      <td>Canada</td>\n",
       "      <td>-0.161616</td>\n",
       "    </tr>\n",
       "    <tr>\n",
       "      <th>4</th>\n",
       "      <td>China</td>\n",
       "      <td>0.028037</td>\n",
       "    </tr>\n",
       "  </tbody>\n",
       "</table>\n",
       "</div>"
      ],
      "text/plain": [
       "      country  Sentiment_score\n",
       "0   Australia         0.333333\n",
       "1  Bangladesh        -0.031746\n",
       "2    Barbados        -1.000000\n",
       "3      Canada        -0.161616\n",
       "4       China         0.028037"
      ]
     },
     "execution_count": 91,
     "metadata": {},
     "output_type": "execute_result"
    }
   ],
   "source": [
    "#create a new dataframe grouped by countries and aggregated by the mean.\n",
    "df_sent = sms_df.groupby(['country'])['Sentiment_score'].mean()\n",
    "\n",
    "#reset the index\n",
    "df_sent = df_sent.reset_index()\n",
    "\n",
    "df_sent.head()"
   ]
  },
  {
   "cell_type": "code",
   "execution_count": 92,
   "id": "e0c13fae-ca8b-4116-bcca-2745806682da",
   "metadata": {},
   "outputs": [
    {
     "data": {
      "text/html": [
       "<div>\n",
       "<style scoped>\n",
       "    .dataframe tbody tr th:only-of-type {\n",
       "        vertical-align: middle;\n",
       "    }\n",
       "\n",
       "    .dataframe tbody tr th {\n",
       "        vertical-align: top;\n",
       "    }\n",
       "\n",
       "    .dataframe thead th {\n",
       "        text-align: right;\n",
       "    }\n",
       "</style>\n",
       "<table border=\"1\" class=\"dataframe\">\n",
       "  <thead>\n",
       "    <tr style=\"text-align: right;\">\n",
       "      <th></th>\n",
       "      <th>country</th>\n",
       "      <th>Sentiment_score</th>\n",
       "    </tr>\n",
       "  </thead>\n",
       "  <tbody>\n",
       "    <tr>\n",
       "      <th>2</th>\n",
       "      <td>Barbados</td>\n",
       "      <td>-1.000000</td>\n",
       "    </tr>\n",
       "    <tr>\n",
       "      <th>13</th>\n",
       "      <td>Lebanon</td>\n",
       "      <td>-0.600000</td>\n",
       "    </tr>\n",
       "    <tr>\n",
       "      <th>19</th>\n",
       "      <td>Nigeria</td>\n",
       "      <td>-0.600000</td>\n",
       "    </tr>\n",
       "    <tr>\n",
       "      <th>29</th>\n",
       "      <td>Turkey</td>\n",
       "      <td>-0.600000</td>\n",
       "    </tr>\n",
       "    <tr>\n",
       "      <th>22</th>\n",
       "      <td>Romania</td>\n",
       "      <td>-0.555556</td>\n",
       "    </tr>\n",
       "    <tr>\n",
       "      <th>11</th>\n",
       "      <td>Jamaica</td>\n",
       "      <td>-0.500000</td>\n",
       "    </tr>\n",
       "    <tr>\n",
       "      <th>10</th>\n",
       "      <td>Italia</td>\n",
       "      <td>-0.400000</td>\n",
       "    </tr>\n",
       "    <tr>\n",
       "      <th>24</th>\n",
       "      <td>Singapore</td>\n",
       "      <td>-0.263287</td>\n",
       "    </tr>\n",
       "    <tr>\n",
       "      <th>25</th>\n",
       "      <td>Slovenia</td>\n",
       "      <td>-0.200000</td>\n",
       "    </tr>\n",
       "    <tr>\n",
       "      <th>14</th>\n",
       "      <td>Macedonia</td>\n",
       "      <td>-0.200000</td>\n",
       "    </tr>\n",
       "    <tr>\n",
       "      <th>3</th>\n",
       "      <td>Canada</td>\n",
       "      <td>-0.161616</td>\n",
       "    </tr>\n",
       "    <tr>\n",
       "      <th>7</th>\n",
       "      <td>Hungary</td>\n",
       "      <td>-0.142857</td>\n",
       "    </tr>\n",
       "    <tr>\n",
       "      <th>21</th>\n",
       "      <td>Philippines</td>\n",
       "      <td>-0.134328</td>\n",
       "    </tr>\n",
       "    <tr>\n",
       "      <th>15</th>\n",
       "      <td>Malaysia</td>\n",
       "      <td>-0.105606</td>\n",
       "    </tr>\n",
       "    <tr>\n",
       "      <th>31</th>\n",
       "      <td>United States</td>\n",
       "      <td>-0.064789</td>\n",
       "    </tr>\n",
       "    <tr>\n",
       "      <th>1</th>\n",
       "      <td>Bangladesh</td>\n",
       "      <td>-0.031746</td>\n",
       "    </tr>\n",
       "    <tr>\n",
       "      <th>32</th>\n",
       "      <td>Unknown</td>\n",
       "      <td>-0.023256</td>\n",
       "    </tr>\n",
       "    <tr>\n",
       "      <th>4</th>\n",
       "      <td>China</td>\n",
       "      <td>0.028037</td>\n",
       "    </tr>\n",
       "    <tr>\n",
       "      <th>8</th>\n",
       "      <td>India</td>\n",
       "      <td>0.038814</td>\n",
       "    </tr>\n",
       "    <tr>\n",
       "      <th>9</th>\n",
       "      <td>Indonesia</td>\n",
       "      <td>0.083333</td>\n",
       "    </tr>\n",
       "    <tr>\n",
       "      <th>30</th>\n",
       "      <td>United Kingdom</td>\n",
       "      <td>0.100000</td>\n",
       "    </tr>\n",
       "    <tr>\n",
       "      <th>27</th>\n",
       "      <td>Sri Lanka</td>\n",
       "      <td>0.109838</td>\n",
       "    </tr>\n",
       "    <tr>\n",
       "      <th>6</th>\n",
       "      <td>Ghana</td>\n",
       "      <td>0.111111</td>\n",
       "    </tr>\n",
       "    <tr>\n",
       "      <th>20</th>\n",
       "      <td>Pakistan</td>\n",
       "      <td>0.155792</td>\n",
       "    </tr>\n",
       "    <tr>\n",
       "      <th>23</th>\n",
       "      <td>Serbia</td>\n",
       "      <td>0.181818</td>\n",
       "    </tr>\n",
       "    <tr>\n",
       "      <th>18</th>\n",
       "      <td>New Zealand</td>\n",
       "      <td>0.200000</td>\n",
       "    </tr>\n",
       "    <tr>\n",
       "      <th>5</th>\n",
       "      <td>France</td>\n",
       "      <td>0.200000</td>\n",
       "    </tr>\n",
       "    <tr>\n",
       "      <th>0</th>\n",
       "      <td>Australia</td>\n",
       "      <td>0.333333</td>\n",
       "    </tr>\n",
       "    <tr>\n",
       "      <th>16</th>\n",
       "      <td>Morocco</td>\n",
       "      <td>0.333333</td>\n",
       "    </tr>\n",
       "    <tr>\n",
       "      <th>17</th>\n",
       "      <td>Nepal</td>\n",
       "      <td>0.384615</td>\n",
       "    </tr>\n",
       "    <tr>\n",
       "      <th>12</th>\n",
       "      <td>Kenya</td>\n",
       "      <td>0.400000</td>\n",
       "    </tr>\n",
       "    <tr>\n",
       "      <th>28</th>\n",
       "      <td>Trinidad and Tobago</td>\n",
       "      <td>0.600000</td>\n",
       "    </tr>\n",
       "    <tr>\n",
       "      <th>26</th>\n",
       "      <td>Spain</td>\n",
       "      <td>0.600000</td>\n",
       "    </tr>\n",
       "  </tbody>\n",
       "</table>\n",
       "</div>"
      ],
      "text/plain": [
       "                country  Sentiment_score\n",
       "2              Barbados        -1.000000\n",
       "13              Lebanon        -0.600000\n",
       "19              Nigeria        -0.600000\n",
       "29               Turkey        -0.600000\n",
       "22              Romania        -0.555556\n",
       "11              Jamaica        -0.500000\n",
       "10               Italia        -0.400000\n",
       "24            Singapore        -0.263287\n",
       "25             Slovenia        -0.200000\n",
       "14            Macedonia        -0.200000\n",
       "3                Canada        -0.161616\n",
       "7               Hungary        -0.142857\n",
       "21          Philippines        -0.134328\n",
       "15             Malaysia        -0.105606\n",
       "31        United States        -0.064789\n",
       "1            Bangladesh        -0.031746\n",
       "32              Unknown        -0.023256\n",
       "4                 China         0.028037\n",
       "8                 India         0.038814\n",
       "9             Indonesia         0.083333\n",
       "30       United Kingdom         0.100000\n",
       "27            Sri Lanka         0.109838\n",
       "6                 Ghana         0.111111\n",
       "20             Pakistan         0.155792\n",
       "23               Serbia         0.181818\n",
       "18          New Zealand         0.200000\n",
       "5                France         0.200000\n",
       "0             Australia         0.333333\n",
       "16              Morocco         0.333333\n",
       "17                Nepal         0.384615\n",
       "12                Kenya         0.400000\n",
       "28  Trinidad and Tobago         0.600000\n",
       "26                Spain         0.600000"
      ]
     },
     "execution_count": 92,
     "metadata": {},
     "output_type": "execute_result"
    }
   ],
   "source": [
    "# Sort DataFrame by Sentiment_score\n",
    "df_sent.sort_values(by='Sentiment_score') "
   ]
  },
  {
   "cell_type": "markdown",
   "id": "39f71e05-9062-49f7-81f8-9ae49cd4fa0c",
   "metadata": {},
   "source": [
    "Now to plot sentiment by country see which countries are the most postive/negative"
   ]
  },
  {
   "cell_type": "code",
   "execution_count": 94,
   "id": "c39b8922-dcac-4b01-84e6-8f4e20e60760",
   "metadata": {},
   "outputs": [
    {
     "data": {
      "image/png": "[encoded data removed]",
      "text/plain": [
       "<Figure size 4000x1500 with 1 Axes>"
      ]
     },
     "metadata": {},
     "output_type": "display_data"
    }
   ],
   "source": [
    "# Plot general sentiments\n",
    "fix, ax = plt.subplots(figsize=(40,15))\n",
    "sns.barplot(x='country', y='Sentiment_score', data=df_sent, ax=ax, color='lightseagreen')\n",
    "plt.show()"
   ]
  },
  {
   "cell_type": "markdown",
   "id": "35f2d4dc-997c-483a-8825-7f0b91d865ed",
   "metadata": {},
   "source": [
    "# 2. Length and Readability Analysis"
   ]
  },
  {
   "cell_type": "markdown",
   "id": "7a09f5da-8c91-4968-a8a0-17d0eeaed4f4",
   "metadata": {},
   "source": [
    "We will now analyze the length of the messages and determine the complexity of the text, whether it is simple or complex."
   ]
  },
  {
   "cell_type": "code",
   "execution_count": 97,
   "id": "b6cc6ed9-0cf2-4c63-8e46-24ba870344d3",
   "metadata": {},
   "outputs": [
    {
     "name": "stdout",
     "output_type": "stream",
     "text": [
      "count     48595\n",
      "unique      470\n",
      "top          20\n",
      "freq        861\n",
      "Name: length, dtype: object\n"
     ]
    }
   ],
   "source": [
    "# Summary statistics\n",
    "char_count_summary = sms_df['length'].describe()\n",
    "print(char_count_summary)"
   ]
  },
  {
   "cell_type": "markdown",
   "id": "a9d19b73-396b-4e6e-95b5-d70bc36a94d5",
   "metadata": {},
   "source": [
    "To do readabiltiy analysis we will use the `textstat` library of Python"
   ]
  },
  {
   "cell_type": "code",
   "execution_count": 99,
   "id": "0243bced-72e5-4977-b34b-e738161fb938",
   "metadata": {},
   "outputs": [],
   "source": [
    "# import textstat library\n",
    "import textstat"
   ]
  },
  {
   "cell_type": "code",
   "execution_count": 111,
   "id": "fc4880d8-311e-44b3-bd2f-4aeeff310d2b",
   "metadata": {},
   "outputs": [
    {
     "data": {
      "text/html": [
       "<div>\n",
       "<style scoped>\n",
       "    .dataframe tbody tr th:only-of-type {\n",
       "        vertical-align: middle;\n",
       "    }\n",
       "\n",
       "    .dataframe tbody tr th {\n",
       "        vertical-align: top;\n",
       "    }\n",
       "\n",
       "    .dataframe thead th {\n",
       "        text-align: right;\n",
       "    }\n",
       "</style>\n",
       "<table border=\"1\" class=\"dataframe\">\n",
       "  <thead>\n",
       "    <tr style=\"text-align: right;\">\n",
       "      <th></th>\n",
       "      <th>flesch_reading_ease</th>\n",
       "      <th>smog_index</th>\n",
       "      <th>flesch_kincaid_grade</th>\n",
       "      <th>coleman_liau_index</th>\n",
       "      <th>automated_readability_index</th>\n",
       "      <th>dale_chall_readability_score</th>\n",
       "      <th>difficult_words</th>\n",
       "      <th>linsear_write_formula</th>\n",
       "      <th>gunning_fog</th>\n",
       "      <th>text_standard</th>\n",
       "    </tr>\n",
       "  </thead>\n",
       "  <tbody>\n",
       "    <tr>\n",
       "      <th>0</th>\n",
       "      <td>118.18</td>\n",
       "      <td>0.0</td>\n",
       "      <td>-2.3</td>\n",
       "      <td>-1.46</td>\n",
       "      <td>1.8</td>\n",
       "      <td>15.68</td>\n",
       "      <td>0</td>\n",
       "      <td>1.000000</td>\n",
       "      <td>1.60</td>\n",
       "      <td>1st and 2nd grade</td>\n",
       "    </tr>\n",
       "    <tr>\n",
       "      <th>1</th>\n",
       "      <td>90.05</td>\n",
       "      <td>3.1</td>\n",
       "      <td>2.4</td>\n",
       "      <td>3.83</td>\n",
       "      <td>3.6</td>\n",
       "      <td>11.86</td>\n",
       "      <td>3</td>\n",
       "      <td>2.333333</td>\n",
       "      <td>2.68</td>\n",
       "      <td>2nd and 3rd grade</td>\n",
       "    </tr>\n",
       "    <tr>\n",
       "      <th>2</th>\n",
       "      <td>84.34</td>\n",
       "      <td>0.0</td>\n",
       "      <td>2.5</td>\n",
       "      <td>0.75</td>\n",
       "      <td>3.6</td>\n",
       "      <td>9.76</td>\n",
       "      <td>2</td>\n",
       "      <td>1.000000</td>\n",
       "      <td>1.60</td>\n",
       "      <td>0th and 1st grade</td>\n",
       "    </tr>\n",
       "    <tr>\n",
       "      <th>3</th>\n",
       "      <td>96.89</td>\n",
       "      <td>3.1</td>\n",
       "      <td>1.8</td>\n",
       "      <td>4.54</td>\n",
       "      <td>4.6</td>\n",
       "      <td>10.36</td>\n",
       "      <td>3</td>\n",
       "      <td>3.166667</td>\n",
       "      <td>3.32</td>\n",
       "      <td>4th and 5th grade</td>\n",
       "    </tr>\n",
       "    <tr>\n",
       "      <th>4</th>\n",
       "      <td>92.80</td>\n",
       "      <td>0.0</td>\n",
       "      <td>1.3</td>\n",
       "      <td>0.00</td>\n",
       "      <td>2.9</td>\n",
       "      <td>7.78</td>\n",
       "      <td>0</td>\n",
       "      <td>1.000000</td>\n",
       "      <td>1.60</td>\n",
       "      <td>-1th and 0th grade</td>\n",
       "    </tr>\n",
       "  </tbody>\n",
       "</table>\n",
       "</div>"
      ],
      "text/plain": [
       "   flesch_reading_ease  smog_index  flesch_kincaid_grade  coleman_liau_index  \\\n",
       "0               118.18         0.0                  -2.3               -1.46   \n",
       "1                90.05         3.1                   2.4                3.83   \n",
       "2                84.34         0.0                   2.5                0.75   \n",
       "3                96.89         3.1                   1.8                4.54   \n",
       "4                92.80         0.0                   1.3                0.00   \n",
       "\n",
       "   automated_readability_index  dale_chall_readability_score  difficult_words  \\\n",
       "0                          1.8                         15.68                0   \n",
       "1                          3.6                         11.86                3   \n",
       "2                          3.6                          9.76                2   \n",
       "3                          4.6                         10.36                3   \n",
       "4                          2.9                          7.78                0   \n",
       "\n",
       "   linsear_write_formula  gunning_fog       text_standard  \n",
       "0               1.000000         1.60   1st and 2nd grade  \n",
       "1               2.333333         2.68   2nd and 3rd grade  \n",
       "2               1.000000         1.60   0th and 1st grade  \n",
       "3               3.166667         3.32   4th and 5th grade  \n",
       "4               1.000000         1.60  -1th and 0th grade  "
      ]
     },
     "execution_count": 111,
     "metadata": {},
     "output_type": "execute_result"
    }
   ],
   "source": [
    "#define function to calculate readability scores\n",
    "def calculate_readability_scores(text):\n",
    "    scores = {\n",
    "        'flesch_reading_ease': textstat.flesch_reading_ease(text),\n",
    "        'smog_index': textstat.smog_index(text),\n",
    "        'flesch_kincaid_grade': textstat.flesch_kincaid_grade(text),\n",
    "        'coleman_liau_index': textstat.coleman_liau_index(text),\n",
    "        'automated_readability_index': textstat.automated_readability_index(text),\n",
    "        'dale_chall_readability_score': textstat.dale_chall_readability_score(text),\n",
    "        'difficult_words': textstat.difficult_words(text),\n",
    "        'linsear_write_formula': textstat.linsear_write_formula(text),\n",
    "        'gunning_fog': textstat.gunning_fog(text),\n",
    "        'text_standard': textstat.text_standard(text)\n",
    "    }\n",
    "    return scores\n",
    "\n",
    "# Apply readability scores to each message\n",
    "readability_scores = sms_df['Message_cleaned'].apply(lambda text: calculate_readability_scores(str(text)))\n",
    "\n",
    "# Convert the readability scores to a DataFrame\n",
    "readability_df = pd.DataFrame(list(readability_scores))\n",
    "readability_df.head()"
   ]
  },
  {
   "cell_type": "code",
   "execution_count": 115,
   "id": "dac53def-4c9a-4e19-b7b6-9527cf1747ad",
   "metadata": {},
   "outputs": [
    {
     "data": {
      "text/html": [
       "<div>\n",
       "<style scoped>\n",
       "    .dataframe tbody tr th:only-of-type {\n",
       "        vertical-align: middle;\n",
       "    }\n",
       "\n",
       "    .dataframe tbody tr th {\n",
       "        vertical-align: top;\n",
       "    }\n",
       "\n",
       "    .dataframe thead th {\n",
       "        text-align: right;\n",
       "    }\n",
       "</style>\n",
       "<table border=\"1\" class=\"dataframe\">\n",
       "  <thead>\n",
       "    <tr style=\"text-align: right;\">\n",
       "      <th></th>\n",
       "      <th>flesch_reading_ease</th>\n",
       "      <th>smog_index</th>\n",
       "      <th>flesch_kincaid_grade</th>\n",
       "      <th>coleman_liau_index</th>\n",
       "      <th>automated_readability_index</th>\n",
       "      <th>dale_chall_readability_score</th>\n",
       "      <th>difficult_words</th>\n",
       "      <th>linsear_write_formula</th>\n",
       "      <th>gunning_fog</th>\n",
       "    </tr>\n",
       "  </thead>\n",
       "  <tbody>\n",
       "    <tr>\n",
       "      <th>count</th>\n",
       "      <td>48598.000000</td>\n",
       "      <td>48598.000000</td>\n",
       "      <td>48598.000000</td>\n",
       "      <td>48598.000000</td>\n",
       "      <td>48598.000000</td>\n",
       "      <td>48598.000000</td>\n",
       "      <td>48598.000000</td>\n",
       "      <td>48598.000000</td>\n",
       "      <td>48598.000000</td>\n",
       "    </tr>\n",
       "    <tr>\n",
       "      <th>mean</th>\n",
       "      <td>94.876661</td>\n",
       "      <td>0.777456</td>\n",
       "      <td>1.602317</td>\n",
       "      <td>-0.258100</td>\n",
       "      <td>1.678721</td>\n",
       "      <td>10.358333</td>\n",
       "      <td>1.246821</td>\n",
       "      <td>2.528886</td>\n",
       "      <td>3.694154</td>\n",
       "    </tr>\n",
       "    <tr>\n",
       "      <th>std</th>\n",
       "      <td>28.331389</td>\n",
       "      <td>2.098587</td>\n",
       "      <td>4.199393</td>\n",
       "      <td>8.364183</td>\n",
       "      <td>6.854139</td>\n",
       "      <td>5.035716</td>\n",
       "      <td>1.697062</td>\n",
       "      <td>2.272459</td>\n",
       "      <td>3.668134</td>\n",
       "    </tr>\n",
       "    <tr>\n",
       "      <th>min</th>\n",
       "      <td>-1316.990000</td>\n",
       "      <td>0.000000</td>\n",
       "      <td>-15.700000</td>\n",
       "      <td>-39.610000</td>\n",
       "      <td>-16.300000</td>\n",
       "      <td>0.000000</td>\n",
       "      <td>0.000000</td>\n",
       "      <td>-1.000000</td>\n",
       "      <td>0.000000</td>\n",
       "    </tr>\n",
       "    <tr>\n",
       "      <th>25%</th>\n",
       "      <td>84.680000</td>\n",
       "      <td>0.000000</td>\n",
       "      <td>-1.000000</td>\n",
       "      <td>-3.170000</td>\n",
       "      <td>-1.700000</td>\n",
       "      <td>7.780000</td>\n",
       "      <td>0.000000</td>\n",
       "      <td>1.000000</td>\n",
       "      <td>1.600000</td>\n",
       "    </tr>\n",
       "    <tr>\n",
       "      <th>50%</th>\n",
       "      <td>98.210000</td>\n",
       "      <td>0.000000</td>\n",
       "      <td>1.300000</td>\n",
       "      <td>0.450000</td>\n",
       "      <td>1.100000</td>\n",
       "      <td>9.950000</td>\n",
       "      <td>1.000000</td>\n",
       "      <td>2.000000</td>\n",
       "      <td>2.400000</td>\n",
       "    </tr>\n",
       "    <tr>\n",
       "      <th>75%</th>\n",
       "      <td>113.100000</td>\n",
       "      <td>0.000000</td>\n",
       "      <td>3.300000</td>\n",
       "      <td>3.690000</td>\n",
       "      <td>3.900000</td>\n",
       "      <td>12.790000</td>\n",
       "      <td>2.000000</td>\n",
       "      <td>3.500000</td>\n",
       "      <td>4.670000</td>\n",
       "    </tr>\n",
       "    <tr>\n",
       "      <th>max</th>\n",
       "      <td>206.840000</td>\n",
       "      <td>14.100000</td>\n",
       "      <td>197.200000</td>\n",
       "      <td>424.400000</td>\n",
       "      <td>360.600000</td>\n",
       "      <td>130.010000</td>\n",
       "      <td>26.000000</td>\n",
       "      <td>36.000000</td>\n",
       "      <td>41.200000</td>\n",
       "    </tr>\n",
       "  </tbody>\n",
       "</table>\n",
       "</div>"
      ],
      "text/plain": [
       "       flesch_reading_ease    smog_index  flesch_kincaid_grade  \\\n",
       "count         48598.000000  48598.000000          48598.000000   \n",
       "mean             94.876661      0.777456              1.602317   \n",
       "std              28.331389      2.098587              4.199393   \n",
       "min           -1316.990000      0.000000            -15.700000   \n",
       "25%              84.680000      0.000000             -1.000000   \n",
       "50%              98.210000      0.000000              1.300000   \n",
       "75%             113.100000      0.000000              3.300000   \n",
       "max             206.840000     14.100000            197.200000   \n",
       "\n",
       "       coleman_liau_index  automated_readability_index  \\\n",
       "count        48598.000000                 48598.000000   \n",
       "mean            -0.258100                     1.678721   \n",
       "std              8.364183                     6.854139   \n",
       "min            -39.610000                   -16.300000   \n",
       "25%             -3.170000                    -1.700000   \n",
       "50%              0.450000                     1.100000   \n",
       "75%              3.690000                     3.900000   \n",
       "max            424.400000                   360.600000   \n",
       "\n",
       "       dale_chall_readability_score  difficult_words  linsear_write_formula  \\\n",
       "count                  48598.000000     48598.000000           48598.000000   \n",
       "mean                      10.358333         1.246821               2.528886   \n",
       "std                        5.035716         1.697062               2.272459   \n",
       "min                        0.000000         0.000000              -1.000000   \n",
       "25%                        7.780000         0.000000               1.000000   \n",
       "50%                        9.950000         1.000000               2.000000   \n",
       "75%                       12.790000         2.000000               3.500000   \n",
       "max                      130.010000        26.000000              36.000000   \n",
       "\n",
       "        gunning_fog  \n",
       "count  48598.000000  \n",
       "mean       3.694154  \n",
       "std        3.668134  \n",
       "min        0.000000  \n",
       "25%        1.600000  \n",
       "50%        2.400000  \n",
       "75%        4.670000  \n",
       "max       41.200000  "
      ]
     },
     "execution_count": 115,
     "metadata": {},
     "output_type": "execute_result"
    }
   ],
   "source": [
    "# Summary statistics for each readability score\n",
    "readability_summary = readability_df.describe()\n",
    "readability_summary"
   ]
  },
  {
   "cell_type": "code",
   "execution_count": 117,
   "id": "bf4a4e17-7a8c-4f71-a4e2-ad1154db5005",
   "metadata": {},
   "outputs": [
    {
     "data": {
      "text/plain": [
       "text_standard\n",
       "-1th and 0th grade       10465\n",
       "1st and 2nd grade         9129\n",
       "2nd and 3rd grade         7130\n",
       "0th and 1st grade         7046\n",
       "3rd and 4th grade         4363\n",
       "4th and 5th grade         2630\n",
       "5th and 6th grade         2206\n",
       "6th and 7th grade         1062\n",
       "7th and 8th grade          853\n",
       "8th and 9th grade          721\n",
       "-3th and -2th grade        625\n",
       "-4th and -3th grade        471\n",
       "9th and 10th grade         429\n",
       "11th and 12th grade        336\n",
       "12th and 13th grade        300\n",
       "10th and 11th grade        179\n",
       "-2th and -1th grade        149\n",
       "14th and 15th grade        131\n",
       "-5th and -4th grade         78\n",
       "19th and 20th grade         73\n",
       "13th and 14th grade         41\n",
       "15th and 16th grade         29\n",
       "20th and 21st grade         20\n",
       "16th and 17th grade         17\n",
       "31st and 32nd grade         16\n",
       "17th and 18th grade         15\n",
       "43rd and 44th grade         12\n",
       "18th and 19th grade         12\n",
       "26th and 27th grade          6\n",
       "21st and 22nd grade          6\n",
       "55th and 56th grade          6\n",
       "22nd and 23rd grade          5\n",
       "24th and 25th grade          5\n",
       "25th and 26th grade          3\n",
       "27th and 28th grade          3\n",
       "-6th and -5th grade          3\n",
       "33rd and 34th grade          3\n",
       "23rd and 24th grade          2\n",
       "-7rd and -6th grade          2\n",
       "35th and 36th grade          2\n",
       "79th and 80th grade          1\n",
       "114th and 115th grade        1\n",
       "85th and 86th grade          1\n",
       "-9st and -8nd grade          1\n",
       "161st and 162nd grade        1\n",
       "102nd and 103rd grade        1\n",
       "38th and 39th grade          1\n",
       "40th and 41st grade          1\n",
       "64th and 65th grade          1\n",
       "34th and 35th grade          1\n",
       "44th and 45th grade          1\n",
       "47th and 48th grade          1\n",
       "28th and 29th grade          1\n",
       "173rd and 174th grade        1\n",
       "Name: count, dtype: int64"
      ]
     },
     "execution_count": 117,
     "metadata": {},
     "output_type": "execute_result"
    }
   ],
   "source": [
    "readability_df['text_standard'].value_counts()"
   ]
  },
  {
   "cell_type": "code",
   "execution_count": 119,
   "id": "018a1418-dc2d-4f3d-ac43-e35fae54c3ca",
   "metadata": {},
   "outputs": [
    {
     "data": {
      "image/png": "[encoded data removed]",
      "text/plain": [
       "<Figure size 1000x600 with 1 Axes>"
      ]
     },
     "metadata": {},
     "output_type": "display_data"
    }
   ],
   "source": [
    "plt.figure(figsize=(10, 6))\n",
    "sns.boxplot(x=readability_df['flesch_reading_ease'])\n",
    "plt.title('Boxplot of Flesch Reading Ease Score')\n",
    "plt.xlabel('Flesch Reading Ease Score')\n",
    "plt.show()\n"
   ]
  },
  {
   "cell_type": "markdown",
   "id": "b47003c8-33e7-47f4-9710-0c445ecc5147",
   "metadata": {},
   "source": [
    "Most of the text are of low grade in terms of the text standard being around -1th to 0th grade. Based on the Flesch Reading Ease Score most the messages are at least readable can be easily understood by the average person, though there are a large amount of outliers that have very low readability."
   ]
  }
 ],
 "metadata": {
  "kernelspec": {
   "display_name": "Python 3 (ipykernel)",
   "language": "python",
   "name": "python3"
  },
  "language_info": {
   "codemirror_mode": {
    "name": "ipython",
    "version": 3
   },
   "file_extension": ".py",
   "mimetype": "text/x-python",
   "name": "python",
   "nbconvert_exporter": "python",
   "pygments_lexer": "ipython3",
   "version": "3.11.7"
  }
 },
 "nbformat": 4,
 "nbformat_minor": 5
}
